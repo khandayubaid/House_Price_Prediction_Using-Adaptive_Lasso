{
 "cells": [
  {
   "cell_type": "markdown",
   "metadata": {},
   "source": [
    "   ##                    Preprocessing Of Data"
   ]
  },
  {
   "cell_type": "code",
   "execution_count": 1,
   "metadata": {},
   "outputs": [],
   "source": [
    "import pandas as pd\n",
    "import numpy as np\n",
    "import matplotlib.pyplot as plt\n",
    "import seaborn as sns"
   ]
  },
  {
   "cell_type": "code",
   "execution_count": 2,
   "metadata": {},
   "outputs": [
    {
     "name": "stderr",
     "output_type": "stream",
     "text": [
      "C:\\Users\\ubaid\\Anaconda3\\lib\\site-packages\\sklearn\\linear_model\\least_angle.py:30: DeprecationWarning: `np.float` is a deprecated alias for the builtin `float`. To silence this warning, use `float` by itself. Doing this will not modify any behavior and is safe. If you specifically wanted the numpy scalar type, use `np.float64` here.\n",
      "Deprecated in NumPy 1.20; for more details and guidance: https://numpy.org/devdocs/release/1.20.0-notes.html#deprecations\n",
      "  method='lar', copy_X=True, eps=np.finfo(np.float).eps,\n",
      "C:\\Users\\ubaid\\Anaconda3\\lib\\site-packages\\sklearn\\linear_model\\least_angle.py:167: DeprecationWarning: `np.float` is a deprecated alias for the builtin `float`. To silence this warning, use `float` by itself. Doing this will not modify any behavior and is safe. If you specifically wanted the numpy scalar type, use `np.float64` here.\n",
      "Deprecated in NumPy 1.20; for more details and guidance: https://numpy.org/devdocs/release/1.20.0-notes.html#deprecations\n",
      "  method='lar', copy_X=True, eps=np.finfo(np.float).eps,\n",
      "C:\\Users\\ubaid\\Anaconda3\\lib\\site-packages\\sklearn\\linear_model\\least_angle.py:284: DeprecationWarning: `np.float` is a deprecated alias for the builtin `float`. To silence this warning, use `float` by itself. Doing this will not modify any behavior and is safe. If you specifically wanted the numpy scalar type, use `np.float64` here.\n",
      "Deprecated in NumPy 1.20; for more details and guidance: https://numpy.org/devdocs/release/1.20.0-notes.html#deprecations\n",
      "  eps=np.finfo(np.float).eps, copy_Gram=True, verbose=0,\n",
      "C:\\Users\\ubaid\\Anaconda3\\lib\\site-packages\\sklearn\\linear_model\\least_angle.py:862: DeprecationWarning: `np.float` is a deprecated alias for the builtin `float`. To silence this warning, use `float` by itself. Doing this will not modify any behavior and is safe. If you specifically wanted the numpy scalar type, use `np.float64` here.\n",
      "Deprecated in NumPy 1.20; for more details and guidance: https://numpy.org/devdocs/release/1.20.0-notes.html#deprecations\n",
      "  eps=np.finfo(np.float).eps, copy_X=True, fit_path=True,\n",
      "C:\\Users\\ubaid\\Anaconda3\\lib\\site-packages\\sklearn\\linear_model\\least_angle.py:1101: DeprecationWarning: `np.float` is a deprecated alias for the builtin `float`. To silence this warning, use `float` by itself. Doing this will not modify any behavior and is safe. If you specifically wanted the numpy scalar type, use `np.float64` here.\n",
      "Deprecated in NumPy 1.20; for more details and guidance: https://numpy.org/devdocs/release/1.20.0-notes.html#deprecations\n",
      "  eps=np.finfo(np.float).eps, copy_X=True, fit_path=True,\n",
      "C:\\Users\\ubaid\\Anaconda3\\lib\\site-packages\\sklearn\\linear_model\\least_angle.py:1127: DeprecationWarning: `np.float` is a deprecated alias for the builtin `float`. To silence this warning, use `float` by itself. Doing this will not modify any behavior and is safe. If you specifically wanted the numpy scalar type, use `np.float64` here.\n",
      "Deprecated in NumPy 1.20; for more details and guidance: https://numpy.org/devdocs/release/1.20.0-notes.html#deprecations\n",
      "  eps=np.finfo(np.float).eps, positive=False):\n",
      "C:\\Users\\ubaid\\Anaconda3\\lib\\site-packages\\sklearn\\linear_model\\least_angle.py:1362: DeprecationWarning: `np.float` is a deprecated alias for the builtin `float`. To silence this warning, use `float` by itself. Doing this will not modify any behavior and is safe. If you specifically wanted the numpy scalar type, use `np.float64` here.\n",
      "Deprecated in NumPy 1.20; for more details and guidance: https://numpy.org/devdocs/release/1.20.0-notes.html#deprecations\n",
      "  max_n_alphas=1000, n_jobs=None, eps=np.finfo(np.float).eps,\n",
      "C:\\Users\\ubaid\\Anaconda3\\lib\\site-packages\\sklearn\\linear_model\\least_angle.py:1602: DeprecationWarning: `np.float` is a deprecated alias for the builtin `float`. To silence this warning, use `float` by itself. Doing this will not modify any behavior and is safe. If you specifically wanted the numpy scalar type, use `np.float64` here.\n",
      "Deprecated in NumPy 1.20; for more details and guidance: https://numpy.org/devdocs/release/1.20.0-notes.html#deprecations\n",
      "  max_n_alphas=1000, n_jobs=None, eps=np.finfo(np.float).eps,\n",
      "C:\\Users\\ubaid\\Anaconda3\\lib\\site-packages\\sklearn\\linear_model\\least_angle.py:1738: DeprecationWarning: `np.float` is a deprecated alias for the builtin `float`. To silence this warning, use `float` by itself. Doing this will not modify any behavior and is safe. If you specifically wanted the numpy scalar type, use `np.float64` here.\n",
      "Deprecated in NumPy 1.20; for more details and guidance: https://numpy.org/devdocs/release/1.20.0-notes.html#deprecations\n",
      "  eps=np.finfo(np.float).eps, copy_X=True, positive=False):\n"
     ]
    }
   ],
   "source": [
    "from sklearn.model_selection import train_test_split\n",
    "from sklearn.linear_model import LinearRegression\n",
    "from sklearn.metrics import mean_squared_error"
   ]
  },
  {
   "cell_type": "code",
   "execution_count": 3,
   "metadata": {},
   "outputs": [],
   "source": [
    "data=pd.read_csv('data.csv')"
   ]
  },
  {
   "cell_type": "code",
   "execution_count": 4,
   "metadata": {},
   "outputs": [
    {
     "data": {
      "text/html": [
       "<div>\n",
       "<style scoped>\n",
       "    .dataframe tbody tr th:only-of-type {\n",
       "        vertical-align: middle;\n",
       "    }\n",
       "\n",
       "    .dataframe tbody tr th {\n",
       "        vertical-align: top;\n",
       "    }\n",
       "\n",
       "    .dataframe thead th {\n",
       "        text-align: right;\n",
       "    }\n",
       "</style>\n",
       "<table border=\"1\" class=\"dataframe\">\n",
       "  <thead>\n",
       "    <tr style=\"text-align: right;\">\n",
       "      <th></th>\n",
       "      <th>date</th>\n",
       "      <th>price</th>\n",
       "      <th>bedrooms</th>\n",
       "      <th>bathrooms</th>\n",
       "      <th>sqft_living</th>\n",
       "      <th>sqft_lot</th>\n",
       "      <th>floors</th>\n",
       "      <th>waterfront</th>\n",
       "      <th>view</th>\n",
       "      <th>condition</th>\n",
       "      <th>sqft_above</th>\n",
       "      <th>sqft_basement</th>\n",
       "      <th>yr_built</th>\n",
       "      <th>yr_renovated</th>\n",
       "      <th>street</th>\n",
       "      <th>city</th>\n",
       "      <th>statezip</th>\n",
       "      <th>country</th>\n",
       "    </tr>\n",
       "  </thead>\n",
       "  <tbody>\n",
       "    <tr>\n",
       "      <th>0</th>\n",
       "      <td>2014-05-02 00:00:00</td>\n",
       "      <td>313000.0</td>\n",
       "      <td>3.0</td>\n",
       "      <td>1.50</td>\n",
       "      <td>1340</td>\n",
       "      <td>7912</td>\n",
       "      <td>1.5</td>\n",
       "      <td>0</td>\n",
       "      <td>0</td>\n",
       "      <td>3</td>\n",
       "      <td>1340</td>\n",
       "      <td>0</td>\n",
       "      <td>1955</td>\n",
       "      <td>2005</td>\n",
       "      <td>18810 Densmore Ave N</td>\n",
       "      <td>Shoreline</td>\n",
       "      <td>WA 98133</td>\n",
       "      <td>USA</td>\n",
       "    </tr>\n",
       "    <tr>\n",
       "      <th>1</th>\n",
       "      <td>2014-05-02 00:00:00</td>\n",
       "      <td>2384000.0</td>\n",
       "      <td>5.0</td>\n",
       "      <td>2.50</td>\n",
       "      <td>3650</td>\n",
       "      <td>9050</td>\n",
       "      <td>2.0</td>\n",
       "      <td>0</td>\n",
       "      <td>4</td>\n",
       "      <td>5</td>\n",
       "      <td>3370</td>\n",
       "      <td>280</td>\n",
       "      <td>1921</td>\n",
       "      <td>0</td>\n",
       "      <td>709 W Blaine St</td>\n",
       "      <td>Seattle</td>\n",
       "      <td>WA 98119</td>\n",
       "      <td>USA</td>\n",
       "    </tr>\n",
       "    <tr>\n",
       "      <th>2</th>\n",
       "      <td>2014-05-02 00:00:00</td>\n",
       "      <td>342000.0</td>\n",
       "      <td>3.0</td>\n",
       "      <td>2.00</td>\n",
       "      <td>1930</td>\n",
       "      <td>11947</td>\n",
       "      <td>1.0</td>\n",
       "      <td>0</td>\n",
       "      <td>0</td>\n",
       "      <td>4</td>\n",
       "      <td>1930</td>\n",
       "      <td>0</td>\n",
       "      <td>1966</td>\n",
       "      <td>0</td>\n",
       "      <td>26206-26214 143rd Ave SE</td>\n",
       "      <td>Kent</td>\n",
       "      <td>WA 98042</td>\n",
       "      <td>USA</td>\n",
       "    </tr>\n",
       "    <tr>\n",
       "      <th>3</th>\n",
       "      <td>2014-05-02 00:00:00</td>\n",
       "      <td>420000.0</td>\n",
       "      <td>3.0</td>\n",
       "      <td>2.25</td>\n",
       "      <td>2000</td>\n",
       "      <td>8030</td>\n",
       "      <td>1.0</td>\n",
       "      <td>0</td>\n",
       "      <td>0</td>\n",
       "      <td>4</td>\n",
       "      <td>1000</td>\n",
       "      <td>1000</td>\n",
       "      <td>1963</td>\n",
       "      <td>0</td>\n",
       "      <td>857 170th Pl NE</td>\n",
       "      <td>Bellevue</td>\n",
       "      <td>WA 98008</td>\n",
       "      <td>USA</td>\n",
       "    </tr>\n",
       "    <tr>\n",
       "      <th>4</th>\n",
       "      <td>2014-05-02 00:00:00</td>\n",
       "      <td>550000.0</td>\n",
       "      <td>4.0</td>\n",
       "      <td>2.50</td>\n",
       "      <td>1940</td>\n",
       "      <td>10500</td>\n",
       "      <td>1.0</td>\n",
       "      <td>0</td>\n",
       "      <td>0</td>\n",
       "      <td>4</td>\n",
       "      <td>1140</td>\n",
       "      <td>800</td>\n",
       "      <td>1976</td>\n",
       "      <td>1992</td>\n",
       "      <td>9105 170th Ave NE</td>\n",
       "      <td>Redmond</td>\n",
       "      <td>WA 98052</td>\n",
       "      <td>USA</td>\n",
       "    </tr>\n",
       "  </tbody>\n",
       "</table>\n",
       "</div>"
      ],
      "text/plain": [
       "                  date      price  bedrooms  bathrooms  sqft_living  sqft_lot  \\\n",
       "0  2014-05-02 00:00:00   313000.0       3.0       1.50         1340      7912   \n",
       "1  2014-05-02 00:00:00  2384000.0       5.0       2.50         3650      9050   \n",
       "2  2014-05-02 00:00:00   342000.0       3.0       2.00         1930     11947   \n",
       "3  2014-05-02 00:00:00   420000.0       3.0       2.25         2000      8030   \n",
       "4  2014-05-02 00:00:00   550000.0       4.0       2.50         1940     10500   \n",
       "\n",
       "   floors  waterfront  view  condition  sqft_above  sqft_basement  yr_built  \\\n",
       "0     1.5           0     0          3        1340              0      1955   \n",
       "1     2.0           0     4          5        3370            280      1921   \n",
       "2     1.0           0     0          4        1930              0      1966   \n",
       "3     1.0           0     0          4        1000           1000      1963   \n",
       "4     1.0           0     0          4        1140            800      1976   \n",
       "\n",
       "   yr_renovated                    street       city  statezip country  \n",
       "0          2005      18810 Densmore Ave N  Shoreline  WA 98133     USA  \n",
       "1             0           709 W Blaine St    Seattle  WA 98119     USA  \n",
       "2             0  26206-26214 143rd Ave SE       Kent  WA 98042     USA  \n",
       "3             0           857 170th Pl NE   Bellevue  WA 98008     USA  \n",
       "4          1992         9105 170th Ave NE    Redmond  WA 98052     USA  "
      ]
     },
     "execution_count": 4,
     "metadata": {},
     "output_type": "execute_result"
    }
   ],
   "source": [
    "data.head()"
   ]
  },
  {
   "cell_type": "code",
   "execution_count": 6,
   "metadata": {},
   "outputs": [
    {
     "data": {
      "text/html": [
       "<div>\n",
       "<style scoped>\n",
       "    .dataframe tbody tr th:only-of-type {\n",
       "        vertical-align: middle;\n",
       "    }\n",
       "\n",
       "    .dataframe tbody tr th {\n",
       "        vertical-align: top;\n",
       "    }\n",
       "\n",
       "    .dataframe thead th {\n",
       "        text-align: right;\n",
       "    }\n",
       "</style>\n",
       "<table border=\"1\" class=\"dataframe\">\n",
       "  <thead>\n",
       "    <tr style=\"text-align: right;\">\n",
       "      <th></th>\n",
       "      <th>count</th>\n",
       "      <th>mean</th>\n",
       "      <th>std</th>\n",
       "      <th>min</th>\n",
       "      <th>25%</th>\n",
       "      <th>50%</th>\n",
       "      <th>75%</th>\n",
       "      <th>max</th>\n",
       "    </tr>\n",
       "  </thead>\n",
       "  <tbody>\n",
       "    <tr>\n",
       "      <th>price</th>\n",
       "      <td>4600.0</td>\n",
       "      <td>551962.988473</td>\n",
       "      <td>563834.702547</td>\n",
       "      <td>0.0</td>\n",
       "      <td>322875.00</td>\n",
       "      <td>460943.461539</td>\n",
       "      <td>654962.50</td>\n",
       "      <td>26590000.0</td>\n",
       "    </tr>\n",
       "    <tr>\n",
       "      <th>bedrooms</th>\n",
       "      <td>4600.0</td>\n",
       "      <td>3.400870</td>\n",
       "      <td>0.908848</td>\n",
       "      <td>0.0</td>\n",
       "      <td>3.00</td>\n",
       "      <td>3.000000</td>\n",
       "      <td>4.00</td>\n",
       "      <td>9.0</td>\n",
       "    </tr>\n",
       "    <tr>\n",
       "      <th>bathrooms</th>\n",
       "      <td>4600.0</td>\n",
       "      <td>2.160815</td>\n",
       "      <td>0.783781</td>\n",
       "      <td>0.0</td>\n",
       "      <td>1.75</td>\n",
       "      <td>2.250000</td>\n",
       "      <td>2.50</td>\n",
       "      <td>8.0</td>\n",
       "    </tr>\n",
       "    <tr>\n",
       "      <th>sqft_living</th>\n",
       "      <td>4600.0</td>\n",
       "      <td>2139.346957</td>\n",
       "      <td>963.206916</td>\n",
       "      <td>370.0</td>\n",
       "      <td>1460.00</td>\n",
       "      <td>1980.000000</td>\n",
       "      <td>2620.00</td>\n",
       "      <td>13540.0</td>\n",
       "    </tr>\n",
       "    <tr>\n",
       "      <th>sqft_lot</th>\n",
       "      <td>4600.0</td>\n",
       "      <td>14852.516087</td>\n",
       "      <td>35884.436145</td>\n",
       "      <td>638.0</td>\n",
       "      <td>5000.75</td>\n",
       "      <td>7683.000000</td>\n",
       "      <td>11001.25</td>\n",
       "      <td>1074218.0</td>\n",
       "    </tr>\n",
       "    <tr>\n",
       "      <th>floors</th>\n",
       "      <td>4600.0</td>\n",
       "      <td>1.512065</td>\n",
       "      <td>0.538288</td>\n",
       "      <td>1.0</td>\n",
       "      <td>1.00</td>\n",
       "      <td>1.500000</td>\n",
       "      <td>2.00</td>\n",
       "      <td>3.5</td>\n",
       "    </tr>\n",
       "    <tr>\n",
       "      <th>waterfront</th>\n",
       "      <td>4600.0</td>\n",
       "      <td>0.007174</td>\n",
       "      <td>0.084404</td>\n",
       "      <td>0.0</td>\n",
       "      <td>0.00</td>\n",
       "      <td>0.000000</td>\n",
       "      <td>0.00</td>\n",
       "      <td>1.0</td>\n",
       "    </tr>\n",
       "    <tr>\n",
       "      <th>view</th>\n",
       "      <td>4600.0</td>\n",
       "      <td>0.240652</td>\n",
       "      <td>0.778405</td>\n",
       "      <td>0.0</td>\n",
       "      <td>0.00</td>\n",
       "      <td>0.000000</td>\n",
       "      <td>0.00</td>\n",
       "      <td>4.0</td>\n",
       "    </tr>\n",
       "    <tr>\n",
       "      <th>condition</th>\n",
       "      <td>4600.0</td>\n",
       "      <td>3.451739</td>\n",
       "      <td>0.677230</td>\n",
       "      <td>1.0</td>\n",
       "      <td>3.00</td>\n",
       "      <td>3.000000</td>\n",
       "      <td>4.00</td>\n",
       "      <td>5.0</td>\n",
       "    </tr>\n",
       "    <tr>\n",
       "      <th>sqft_above</th>\n",
       "      <td>4600.0</td>\n",
       "      <td>1827.265435</td>\n",
       "      <td>862.168977</td>\n",
       "      <td>370.0</td>\n",
       "      <td>1190.00</td>\n",
       "      <td>1590.000000</td>\n",
       "      <td>2300.00</td>\n",
       "      <td>9410.0</td>\n",
       "    </tr>\n",
       "    <tr>\n",
       "      <th>sqft_basement</th>\n",
       "      <td>4600.0</td>\n",
       "      <td>312.081522</td>\n",
       "      <td>464.137228</td>\n",
       "      <td>0.0</td>\n",
       "      <td>0.00</td>\n",
       "      <td>0.000000</td>\n",
       "      <td>610.00</td>\n",
       "      <td>4820.0</td>\n",
       "    </tr>\n",
       "    <tr>\n",
       "      <th>yr_built</th>\n",
       "      <td>4600.0</td>\n",
       "      <td>1970.786304</td>\n",
       "      <td>29.731848</td>\n",
       "      <td>1900.0</td>\n",
       "      <td>1951.00</td>\n",
       "      <td>1976.000000</td>\n",
       "      <td>1997.00</td>\n",
       "      <td>2014.0</td>\n",
       "    </tr>\n",
       "    <tr>\n",
       "      <th>yr_renovated</th>\n",
       "      <td>4600.0</td>\n",
       "      <td>808.608261</td>\n",
       "      <td>979.414536</td>\n",
       "      <td>0.0</td>\n",
       "      <td>0.00</td>\n",
       "      <td>0.000000</td>\n",
       "      <td>1999.00</td>\n",
       "      <td>2014.0</td>\n",
       "    </tr>\n",
       "  </tbody>\n",
       "</table>\n",
       "</div>"
      ],
      "text/plain": [
       "                count           mean            std     min        25%  \\\n",
       "price          4600.0  551962.988473  563834.702547     0.0  322875.00   \n",
       "bedrooms       4600.0       3.400870       0.908848     0.0       3.00   \n",
       "bathrooms      4600.0       2.160815       0.783781     0.0       1.75   \n",
       "sqft_living    4600.0    2139.346957     963.206916   370.0    1460.00   \n",
       "sqft_lot       4600.0   14852.516087   35884.436145   638.0    5000.75   \n",
       "floors         4600.0       1.512065       0.538288     1.0       1.00   \n",
       "waterfront     4600.0       0.007174       0.084404     0.0       0.00   \n",
       "view           4600.0       0.240652       0.778405     0.0       0.00   \n",
       "condition      4600.0       3.451739       0.677230     1.0       3.00   \n",
       "sqft_above     4600.0    1827.265435     862.168977   370.0    1190.00   \n",
       "sqft_basement  4600.0     312.081522     464.137228     0.0       0.00   \n",
       "yr_built       4600.0    1970.786304      29.731848  1900.0    1951.00   \n",
       "yr_renovated   4600.0     808.608261     979.414536     0.0       0.00   \n",
       "\n",
       "                         50%        75%         max  \n",
       "price          460943.461539  654962.50  26590000.0  \n",
       "bedrooms            3.000000       4.00         9.0  \n",
       "bathrooms           2.250000       2.50         8.0  \n",
       "sqft_living      1980.000000    2620.00     13540.0  \n",
       "sqft_lot         7683.000000   11001.25   1074218.0  \n",
       "floors              1.500000       2.00         3.5  \n",
       "waterfront          0.000000       0.00         1.0  \n",
       "view                0.000000       0.00         4.0  \n",
       "condition           3.000000       4.00         5.0  \n",
       "sqft_above       1590.000000    2300.00      9410.0  \n",
       "sqft_basement       0.000000     610.00      4820.0  \n",
       "yr_built         1976.000000    1997.00      2014.0  \n",
       "yr_renovated        0.000000    1999.00      2014.0  "
      ]
     },
     "execution_count": 6,
     "metadata": {},
     "output_type": "execute_result"
    }
   ],
   "source": [
    "data.describe().T"
   ]
  },
  {
   "cell_type": "code",
   "execution_count": 7,
   "metadata": {},
   "outputs": [
    {
     "data": {
      "text/plain": [
       "date             0\n",
       "price            0\n",
       "bedrooms         0\n",
       "bathrooms        0\n",
       "sqft_living      0\n",
       "sqft_lot         0\n",
       "floors           0\n",
       "waterfront       0\n",
       "view             0\n",
       "condition        0\n",
       "sqft_above       0\n",
       "sqft_basement    0\n",
       "yr_built         0\n",
       "yr_renovated     0\n",
       "street           0\n",
       "city             0\n",
       "statezip         0\n",
       "country          0\n",
       "dtype: int64"
      ]
     },
     "execution_count": 7,
     "metadata": {},
     "output_type": "execute_result"
    }
   ],
   "source": [
    "data.isnull().sum()"
   ]
  },
  {
   "cell_type": "code",
   "execution_count": 8,
   "metadata": {},
   "outputs": [
    {
     "name": "stdout",
     "output_type": "stream",
     "text": [
      "<class 'pandas.core.frame.DataFrame'>\n",
      "RangeIndex: 4600 entries, 0 to 4599\n",
      "Data columns (total 18 columns):\n",
      " #   Column         Non-Null Count  Dtype  \n",
      "---  ------         --------------  -----  \n",
      " 0   date           4600 non-null   object \n",
      " 1   price          4600 non-null   float64\n",
      " 2   bedrooms       4600 non-null   float64\n",
      " 3   bathrooms      4600 non-null   float64\n",
      " 4   sqft_living    4600 non-null   int64  \n",
      " 5   sqft_lot       4600 non-null   int64  \n",
      " 6   floors         4600 non-null   float64\n",
      " 7   waterfront     4600 non-null   int64  \n",
      " 8   view           4600 non-null   int64  \n",
      " 9   condition      4600 non-null   int64  \n",
      " 10  sqft_above     4600 non-null   int64  \n",
      " 11  sqft_basement  4600 non-null   int64  \n",
      " 12  yr_built       4600 non-null   int64  \n",
      " 13  yr_renovated   4600 non-null   int64  \n",
      " 14  street         4600 non-null   object \n",
      " 15  city           4600 non-null   object \n",
      " 16  statezip       4600 non-null   object \n",
      " 17  country        4600 non-null   object \n",
      "dtypes: float64(4), int64(9), object(5)\n",
      "memory usage: 647.0+ KB\n"
     ]
    }
   ],
   "source": [
    "data.info()"
   ]
  },
  {
   "cell_type": "code",
   "execution_count": 5,
   "metadata": {},
   "outputs": [],
   "source": [
    "data=data.drop(['date','street','statezip','country'],axis=1)"
   ]
  },
  {
   "cell_type": "code",
   "execution_count": 10,
   "metadata": {},
   "outputs": [],
   "source": [
    "#data=data.drop(['waterfront'],axis=1)"
   ]
  },
  {
   "cell_type": "code",
   "execution_count": 11,
   "metadata": {},
   "outputs": [],
   "source": [
    "#data['city']=pd.factorize(data['city'])[0]"
   ]
  },
  {
   "cell_type": "code",
   "execution_count": 6,
   "metadata": {},
   "outputs": [
    {
     "name": "stderr",
     "output_type": "stream",
     "text": [
      "C:\\Users\\ubaid\\Anaconda3\\lib\\site-packages\\sklearn\\decomposition\\online_lda.py:29: DeprecationWarning: `np.float` is a deprecated alias for the builtin `float`. To silence this warning, use `float` by itself. Doing this will not modify any behavior and is safe. If you specifically wanted the numpy scalar type, use `np.float64` here.\n",
      "Deprecated in NumPy 1.20; for more details and guidance: https://numpy.org/devdocs/release/1.20.0-notes.html#deprecations\n",
      "  EPS = np.finfo(np.float).eps\n"
     ]
    }
   ],
   "source": [
    "from sklearn.decomposition import PCA\n",
    "X = pd.get_dummies(data.city, prefix='City')\n",
    "pca = PCA(n_components=2)\n",
    "X_pca = pca.fit_transform(X)\n",
    "data['city_pca1'] = X_pca[:, 0]\n",
    "data['city_pca2'] = X_pca[:, 1]"
   ]
  },
  {
   "cell_type": "code",
   "execution_count": 7,
   "metadata": {},
   "outputs": [
    {
     "data": {
      "text/plain": [
       "price            0\n",
       "bedrooms         0\n",
       "bathrooms        0\n",
       "sqft_living      0\n",
       "sqft_lot         0\n",
       "floors           0\n",
       "waterfront       0\n",
       "view             0\n",
       "condition        0\n",
       "sqft_above       0\n",
       "sqft_basement    0\n",
       "yr_built         0\n",
       "yr_renovated     0\n",
       "city             0\n",
       "city_pca1        0\n",
       "city_pca2        0\n",
       "dtype: int64"
      ]
     },
     "execution_count": 7,
     "metadata": {},
     "output_type": "execute_result"
    }
   ],
   "source": [
    "data.isnull().sum()"
   ]
  },
  {
   "cell_type": "code",
   "execution_count": 8,
   "metadata": {},
   "outputs": [
    {
     "name": "stdout",
     "output_type": "stream",
     "text": [
      "<class 'pandas.core.frame.DataFrame'>\n",
      "RangeIndex: 4600 entries, 0 to 4599\n",
      "Data columns (total 16 columns):\n",
      " #   Column         Non-Null Count  Dtype  \n",
      "---  ------         --------------  -----  \n",
      " 0   price          4600 non-null   float64\n",
      " 1   bedrooms       4600 non-null   float64\n",
      " 2   bathrooms      4600 non-null   float64\n",
      " 3   sqft_living    4600 non-null   int64  \n",
      " 4   sqft_lot       4600 non-null   int64  \n",
      " 5   floors         4600 non-null   float64\n",
      " 6   waterfront     4600 non-null   int64  \n",
      " 7   view           4600 non-null   int64  \n",
      " 8   condition      4600 non-null   int64  \n",
      " 9   sqft_above     4600 non-null   int64  \n",
      " 10  sqft_basement  4600 non-null   int64  \n",
      " 11  yr_built       4600 non-null   int64  \n",
      " 12  yr_renovated   4600 non-null   int64  \n",
      " 13  city           4600 non-null   object \n",
      " 14  city_pca1      4600 non-null   float64\n",
      " 15  city_pca2      4600 non-null   float64\n",
      "dtypes: float64(6), int64(9), object(1)\n",
      "memory usage: 575.1+ KB\n"
     ]
    }
   ],
   "source": [
    "data.info()"
   ]
  },
  {
   "cell_type": "code",
   "execution_count": 15,
   "metadata": {},
   "outputs": [
    {
     "data": {
      "text/plain": [
       "Index(['price', 'bedrooms', 'bathrooms', 'sqft_living', 'sqft_lot', 'floors',\n",
       "       'waterfront', 'view', 'condition', 'sqft_above', 'sqft_basement',\n",
       "       'yr_built', 'yr_renovated', 'city', 'city_pca1', 'city_pca2'],\n",
       "      dtype='object')"
      ]
     },
     "execution_count": 15,
     "metadata": {},
     "output_type": "execute_result"
    }
   ],
   "source": [
    "data.columns"
   ]
  },
  {
   "cell_type": "code",
   "execution_count": 16,
   "metadata": {},
   "outputs": [
    {
     "data": {
      "text/plain": [
       "(4600, 16)"
      ]
     },
     "execution_count": 16,
     "metadata": {},
     "output_type": "execute_result"
    }
   ],
   "source": [
    "data.shape"
   ]
  },
  {
   "cell_type": "code",
   "execution_count": 9,
   "metadata": {},
   "outputs": [],
   "source": [
    "data['bedrooms']  = data['bedrooms'].astype('int64')\n",
    "data['floors']    = data['floors'].astype('int64')"
   ]
  },
  {
   "cell_type": "code",
   "execution_count": 18,
   "metadata": {},
   "outputs": [
    {
     "name": "stdout",
     "output_type": "stream",
     "text": [
      "<class 'pandas.core.frame.DataFrame'>\n",
      "RangeIndex: 4600 entries, 0 to 4599\n",
      "Data columns (total 16 columns):\n",
      " #   Column         Non-Null Count  Dtype  \n",
      "---  ------         --------------  -----  \n",
      " 0   price          4600 non-null   float64\n",
      " 1   bedrooms       4600 non-null   int64  \n",
      " 2   bathrooms      4600 non-null   float64\n",
      " 3   sqft_living    4600 non-null   int64  \n",
      " 4   sqft_lot       4600 non-null   int64  \n",
      " 5   floors         4600 non-null   int64  \n",
      " 6   waterfront     4600 non-null   int64  \n",
      " 7   view           4600 non-null   int64  \n",
      " 8   condition      4600 non-null   int64  \n",
      " 9   sqft_above     4600 non-null   int64  \n",
      " 10  sqft_basement  4600 non-null   int64  \n",
      " 11  yr_built       4600 non-null   int64  \n",
      " 12  yr_renovated   4600 non-null   int64  \n",
      " 13  city           4600 non-null   object \n",
      " 14  city_pca1      4600 non-null   float64\n",
      " 15  city_pca2      4600 non-null   float64\n",
      "dtypes: float64(4), int64(11), object(1)\n",
      "memory usage: 575.1+ KB\n"
     ]
    }
   ],
   "source": [
    "data.info()"
   ]
  },
  {
   "cell_type": "code",
   "execution_count": null,
   "metadata": {},
   "outputs": [],
   "source": []
  },
  {
   "cell_type": "markdown",
   "metadata": {},
   "source": [
    "## Exploratory Data Analysis"
   ]
  },
  {
   "cell_type": "markdown",
   "metadata": {},
   "source": [
    "#### How Price is Distributed"
   ]
  },
  {
   "cell_type": "code",
   "execution_count": 19,
   "metadata": {},
   "outputs": [
    {
     "data": {
      "image/png": "[encoded data removed]",
      "text/plain": [
       "<Figure size 432x288 with 1 Axes>"
      ]
     },
     "metadata": {
      "needs_background": "light"
     },
     "output_type": "display_data"
    }
   ],
   "source": [
    "data['price'].hist(bins=100)\n",
    "plt.xlabel(\"Price\")\n",
    "plt.ylabel(\"frequency\")\n",
    "plt.title(\"histogram of price\")\n",
    "plt.legend(\"Price\")\n",
    "plt.show()"
   ]
  },
  {
   "cell_type": "markdown",
   "metadata": {},
   "source": [
    "### Removing rows based on outliers"
   ]
  },
  {
   "cell_type": "code",
   "execution_count": 10,
   "metadata": {},
   "outputs": [
    {
     "data": {
      "text/plain": [
       "9"
      ]
     },
     "execution_count": 10,
     "metadata": {},
     "output_type": "execute_result"
    }
   ],
   "source": [
    "(data['price'] > 0.3e7).sum()"
   ]
  },
  {
   "cell_type": "code",
   "execution_count": null,
   "metadata": {},
   "outputs": [],
   "source": []
  },
  {
   "cell_type": "code",
   "execution_count": 21,
   "metadata": {},
   "outputs": [],
   "source": [
    "#Q1 = data['price'].quantile(0.25)\n",
    "#Q3 = data['price'].quantile(0.75)\n",
    "#IQR = Q3 - Q1\n"
   ]
  },
  {
   "cell_type": "code",
   "execution_count": 22,
   "metadata": {},
   "outputs": [],
   "source": [
    "#lower_bound = Q1 - 1.5 * IQR\n",
    "#upper_bound = Q3 + 1.5 * IQR\n"
   ]
  },
  {
   "cell_type": "code",
   "execution_count": 23,
   "metadata": {},
   "outputs": [],
   "source": [
    "#outliers = data[(data['price'] < lower_bound) | (data['price'] > upper_bound)]\n"
   ]
  },
  {
   "cell_type": "code",
   "execution_count": null,
   "metadata": {},
   "outputs": [],
   "source": []
  },
  {
   "cell_type": "code",
   "execution_count": 11,
   "metadata": {},
   "outputs": [],
   "source": [
    "data = data[~(data['price'] > 0.3e7)]"
   ]
  },
  {
   "cell_type": "markdown",
   "metadata": {},
   "source": [
    "#### Distribution of price after removel of outliers"
   ]
  },
  {
   "cell_type": "code",
   "execution_count": 25,
   "metadata": {},
   "outputs": [
    {
     "data": {
      "image/png": "[encoded data removed]",
      "text/plain": [
       "<Figure size 432x288 with 1 Axes>"
      ]
     },
     "metadata": {
      "needs_background": "light"
     },
     "output_type": "display_data"
    }
   ],
   "source": [
    "data['price'].hist(bins=100)\n",
    "plt.xlabel('Price')\n",
    "plt.ylabel('frequency')\n",
    "plt.title('Histogram of Price')\n",
    "plt.show()"
   ]
  },
  {
   "cell_type": "code",
   "execution_count": 26,
   "metadata": {},
   "outputs": [
    {
     "data": {
      "text/plain": [
       "3    2030\n",
       "4    1529\n",
       "2     566\n",
       "5     350\n",
       "6      60\n",
       "1      38\n",
       "7      13\n",
       "8       2\n",
       "0       2\n",
       "9       1\n",
       "Name: bedrooms, dtype: int64"
      ]
     },
     "execution_count": 26,
     "metadata": {},
     "output_type": "execute_result"
    }
   ],
   "source": [
    "bedrooms=data['bedrooms'].value_counts()\n",
    "bedrooms"
   ]
  },
  {
   "cell_type": "code",
   "execution_count": 27,
   "metadata": {},
   "outputs": [
    {
     "data": {
      "text/plain": [
       "1    2614\n",
       "2    1848\n",
       "3     129\n",
       "Name: floors, dtype: int64"
      ]
     },
     "execution_count": 27,
     "metadata": {},
     "output_type": "execute_result"
    }
   ],
   "source": [
    "floors=data['floors'].value_counts()\n",
    "floors"
   ]
  },
  {
   "cell_type": "code",
   "execution_count": 12,
   "metadata": {},
   "outputs": [
    {
     "data": {
      "text/plain": [
       "49"
      ]
     },
     "execution_count": 12,
     "metadata": {},
     "output_type": "execute_result"
    }
   ],
   "source": [
    "(data['price']==0).sum()"
   ]
  },
  {
   "cell_type": "code",
   "execution_count": 13,
   "metadata": {},
   "outputs": [],
   "source": [
    "data['price'].replace(0,np.nan,inplace=True)      #replacing 0's with nan"
   ]
  },
  {
   "cell_type": "code",
   "execution_count": 14,
   "metadata": {},
   "outputs": [],
   "source": [
    "data.dropna(inplace=True)"
   ]
  },
  {
   "cell_type": "code",
   "execution_count": 31,
   "metadata": {},
   "outputs": [],
   "source": [
    "#data['price'].fillna(value=data['price'].mean(),inplace=True)"
   ]
  },
  {
   "cell_type": "code",
   "execution_count": 32,
   "metadata": {},
   "outputs": [],
   "source": [
    "#(data['waterfront']==0).sum()"
   ]
  },
  {
   "cell_type": "code",
   "execution_count": null,
   "metadata": {},
   "outputs": [],
   "source": []
  },
  {
   "cell_type": "code",
   "execution_count": null,
   "metadata": {},
   "outputs": [],
   "source": []
  },
  {
   "cell_type": "code",
   "execution_count": 33,
   "metadata": {},
   "outputs": [
    {
     "data": {
      "text/plain": [
       "Index(['price', 'bedrooms', 'bathrooms', 'sqft_living', 'sqft_lot', 'floors',\n",
       "       'waterfront', 'view', 'condition', 'sqft_above', 'sqft_basement',\n",
       "       'yr_built', 'yr_renovated', 'city', 'city_pca1', 'city_pca2'],\n",
       "      dtype='object')"
      ]
     },
     "execution_count": 33,
     "metadata": {},
     "output_type": "execute_result"
    }
   ],
   "source": [
    "data.columns"
   ]
  },
  {
   "cell_type": "code",
   "execution_count": 15,
   "metadata": {},
   "outputs": [
    {
     "data": {
      "text/html": [
       "<div>\n",
       "<style scoped>\n",
       "    .dataframe tbody tr th:only-of-type {\n",
       "        vertical-align: middle;\n",
       "    }\n",
       "\n",
       "    .dataframe tbody tr th {\n",
       "        vertical-align: top;\n",
       "    }\n",
       "\n",
       "    .dataframe thead th {\n",
       "        text-align: right;\n",
       "    }\n",
       "</style>\n",
       "<table border=\"1\" class=\"dataframe\">\n",
       "  <thead>\n",
       "    <tr style=\"text-align: right;\">\n",
       "      <th></th>\n",
       "      <th>price</th>\n",
       "      <th>bedrooms</th>\n",
       "      <th>bathrooms</th>\n",
       "      <th>sqft_living</th>\n",
       "      <th>sqft_lot</th>\n",
       "      <th>floors</th>\n",
       "      <th>waterfront</th>\n",
       "      <th>view</th>\n",
       "      <th>condition</th>\n",
       "      <th>sqft_above</th>\n",
       "      <th>sqft_basement</th>\n",
       "      <th>yr_built</th>\n",
       "      <th>yr_renovated</th>\n",
       "      <th>city</th>\n",
       "      <th>city_pca1</th>\n",
       "      <th>city_pca2</th>\n",
       "    </tr>\n",
       "  </thead>\n",
       "  <tbody>\n",
       "  </tbody>\n",
       "</table>\n",
       "</div>"
      ],
      "text/plain": [
       "Empty DataFrame\n",
       "Columns: [price, bedrooms, bathrooms, sqft_living, sqft_lot, floors, waterfront, view, condition, sqft_above, sqft_basement, yr_built, yr_renovated, city, city_pca1, city_pca2]\n",
       "Index: []"
      ]
     },
     "execution_count": 15,
     "metadata": {},
     "output_type": "execute_result"
    }
   ],
   "source": [
    "duplicates = data[data.duplicated()]\n",
    "duplicates"
   ]
  },
  {
   "cell_type": "code",
   "execution_count": 35,
   "metadata": {},
   "outputs": [
    {
     "data": {
      "text/html": [
       "<div>\n",
       "<style scoped>\n",
       "    .dataframe tbody tr th:only-of-type {\n",
       "        vertical-align: middle;\n",
       "    }\n",
       "\n",
       "    .dataframe tbody tr th {\n",
       "        vertical-align: top;\n",
       "    }\n",
       "\n",
       "    .dataframe thead th {\n",
       "        text-align: right;\n",
       "    }\n",
       "</style>\n",
       "<table border=\"1\" class=\"dataframe\">\n",
       "  <thead>\n",
       "    <tr style=\"text-align: right;\">\n",
       "      <th></th>\n",
       "      <th>price</th>\n",
       "      <th>bedrooms</th>\n",
       "      <th>bathrooms</th>\n",
       "      <th>sqft_living</th>\n",
       "      <th>sqft_lot</th>\n",
       "      <th>floors</th>\n",
       "      <th>waterfront</th>\n",
       "      <th>view</th>\n",
       "      <th>condition</th>\n",
       "      <th>sqft_above</th>\n",
       "      <th>sqft_basement</th>\n",
       "      <th>yr_built</th>\n",
       "      <th>yr_renovated</th>\n",
       "      <th>city_pca1</th>\n",
       "      <th>city_pca2</th>\n",
       "    </tr>\n",
       "  </thead>\n",
       "  <tbody>\n",
       "    <tr>\n",
       "      <th>count</th>\n",
       "      <td>4.542000e+03</td>\n",
       "      <td>4542.000000</td>\n",
       "      <td>4542.000000</td>\n",
       "      <td>4542.000000</td>\n",
       "      <td>4.542000e+03</td>\n",
       "      <td>4542.000000</td>\n",
       "      <td>4542.000000</td>\n",
       "      <td>4542.000000</td>\n",
       "      <td>4542.000000</td>\n",
       "      <td>4542.000000</td>\n",
       "      <td>4542.000000</td>\n",
       "      <td>4542.000000</td>\n",
       "      <td>4542.000000</td>\n",
       "      <td>4542.000000</td>\n",
       "      <td>4542.000000</td>\n",
       "    </tr>\n",
       "    <tr>\n",
       "      <th>mean</th>\n",
       "      <td>5.437057e+05</td>\n",
       "      <td>3.392118</td>\n",
       "      <td>2.151255</td>\n",
       "      <td>2124.428886</td>\n",
       "      <td>1.482228e+04</td>\n",
       "      <td>1.458829</td>\n",
       "      <td>0.006165</td>\n",
       "      <td>0.231616</td>\n",
       "      <td>3.448921</td>\n",
       "      <td>1817.153457</td>\n",
       "      <td>307.275429</td>\n",
       "      <td>1970.790841</td>\n",
       "      <td>808.402466</td>\n",
       "      <td>0.001219</td>\n",
       "      <td>0.000741</td>\n",
       "    </tr>\n",
       "    <tr>\n",
       "      <th>std</th>\n",
       "      <td>3.343186e+05</td>\n",
       "      <td>0.902008</td>\n",
       "      <td>0.769943</td>\n",
       "      <td>931.881656</td>\n",
       "      <td>3.599441e+04</td>\n",
       "      <td>0.552028</td>\n",
       "      <td>0.078282</td>\n",
       "      <td>0.760211</td>\n",
       "      <td>0.675107</td>\n",
       "      <td>843.027175</td>\n",
       "      <td>453.452628</td>\n",
       "      <td>29.759690</td>\n",
       "      <td>979.383266</td>\n",
       "      <td>0.488016</td>\n",
       "      <td>0.250880</td>\n",
       "    </tr>\n",
       "    <tr>\n",
       "      <th>min</th>\n",
       "      <td>7.800000e+03</td>\n",
       "      <td>0.000000</td>\n",
       "      <td>0.000000</td>\n",
       "      <td>370.000000</td>\n",
       "      <td>6.380000e+02</td>\n",
       "      <td>1.000000</td>\n",
       "      <td>0.000000</td>\n",
       "      <td>0.000000</td>\n",
       "      <td>1.000000</td>\n",
       "      <td>370.000000</td>\n",
       "      <td>0.000000</td>\n",
       "      <td>1900.000000</td>\n",
       "      <td>0.000000</td>\n",
       "      <td>-0.405058</td>\n",
       "      <td>-0.635350</td>\n",
       "    </tr>\n",
       "    <tr>\n",
       "      <th>25%</th>\n",
       "      <td>3.260000e+05</td>\n",
       "      <td>3.000000</td>\n",
       "      <td>1.750000</td>\n",
       "      <td>1460.000000</td>\n",
       "      <td>5.000000e+03</td>\n",
       "      <td>1.000000</td>\n",
       "      <td>0.000000</td>\n",
       "      <td>0.000000</td>\n",
       "      <td>3.000000</td>\n",
       "      <td>1190.000000</td>\n",
       "      <td>0.000000</td>\n",
       "      <td>1951.000000</td>\n",
       "      <td>0.000000</td>\n",
       "      <td>-0.357669</td>\n",
       "      <td>-0.021397</td>\n",
       "    </tr>\n",
       "    <tr>\n",
       "      <th>50%</th>\n",
       "      <td>4.650000e+05</td>\n",
       "      <td>3.000000</td>\n",
       "      <td>2.250000</td>\n",
       "      <td>1970.000000</td>\n",
       "      <td>7.672500e+03</td>\n",
       "      <td>1.000000</td>\n",
       "      <td>0.000000</td>\n",
       "      <td>0.000000</td>\n",
       "      <td>3.000000</td>\n",
       "      <td>1590.000000</td>\n",
       "      <td>0.000000</td>\n",
       "      <td>1976.000000</td>\n",
       "      <td>0.000000</td>\n",
       "      <td>-0.318007</td>\n",
       "      <td>-0.010160</td>\n",
       "    </tr>\n",
       "    <tr>\n",
       "      <th>75%</th>\n",
       "      <td>6.554438e+05</td>\n",
       "      <td>4.000000</td>\n",
       "      <td>2.500000</td>\n",
       "      <td>2610.000000</td>\n",
       "      <td>1.092675e+04</td>\n",
       "      <td>2.000000</td>\n",
       "      <td>0.000000</td>\n",
       "      <td>0.000000</td>\n",
       "      <td>4.000000</td>\n",
       "      <td>2297.500000</td>\n",
       "      <td>600.000000</td>\n",
       "      <td>1997.000000</td>\n",
       "      <td>1999.000000</td>\n",
       "      <td>0.675179</td>\n",
       "      <td>0.001898</td>\n",
       "    </tr>\n",
       "    <tr>\n",
       "      <th>max</th>\n",
       "      <td>3.000000e+06</td>\n",
       "      <td>9.000000</td>\n",
       "      <td>8.000000</td>\n",
       "      <td>13540.000000</td>\n",
       "      <td>1.074218e+06</td>\n",
       "      <td>3.000000</td>\n",
       "      <td>1.000000</td>\n",
       "      <td>4.000000</td>\n",
       "      <td>5.000000</td>\n",
       "      <td>9410.000000</td>\n",
       "      <td>4130.000000</td>\n",
       "      <td>2014.000000</td>\n",
       "      <td>2014.000000</td>\n",
       "      <td>0.675179</td>\n",
       "      <td>0.768963</td>\n",
       "    </tr>\n",
       "  </tbody>\n",
       "</table>\n",
       "</div>"
      ],
      "text/plain": [
       "              price     bedrooms    bathrooms   sqft_living      sqft_lot  \\\n",
       "count  4.542000e+03  4542.000000  4542.000000   4542.000000  4.542000e+03   \n",
       "mean   5.437057e+05     3.392118     2.151255   2124.428886  1.482228e+04   \n",
       "std    3.343186e+05     0.902008     0.769943    931.881656  3.599441e+04   \n",
       "min    7.800000e+03     0.000000     0.000000    370.000000  6.380000e+02   \n",
       "25%    3.260000e+05     3.000000     1.750000   1460.000000  5.000000e+03   \n",
       "50%    4.650000e+05     3.000000     2.250000   1970.000000  7.672500e+03   \n",
       "75%    6.554438e+05     4.000000     2.500000   2610.000000  1.092675e+04   \n",
       "max    3.000000e+06     9.000000     8.000000  13540.000000  1.074218e+06   \n",
       "\n",
       "            floors   waterfront         view    condition   sqft_above  \\\n",
       "count  4542.000000  4542.000000  4542.000000  4542.000000  4542.000000   \n",
       "mean      1.458829     0.006165     0.231616     3.448921  1817.153457   \n",
       "std       0.552028     0.078282     0.760211     0.675107   843.027175   \n",
       "min       1.000000     0.000000     0.000000     1.000000   370.000000   \n",
       "25%       1.000000     0.000000     0.000000     3.000000  1190.000000   \n",
       "50%       1.000000     0.000000     0.000000     3.000000  1590.000000   \n",
       "75%       2.000000     0.000000     0.000000     4.000000  2297.500000   \n",
       "max       3.000000     1.000000     4.000000     5.000000  9410.000000   \n",
       "\n",
       "       sqft_basement     yr_built  yr_renovated    city_pca1    city_pca2  \n",
       "count    4542.000000  4542.000000   4542.000000  4542.000000  4542.000000  \n",
       "mean      307.275429  1970.790841    808.402466     0.001219     0.000741  \n",
       "std       453.452628    29.759690    979.383266     0.488016     0.250880  \n",
       "min         0.000000  1900.000000      0.000000    -0.405058    -0.635350  \n",
       "25%         0.000000  1951.000000      0.000000    -0.357669    -0.021397  \n",
       "50%         0.000000  1976.000000      0.000000    -0.318007    -0.010160  \n",
       "75%       600.000000  1997.000000   1999.000000     0.675179     0.001898  \n",
       "max      4130.000000  2014.000000   2014.000000     0.675179     0.768963  "
      ]
     },
     "execution_count": 35,
     "metadata": {},
     "output_type": "execute_result"
    }
   ],
   "source": [
    "data.describe()"
   ]
  },
  {
   "cell_type": "code",
   "execution_count": 36,
   "metadata": {},
   "outputs": [
    {
     "data": {
      "text/html": [
       "<div>\n",
       "<style scoped>\n",
       "    .dataframe tbody tr th:only-of-type {\n",
       "        vertical-align: middle;\n",
       "    }\n",
       "\n",
       "    .dataframe tbody tr th {\n",
       "        vertical-align: top;\n",
       "    }\n",
       "\n",
       "    .dataframe thead th {\n",
       "        text-align: right;\n",
       "    }\n",
       "</style>\n",
       "<table border=\"1\" class=\"dataframe\">\n",
       "  <thead>\n",
       "    <tr style=\"text-align: right;\">\n",
       "      <th></th>\n",
       "      <th>price</th>\n",
       "      <th>bedrooms</th>\n",
       "      <th>bathrooms</th>\n",
       "      <th>sqft_living</th>\n",
       "      <th>sqft_lot</th>\n",
       "      <th>floors</th>\n",
       "      <th>waterfront</th>\n",
       "      <th>view</th>\n",
       "      <th>condition</th>\n",
       "      <th>sqft_above</th>\n",
       "      <th>sqft_basement</th>\n",
       "      <th>yr_built</th>\n",
       "      <th>yr_renovated</th>\n",
       "      <th>city</th>\n",
       "      <th>city_pca1</th>\n",
       "      <th>city_pca2</th>\n",
       "    </tr>\n",
       "  </thead>\n",
       "  <tbody>\n",
       "    <tr>\n",
       "      <th>0</th>\n",
       "      <td>3.130000e+05</td>\n",
       "      <td>3</td>\n",
       "      <td>1.50</td>\n",
       "      <td>1340</td>\n",
       "      <td>7912</td>\n",
       "      <td>1</td>\n",
       "      <td>0</td>\n",
       "      <td>0</td>\n",
       "      <td>3</td>\n",
       "      <td>1340</td>\n",
       "      <td>0</td>\n",
       "      <td>1955</td>\n",
       "      <td>2005</td>\n",
       "      <td>Shoreline</td>\n",
       "      <td>-0.334071</td>\n",
       "      <td>-0.014579</td>\n",
       "    </tr>\n",
       "    <tr>\n",
       "      <th>1</th>\n",
       "      <td>2.384000e+06</td>\n",
       "      <td>5</td>\n",
       "      <td>2.50</td>\n",
       "      <td>3650</td>\n",
       "      <td>9050</td>\n",
       "      <td>2</td>\n",
       "      <td>0</td>\n",
       "      <td>4</td>\n",
       "      <td>5</td>\n",
       "      <td>3370</td>\n",
       "      <td>280</td>\n",
       "      <td>1921</td>\n",
       "      <td>0</td>\n",
       "      <td>Seattle</td>\n",
       "      <td>0.675179</td>\n",
       "      <td>0.001898</td>\n",
       "    </tr>\n",
       "    <tr>\n",
       "      <th>2</th>\n",
       "      <td>3.420000e+05</td>\n",
       "      <td>3</td>\n",
       "      <td>2.00</td>\n",
       "      <td>1930</td>\n",
       "      <td>11947</td>\n",
       "      <td>1</td>\n",
       "      <td>0</td>\n",
       "      <td>0</td>\n",
       "      <td>4</td>\n",
       "      <td>1930</td>\n",
       "      <td>0</td>\n",
       "      <td>1966</td>\n",
       "      <td>0</td>\n",
       "      <td>Kent</td>\n",
       "      <td>-0.356881</td>\n",
       "      <td>-0.023232</td>\n",
       "    </tr>\n",
       "    <tr>\n",
       "      <th>3</th>\n",
       "      <td>4.200000e+05</td>\n",
       "      <td>3</td>\n",
       "      <td>2.25</td>\n",
       "      <td>2000</td>\n",
       "      <td>8030</td>\n",
       "      <td>1</td>\n",
       "      <td>0</td>\n",
       "      <td>0</td>\n",
       "      <td>4</td>\n",
       "      <td>1000</td>\n",
       "      <td>1000</td>\n",
       "      <td>1963</td>\n",
       "      <td>0</td>\n",
       "      <td>Bellevue</td>\n",
       "      <td>-0.401545</td>\n",
       "      <td>-0.635350</td>\n",
       "    </tr>\n",
       "    <tr>\n",
       "      <th>4</th>\n",
       "      <td>5.500000e+05</td>\n",
       "      <td>4</td>\n",
       "      <td>2.50</td>\n",
       "      <td>1940</td>\n",
       "      <td>10500</td>\n",
       "      <td>1</td>\n",
       "      <td>0</td>\n",
       "      <td>0</td>\n",
       "      <td>4</td>\n",
       "      <td>1140</td>\n",
       "      <td>800</td>\n",
       "      <td>1976</td>\n",
       "      <td>1992</td>\n",
       "      <td>Redmond</td>\n",
       "      <td>-0.377678</td>\n",
       "      <td>-0.044415</td>\n",
       "    </tr>\n",
       "    <tr>\n",
       "      <th>...</th>\n",
       "      <td>...</td>\n",
       "      <td>...</td>\n",
       "      <td>...</td>\n",
       "      <td>...</td>\n",
       "      <td>...</td>\n",
       "      <td>...</td>\n",
       "      <td>...</td>\n",
       "      <td>...</td>\n",
       "      <td>...</td>\n",
       "      <td>...</td>\n",
       "      <td>...</td>\n",
       "      <td>...</td>\n",
       "      <td>...</td>\n",
       "      <td>...</td>\n",
       "      <td>...</td>\n",
       "      <td>...</td>\n",
       "    </tr>\n",
       "    <tr>\n",
       "      <th>4595</th>\n",
       "      <td>3.081667e+05</td>\n",
       "      <td>3</td>\n",
       "      <td>1.75</td>\n",
       "      <td>1510</td>\n",
       "      <td>6360</td>\n",
       "      <td>1</td>\n",
       "      <td>0</td>\n",
       "      <td>0</td>\n",
       "      <td>4</td>\n",
       "      <td>1510</td>\n",
       "      <td>0</td>\n",
       "      <td>1954</td>\n",
       "      <td>1979</td>\n",
       "      <td>Seattle</td>\n",
       "      <td>0.675179</td>\n",
       "      <td>0.001898</td>\n",
       "    </tr>\n",
       "    <tr>\n",
       "      <th>4596</th>\n",
       "      <td>5.343333e+05</td>\n",
       "      <td>3</td>\n",
       "      <td>2.50</td>\n",
       "      <td>1460</td>\n",
       "      <td>7573</td>\n",
       "      <td>2</td>\n",
       "      <td>0</td>\n",
       "      <td>0</td>\n",
       "      <td>3</td>\n",
       "      <td>1460</td>\n",
       "      <td>0</td>\n",
       "      <td>1983</td>\n",
       "      <td>2009</td>\n",
       "      <td>Bellevue</td>\n",
       "      <td>-0.401545</td>\n",
       "      <td>-0.635350</td>\n",
       "    </tr>\n",
       "    <tr>\n",
       "      <th>4597</th>\n",
       "      <td>4.169042e+05</td>\n",
       "      <td>3</td>\n",
       "      <td>2.50</td>\n",
       "      <td>3010</td>\n",
       "      <td>7014</td>\n",
       "      <td>2</td>\n",
       "      <td>0</td>\n",
       "      <td>0</td>\n",
       "      <td>3</td>\n",
       "      <td>3010</td>\n",
       "      <td>0</td>\n",
       "      <td>2009</td>\n",
       "      <td>0</td>\n",
       "      <td>Renton</td>\n",
       "      <td>-0.405058</td>\n",
       "      <td>0.768963</td>\n",
       "    </tr>\n",
       "    <tr>\n",
       "      <th>4598</th>\n",
       "      <td>2.034000e+05</td>\n",
       "      <td>4</td>\n",
       "      <td>2.00</td>\n",
       "      <td>2090</td>\n",
       "      <td>6630</td>\n",
       "      <td>1</td>\n",
       "      <td>0</td>\n",
       "      <td>0</td>\n",
       "      <td>3</td>\n",
       "      <td>1070</td>\n",
       "      <td>1020</td>\n",
       "      <td>1974</td>\n",
       "      <td>0</td>\n",
       "      <td>Seattle</td>\n",
       "      <td>0.675179</td>\n",
       "      <td>0.001898</td>\n",
       "    </tr>\n",
       "    <tr>\n",
       "      <th>4599</th>\n",
       "      <td>2.206000e+05</td>\n",
       "      <td>3</td>\n",
       "      <td>2.50</td>\n",
       "      <td>1490</td>\n",
       "      <td>8102</td>\n",
       "      <td>2</td>\n",
       "      <td>0</td>\n",
       "      <td>0</td>\n",
       "      <td>4</td>\n",
       "      <td>1490</td>\n",
       "      <td>0</td>\n",
       "      <td>1990</td>\n",
       "      <td>0</td>\n",
       "      <td>Covington</td>\n",
       "      <td>-0.308619</td>\n",
       "      <td>-0.009865</td>\n",
       "    </tr>\n",
       "  </tbody>\n",
       "</table>\n",
       "<p>4542 rows × 16 columns</p>\n",
       "</div>"
      ],
      "text/plain": [
       "             price  bedrooms  bathrooms  sqft_living  sqft_lot  floors  \\\n",
       "0     3.130000e+05         3       1.50         1340      7912       1   \n",
       "1     2.384000e+06         5       2.50         3650      9050       2   \n",
       "2     3.420000e+05         3       2.00         1930     11947       1   \n",
       "3     4.200000e+05         3       2.25         2000      8030       1   \n",
       "4     5.500000e+05         4       2.50         1940     10500       1   \n",
       "...            ...       ...        ...          ...       ...     ...   \n",
       "4595  3.081667e+05         3       1.75         1510      6360       1   \n",
       "4596  5.343333e+05         3       2.50         1460      7573       2   \n",
       "4597  4.169042e+05         3       2.50         3010      7014       2   \n",
       "4598  2.034000e+05         4       2.00         2090      6630       1   \n",
       "4599  2.206000e+05         3       2.50         1490      8102       2   \n",
       "\n",
       "      waterfront  view  condition  sqft_above  sqft_basement  yr_built  \\\n",
       "0              0     0          3        1340              0      1955   \n",
       "1              0     4          5        3370            280      1921   \n",
       "2              0     0          4        1930              0      1966   \n",
       "3              0     0          4        1000           1000      1963   \n",
       "4              0     0          4        1140            800      1976   \n",
       "...          ...   ...        ...         ...            ...       ...   \n",
       "4595           0     0          4        1510              0      1954   \n",
       "4596           0     0          3        1460              0      1983   \n",
       "4597           0     0          3        3010              0      2009   \n",
       "4598           0     0          3        1070           1020      1974   \n",
       "4599           0     0          4        1490              0      1990   \n",
       "\n",
       "      yr_renovated       city  city_pca1  city_pca2  \n",
       "0             2005  Shoreline  -0.334071  -0.014579  \n",
       "1                0    Seattle   0.675179   0.001898  \n",
       "2                0       Kent  -0.356881  -0.023232  \n",
       "3                0   Bellevue  -0.401545  -0.635350  \n",
       "4             1992    Redmond  -0.377678  -0.044415  \n",
       "...            ...        ...        ...        ...  \n",
       "4595          1979    Seattle   0.675179   0.001898  \n",
       "4596          2009   Bellevue  -0.401545  -0.635350  \n",
       "4597             0     Renton  -0.405058   0.768963  \n",
       "4598             0    Seattle   0.675179   0.001898  \n",
       "4599             0  Covington  -0.308619  -0.009865  \n",
       "\n",
       "[4542 rows x 16 columns]"
      ]
     },
     "execution_count": 36,
     "metadata": {},
     "output_type": "execute_result"
    }
   ],
   "source": [
    "data.drop_duplicates()"
   ]
  },
  {
   "cell_type": "code",
   "execution_count": 16,
   "metadata": {},
   "outputs": [
    {
     "data": {
      "text/plain": [
       "7800.0"
      ]
     },
     "execution_count": 16,
     "metadata": {},
     "output_type": "execute_result"
    }
   ],
   "source": [
    "data['price'].min()"
   ]
  },
  {
   "cell_type": "code",
   "execution_count": null,
   "metadata": {},
   "outputs": [],
   "source": []
  },
  {
   "cell_type": "code",
   "execution_count": 17,
   "metadata": {},
   "outputs": [
    {
     "data": {
      "text/plain": [
       "3000000.0"
      ]
     },
     "execution_count": 17,
     "metadata": {},
     "output_type": "execute_result"
    }
   ],
   "source": [
    "data['price'].max()"
   ]
  },
  {
   "cell_type": "code",
   "execution_count": 18,
   "metadata": {},
   "outputs": [
    {
     "data": {
      "text/plain": [
       "543705.690659794"
      ]
     },
     "execution_count": 18,
     "metadata": {},
     "output_type": "execute_result"
    }
   ],
   "source": [
    "data['price'].mean()"
   ]
  },
  {
   "cell_type": "code",
   "execution_count": 40,
   "metadata": {},
   "outputs": [
    {
     "data": {
      "text/plain": [
       "<AxesSubplot:xlabel='floors', ylabel='price'>"
      ]
     },
     "execution_count": 40,
     "metadata": {},
     "output_type": "execute_result"
    },
    {
     "data": {
      "image/png": "[encoded data removed]",
      "text/plain": [
       "<Figure size 864x432 with 1 Axes>"
      ]
     },
     "metadata": {
      "needs_background": "light"
     },
     "output_type": "display_data"
    }
   ],
   "source": [
    "plt.figure(figsize=(12,6))\n",
    "sns.barplot(x=data['floors'],y=data['price'])"
   ]
  },
  {
   "cell_type": "code",
   "execution_count": 20,
   "metadata": {},
   "outputs": [],
   "source": [
    "from scipy import stats"
   ]
  },
  {
   "cell_type": "markdown",
   "metadata": {},
   "source": [
    "### With the help of Q-Q plot we see whether the terget variable is Normally Distributed or not, as Linear mostly like Normally Distributed Data."
   ]
  },
  {
   "cell_type": "code",
   "execution_count": 21,
   "metadata": {},
   "outputs": [
    {
     "data": {
      "image/png": "[encoded data removed]",
      "text/plain": [
       "<Figure size 432x288 with 1 Axes>"
      ]
     },
     "metadata": {
      "needs_background": "light"
     },
     "output_type": "display_data"
    }
   ],
   "source": [
    "#Get also the QQ-plot\n",
    "fig = plt.figure()\n",
    "res = stats.probplot(data['price'], plot=plt)\n",
    "plt.show()"
   ]
  },
  {
   "cell_type": "markdown",
   "metadata": {},
   "source": [
    "### As the target variable (price) is very skewed, we apply log-transformation on target varibale to make it Normally Distributed"
   ]
  },
  {
   "cell_type": "code",
   "execution_count": 22,
   "metadata": {},
   "outputs": [],
   "source": [
    "data['price'] = np.log1p(data['price'])"
   ]
  },
  {
   "cell_type": "code",
   "execution_count": 23,
   "metadata": {},
   "outputs": [
    {
     "data": {
      "image/png": "[encoded data removed]",
      "text/plain": [
       "<Figure size 432x288 with 1 Axes>"
      ]
     },
     "metadata": {
      "needs_background": "light"
     },
     "output_type": "display_data"
    }
   ],
   "source": [
    "fig = plt.figure()\n",
    "res = stats.probplot(data['price'], plot=plt)\n",
    "plt.show()"
   ]
  },
  {
   "cell_type": "code",
   "execution_count": 45,
   "metadata": {},
   "outputs": [
    {
     "name": "stderr",
     "output_type": "stream",
     "text": [
      "C:\\Users\\ubaid\\Anaconda3\\lib\\site-packages\\seaborn\\distributions.py:2619: FutureWarning: `distplot` is a deprecated function and will be removed in a future version. Please adapt your code to use either `displot` (a figure-level function with similar flexibility) or `histplot` (an axes-level function for histograms).\n",
      "  warnings.warn(msg, FutureWarning)\n"
     ]
    },
    {
     "data": {
      "text/plain": [
       "<AxesSubplot:xlabel='price', ylabel='Density'>"
      ]
     },
     "execution_count": 45,
     "metadata": {},
     "output_type": "execute_result"
    },
    {
     "data": {
      "image/png": "[encoded data removed]",
      "text/plain": [
       "<Figure size 432x288 with 1 Axes>"
      ]
     },
     "metadata": {
      "needs_background": "light"
     },
     "output_type": "display_data"
    }
   ],
   "source": [
    "sns.distplot(data['price'],color=\"red\",kde=True,fit=stats.norm)"
   ]
  },
  {
   "cell_type": "code",
   "execution_count": 46,
   "metadata": {},
   "outputs": [
    {
     "data": {
      "text/html": [
       "<div>\n",
       "<style scoped>\n",
       "    .dataframe tbody tr th:only-of-type {\n",
       "        vertical-align: middle;\n",
       "    }\n",
       "\n",
       "    .dataframe tbody tr th {\n",
       "        vertical-align: top;\n",
       "    }\n",
       "\n",
       "    .dataframe thead th {\n",
       "        text-align: right;\n",
       "    }\n",
       "</style>\n",
       "<table border=\"1\" class=\"dataframe\">\n",
       "  <thead>\n",
       "    <tr style=\"text-align: right;\">\n",
       "      <th></th>\n",
       "      <th>price</th>\n",
       "      <th>bedrooms</th>\n",
       "      <th>bathrooms</th>\n",
       "      <th>sqft_living</th>\n",
       "      <th>sqft_lot</th>\n",
       "      <th>floors</th>\n",
       "      <th>waterfront</th>\n",
       "      <th>view</th>\n",
       "      <th>condition</th>\n",
       "      <th>sqft_above</th>\n",
       "      <th>sqft_basement</th>\n",
       "      <th>yr_built</th>\n",
       "      <th>yr_renovated</th>\n",
       "      <th>city_pca1</th>\n",
       "      <th>city_pca2</th>\n",
       "    </tr>\n",
       "  </thead>\n",
       "  <tbody>\n",
       "    <tr>\n",
       "      <th>price</th>\n",
       "      <td>1.000000</td>\n",
       "      <td>0.354535</td>\n",
       "      <td>0.546452</td>\n",
       "      <td>0.670317</td>\n",
       "      <td>0.086480</td>\n",
       "      <td>0.279441</td>\n",
       "      <td>0.124513</td>\n",
       "      <td>0.318396</td>\n",
       "      <td>0.058392</td>\n",
       "      <td>0.579586</td>\n",
       "      <td>0.300032</td>\n",
       "      <td>0.059694</td>\n",
       "      <td>-0.065820</td>\n",
       "      <td>0.091964</td>\n",
       "      <td>-0.240860</td>\n",
       "    </tr>\n",
       "    <tr>\n",
       "      <th>bedrooms</th>\n",
       "      <td>0.354535</td>\n",
       "      <td>1.000000</td>\n",
       "      <td>0.544793</td>\n",
       "      <td>0.597365</td>\n",
       "      <td>0.070888</td>\n",
       "      <td>0.152945</td>\n",
       "      <td>-0.015529</td>\n",
       "      <td>0.107100</td>\n",
       "      <td>0.020783</td>\n",
       "      <td>0.482455</td>\n",
       "      <td>0.330687</td>\n",
       "      <td>0.143257</td>\n",
       "      <td>-0.062425</td>\n",
       "      <td>-0.183864</td>\n",
       "      <td>-0.056559</td>\n",
       "    </tr>\n",
       "    <tr>\n",
       "      <th>bathrooms</th>\n",
       "      <td>0.546452</td>\n",
       "      <td>0.544793</td>\n",
       "      <td>1.000000</td>\n",
       "      <td>0.754789</td>\n",
       "      <td>0.109137</td>\n",
       "      <td>0.505442</td>\n",
       "      <td>0.041158</td>\n",
       "      <td>0.193432</td>\n",
       "      <td>-0.123564</td>\n",
       "      <td>0.684663</td>\n",
       "      <td>0.278276</td>\n",
       "      <td>0.469220</td>\n",
       "      <td>-0.222603</td>\n",
       "      <td>-0.184699</td>\n",
       "      <td>-0.071497</td>\n",
       "    </tr>\n",
       "    <tr>\n",
       "      <th>sqft_living</th>\n",
       "      <td>0.670317</td>\n",
       "      <td>0.597365</td>\n",
       "      <td>0.754789</td>\n",
       "      <td>1.000000</td>\n",
       "      <td>0.216472</td>\n",
       "      <td>0.343512</td>\n",
       "      <td>0.068646</td>\n",
       "      <td>0.294722</td>\n",
       "      <td>-0.065742</td>\n",
       "      <td>0.874157</td>\n",
       "      <td>0.429909</td>\n",
       "      <td>0.292820</td>\n",
       "      <td>-0.127802</td>\n",
       "      <td>-0.236730</td>\n",
       "      <td>-0.097056</td>\n",
       "    </tr>\n",
       "    <tr>\n",
       "      <th>sqft_lot</th>\n",
       "      <td>0.086480</td>\n",
       "      <td>0.070888</td>\n",
       "      <td>0.109137</td>\n",
       "      <td>0.216472</td>\n",
       "      <td>1.000000</td>\n",
       "      <td>-0.005216</td>\n",
       "      <td>0.016426</td>\n",
       "      <td>0.072312</td>\n",
       "      <td>0.000961</td>\n",
       "      <td>0.220485</td>\n",
       "      <td>0.034958</td>\n",
       "      <td>0.049108</td>\n",
       "      <td>-0.021360</td>\n",
       "      <td>-0.185925</td>\n",
       "      <td>-0.003385</td>\n",
       "    </tr>\n",
       "    <tr>\n",
       "      <th>floors</th>\n",
       "      <td>0.279441</td>\n",
       "      <td>0.152945</td>\n",
       "      <td>0.505442</td>\n",
       "      <td>0.343512</td>\n",
       "      <td>-0.005216</td>\n",
       "      <td>1.000000</td>\n",
       "      <td>0.010971</td>\n",
       "      <td>0.019580</td>\n",
       "      <td>-0.307004</td>\n",
       "      <td>0.519222</td>\n",
       "      <td>-0.259355</td>\n",
       "      <td>0.562422</td>\n",
       "      <td>-0.248269</td>\n",
       "      <td>-0.037950</td>\n",
       "      <td>0.020575</td>\n",
       "    </tr>\n",
       "    <tr>\n",
       "      <th>waterfront</th>\n",
       "      <td>0.124513</td>\n",
       "      <td>-0.015529</td>\n",
       "      <td>0.041158</td>\n",
       "      <td>0.068646</td>\n",
       "      <td>0.016426</td>\n",
       "      <td>0.010971</td>\n",
       "      <td>1.000000</td>\n",
       "      <td>0.342346</td>\n",
       "      <td>0.010126</td>\n",
       "      <td>0.047046</td>\n",
       "      <td>0.053609</td>\n",
       "      <td>-0.031397</td>\n",
       "      <td>0.009530</td>\n",
       "      <td>-0.030168</td>\n",
       "      <td>-0.011311</td>\n",
       "    </tr>\n",
       "    <tr>\n",
       "      <th>view</th>\n",
       "      <td>0.318396</td>\n",
       "      <td>0.107100</td>\n",
       "      <td>0.193432</td>\n",
       "      <td>0.294722</td>\n",
       "      <td>0.072312</td>\n",
       "      <td>0.019580</td>\n",
       "      <td>0.342346</td>\n",
       "      <td>1.000000</td>\n",
       "      <td>0.061245</td>\n",
       "      <td>0.162630</td>\n",
       "      <td>0.303327</td>\n",
       "      <td>-0.067378</td>\n",
       "      <td>0.025207</td>\n",
       "      <td>0.058365</td>\n",
       "      <td>-0.056441</td>\n",
       "    </tr>\n",
       "    <tr>\n",
       "      <th>condition</th>\n",
       "      <td>0.058392</td>\n",
       "      <td>0.020783</td>\n",
       "      <td>-0.123564</td>\n",
       "      <td>-0.065742</td>\n",
       "      <td>0.000961</td>\n",
       "      <td>-0.307004</td>\n",
       "      <td>0.010126</td>\n",
       "      <td>0.061245</td>\n",
       "      <td>1.000000</td>\n",
       "      <td>-0.180251</td>\n",
       "      <td>0.200005</td>\n",
       "      <td>-0.399214</td>\n",
       "      <td>-0.183811</td>\n",
       "      <td>0.073403</td>\n",
       "      <td>-0.034425</td>\n",
       "    </tr>\n",
       "    <tr>\n",
       "      <th>sqft_above</th>\n",
       "      <td>0.579586</td>\n",
       "      <td>0.482455</td>\n",
       "      <td>0.684663</td>\n",
       "      <td>0.874157</td>\n",
       "      <td>0.220485</td>\n",
       "      <td>0.519222</td>\n",
       "      <td>0.047046</td>\n",
       "      <td>0.162630</td>\n",
       "      <td>-0.180251</td>\n",
       "      <td>1.000000</td>\n",
       "      <td>-0.062666</td>\n",
       "      <td>0.413040</td>\n",
       "      <td>-0.164754</td>\n",
       "      <td>-0.329063</td>\n",
       "      <td>-0.053372</td>\n",
       "    </tr>\n",
       "    <tr>\n",
       "      <th>sqft_basement</th>\n",
       "      <td>0.300032</td>\n",
       "      <td>0.330687</td>\n",
       "      <td>0.278276</td>\n",
       "      <td>0.429909</td>\n",
       "      <td>0.034958</td>\n",
       "      <td>-0.259355</td>\n",
       "      <td>0.053609</td>\n",
       "      <td>0.303327</td>\n",
       "      <td>0.200005</td>\n",
       "      <td>-0.062666</td>\n",
       "      <td>1.000000</td>\n",
       "      <td>-0.166127</td>\n",
       "      <td>0.043654</td>\n",
       "      <td>0.125272</td>\n",
       "      <td>-0.100233</td>\n",
       "    </tr>\n",
       "    <tr>\n",
       "      <th>yr_built</th>\n",
       "      <td>0.059694</td>\n",
       "      <td>0.143257</td>\n",
       "      <td>0.469220</td>\n",
       "      <td>0.292820</td>\n",
       "      <td>0.049108</td>\n",
       "      <td>0.562422</td>\n",
       "      <td>-0.031397</td>\n",
       "      <td>-0.067378</td>\n",
       "      <td>-0.399214</td>\n",
       "      <td>0.413040</td>\n",
       "      <td>-0.166127</td>\n",
       "      <td>1.000000</td>\n",
       "      <td>-0.323067</td>\n",
       "      <td>-0.447559</td>\n",
       "      <td>0.034914</td>\n",
       "    </tr>\n",
       "    <tr>\n",
       "      <th>yr_renovated</th>\n",
       "      <td>-0.065820</td>\n",
       "      <td>-0.062425</td>\n",
       "      <td>-0.222603</td>\n",
       "      <td>-0.127802</td>\n",
       "      <td>-0.021360</td>\n",
       "      <td>-0.248269</td>\n",
       "      <td>0.009530</td>\n",
       "      <td>0.025207</td>\n",
       "      <td>-0.183811</td>\n",
       "      <td>-0.164754</td>\n",
       "      <td>0.043654</td>\n",
       "      <td>-0.323067</td>\n",
       "      <td>1.000000</td>\n",
       "      <td>0.137178</td>\n",
       "      <td>-0.009255</td>\n",
       "    </tr>\n",
       "    <tr>\n",
       "      <th>city_pca1</th>\n",
       "      <td>0.091964</td>\n",
       "      <td>-0.183864</td>\n",
       "      <td>-0.184699</td>\n",
       "      <td>-0.236730</td>\n",
       "      <td>-0.185925</td>\n",
       "      <td>-0.037950</td>\n",
       "      <td>-0.030168</td>\n",
       "      <td>0.058365</td>\n",
       "      <td>0.073403</td>\n",
       "      <td>-0.329063</td>\n",
       "      <td>0.125272</td>\n",
       "      <td>-0.447559</td>\n",
       "      <td>0.137178</td>\n",
       "      <td>1.000000</td>\n",
       "      <td>-0.002419</td>\n",
       "    </tr>\n",
       "    <tr>\n",
       "      <th>city_pca2</th>\n",
       "      <td>-0.240860</td>\n",
       "      <td>-0.056559</td>\n",
       "      <td>-0.071497</td>\n",
       "      <td>-0.097056</td>\n",
       "      <td>-0.003385</td>\n",
       "      <td>0.020575</td>\n",
       "      <td>-0.011311</td>\n",
       "      <td>-0.056441</td>\n",
       "      <td>-0.034425</td>\n",
       "      <td>-0.053372</td>\n",
       "      <td>-0.100233</td>\n",
       "      <td>0.034914</td>\n",
       "      <td>-0.009255</td>\n",
       "      <td>-0.002419</td>\n",
       "      <td>1.000000</td>\n",
       "    </tr>\n",
       "  </tbody>\n",
       "</table>\n",
       "</div>"
      ],
      "text/plain": [
       "                  price  bedrooms  bathrooms  sqft_living  sqft_lot    floors  \\\n",
       "price          1.000000  0.354535   0.546452     0.670317  0.086480  0.279441   \n",
       "bedrooms       0.354535  1.000000   0.544793     0.597365  0.070888  0.152945   \n",
       "bathrooms      0.546452  0.544793   1.000000     0.754789  0.109137  0.505442   \n",
       "sqft_living    0.670317  0.597365   0.754789     1.000000  0.216472  0.343512   \n",
       "sqft_lot       0.086480  0.070888   0.109137     0.216472  1.000000 -0.005216   \n",
       "floors         0.279441  0.152945   0.505442     0.343512 -0.005216  1.000000   \n",
       "waterfront     0.124513 -0.015529   0.041158     0.068646  0.016426  0.010971   \n",
       "view           0.318396  0.107100   0.193432     0.294722  0.072312  0.019580   \n",
       "condition      0.058392  0.020783  -0.123564    -0.065742  0.000961 -0.307004   \n",
       "sqft_above     0.579586  0.482455   0.684663     0.874157  0.220485  0.519222   \n",
       "sqft_basement  0.300032  0.330687   0.278276     0.429909  0.034958 -0.259355   \n",
       "yr_built       0.059694  0.143257   0.469220     0.292820  0.049108  0.562422   \n",
       "yr_renovated  -0.065820 -0.062425  -0.222603    -0.127802 -0.021360 -0.248269   \n",
       "city_pca1      0.091964 -0.183864  -0.184699    -0.236730 -0.185925 -0.037950   \n",
       "city_pca2     -0.240860 -0.056559  -0.071497    -0.097056 -0.003385  0.020575   \n",
       "\n",
       "               waterfront      view  condition  sqft_above  sqft_basement  \\\n",
       "price            0.124513  0.318396   0.058392    0.579586       0.300032   \n",
       "bedrooms        -0.015529  0.107100   0.020783    0.482455       0.330687   \n",
       "bathrooms        0.041158  0.193432  -0.123564    0.684663       0.278276   \n",
       "sqft_living      0.068646  0.294722  -0.065742    0.874157       0.429909   \n",
       "sqft_lot         0.016426  0.072312   0.000961    0.220485       0.034958   \n",
       "floors           0.010971  0.019580  -0.307004    0.519222      -0.259355   \n",
       "waterfront       1.000000  0.342346   0.010126    0.047046       0.053609   \n",
       "view             0.342346  1.000000   0.061245    0.162630       0.303327   \n",
       "condition        0.010126  0.061245   1.000000   -0.180251       0.200005   \n",
       "sqft_above       0.047046  0.162630  -0.180251    1.000000      -0.062666   \n",
       "sqft_basement    0.053609  0.303327   0.200005   -0.062666       1.000000   \n",
       "yr_built        -0.031397 -0.067378  -0.399214    0.413040      -0.166127   \n",
       "yr_renovated     0.009530  0.025207  -0.183811   -0.164754       0.043654   \n",
       "city_pca1       -0.030168  0.058365   0.073403   -0.329063       0.125272   \n",
       "city_pca2       -0.011311 -0.056441  -0.034425   -0.053372      -0.100233   \n",
       "\n",
       "               yr_built  yr_renovated  city_pca1  city_pca2  \n",
       "price          0.059694     -0.065820   0.091964  -0.240860  \n",
       "bedrooms       0.143257     -0.062425  -0.183864  -0.056559  \n",
       "bathrooms      0.469220     -0.222603  -0.184699  -0.071497  \n",
       "sqft_living    0.292820     -0.127802  -0.236730  -0.097056  \n",
       "sqft_lot       0.049108     -0.021360  -0.185925  -0.003385  \n",
       "floors         0.562422     -0.248269  -0.037950   0.020575  \n",
       "waterfront    -0.031397      0.009530  -0.030168  -0.011311  \n",
       "view          -0.067378      0.025207   0.058365  -0.056441  \n",
       "condition     -0.399214     -0.183811   0.073403  -0.034425  \n",
       "sqft_above     0.413040     -0.164754  -0.329063  -0.053372  \n",
       "sqft_basement -0.166127      0.043654   0.125272  -0.100233  \n",
       "yr_built       1.000000     -0.323067  -0.447559   0.034914  \n",
       "yr_renovated  -0.323067      1.000000   0.137178  -0.009255  \n",
       "city_pca1     -0.447559      0.137178   1.000000  -0.002419  \n",
       "city_pca2      0.034914     -0.009255  -0.002419   1.000000  "
      ]
     },
     "execution_count": 46,
     "metadata": {},
     "output_type": "execute_result"
    }
   ],
   "source": [
    "corr=data.corr()\n",
    "corr"
   ]
  },
  {
   "cell_type": "code",
   "execution_count": 47,
   "metadata": {},
   "outputs": [
    {
     "data": {
      "text/plain": [
       "<AxesSubplot:>"
      ]
     },
     "execution_count": 47,
     "metadata": {},
     "output_type": "execute_result"
    },
    {
     "data": {
      "image/png": "[encoded data removed]",
      "text/plain": [
       "<Figure size 864x360 with 2 Axes>"
      ]
     },
     "metadata": {
      "needs_background": "light"
     },
     "output_type": "display_data"
    }
   ],
   "source": [
    "plt.figure(figsize=(12,5))\n",
    "sns.heatmap(corr,annot=True)"
   ]
  },
  {
   "cell_type": "code",
   "execution_count": 48,
   "metadata": {},
   "outputs": [
    {
     "data": {
      "text/plain": [
       "(array([ 79., 111.,  79.,  95., 171.,  92.,  38., 191., 189., 262., 252.,\n",
       "        274., 281., 152., 365., 224., 359., 223., 353., 484., 268.]),\n",
       " array([1900.        , 1905.42857143, 1910.85714286, 1916.28571429,\n",
       "        1921.71428571, 1927.14285714, 1932.57142857, 1938.        ,\n",
       "        1943.42857143, 1948.85714286, 1954.28571429, 1959.71428571,\n",
       "        1965.14285714, 1970.57142857, 1976.        , 1981.42857143,\n",
       "        1986.85714286, 1992.28571429, 1997.71428571, 2003.14285714,\n",
       "        2008.57142857, 2014.        ]),\n",
       " <BarContainer object of 21 artists>)"
      ]
     },
     "execution_count": 48,
     "metadata": {},
     "output_type": "execute_result"
    },
    {
     "data": {
      "image/png": "[encoded data removed]",
      "text/plain": [
       "<Figure size 432x288 with 1 Axes>"
      ]
     },
     "metadata": {
      "needs_background": "light"
     },
     "output_type": "display_data"
    }
   ],
   "source": [
    "plt.hist(data['yr_built'],bins='auto',linewidth=0.5)"
   ]
  },
  {
   "cell_type": "code",
   "execution_count": null,
   "metadata": {},
   "outputs": [],
   "source": [
    "\n"
   ]
  },
  {
   "cell_type": "code",
   "execution_count": null,
   "metadata": {},
   "outputs": [],
   "source": []
  },
  {
   "cell_type": "code",
   "execution_count": 49,
   "metadata": {},
   "outputs": [
    {
     "data": {
      "text/html": [
       "<div>\n",
       "<style scoped>\n",
       "    .dataframe tbody tr th:only-of-type {\n",
       "        vertical-align: middle;\n",
       "    }\n",
       "\n",
       "    .dataframe tbody tr th {\n",
       "        vertical-align: top;\n",
       "    }\n",
       "\n",
       "    .dataframe thead th {\n",
       "        text-align: right;\n",
       "    }\n",
       "</style>\n",
       "<table border=\"1\" class=\"dataframe\">\n",
       "  <thead>\n",
       "    <tr style=\"text-align: right;\">\n",
       "      <th></th>\n",
       "      <th>price</th>\n",
       "      <th>bedrooms</th>\n",
       "      <th>bathrooms</th>\n",
       "      <th>sqft_living</th>\n",
       "      <th>sqft_lot</th>\n",
       "      <th>floors</th>\n",
       "      <th>waterfront</th>\n",
       "      <th>view</th>\n",
       "      <th>condition</th>\n",
       "      <th>sqft_above</th>\n",
       "      <th>sqft_basement</th>\n",
       "      <th>yr_built</th>\n",
       "      <th>yr_renovated</th>\n",
       "      <th>city</th>\n",
       "      <th>city_pca1</th>\n",
       "      <th>city_pca2</th>\n",
       "    </tr>\n",
       "  </thead>\n",
       "  <tbody>\n",
       "    <tr>\n",
       "      <th>0</th>\n",
       "      <td>12.653962</td>\n",
       "      <td>3</td>\n",
       "      <td>1.50</td>\n",
       "      <td>1340</td>\n",
       "      <td>7912</td>\n",
       "      <td>1</td>\n",
       "      <td>0</td>\n",
       "      <td>0</td>\n",
       "      <td>3</td>\n",
       "      <td>1340</td>\n",
       "      <td>0</td>\n",
       "      <td>1955</td>\n",
       "      <td>2005</td>\n",
       "      <td>Shoreline</td>\n",
       "      <td>-0.334071</td>\n",
       "      <td>-0.014579</td>\n",
       "    </tr>\n",
       "    <tr>\n",
       "      <th>1</th>\n",
       "      <td>14.684291</td>\n",
       "      <td>5</td>\n",
       "      <td>2.50</td>\n",
       "      <td>3650</td>\n",
       "      <td>9050</td>\n",
       "      <td>2</td>\n",
       "      <td>0</td>\n",
       "      <td>4</td>\n",
       "      <td>5</td>\n",
       "      <td>3370</td>\n",
       "      <td>280</td>\n",
       "      <td>1921</td>\n",
       "      <td>0</td>\n",
       "      <td>Seattle</td>\n",
       "      <td>0.675179</td>\n",
       "      <td>0.001898</td>\n",
       "    </tr>\n",
       "    <tr>\n",
       "      <th>2</th>\n",
       "      <td>12.742569</td>\n",
       "      <td>3</td>\n",
       "      <td>2.00</td>\n",
       "      <td>1930</td>\n",
       "      <td>11947</td>\n",
       "      <td>1</td>\n",
       "      <td>0</td>\n",
       "      <td>0</td>\n",
       "      <td>4</td>\n",
       "      <td>1930</td>\n",
       "      <td>0</td>\n",
       "      <td>1966</td>\n",
       "      <td>0</td>\n",
       "      <td>Kent</td>\n",
       "      <td>-0.356881</td>\n",
       "      <td>-0.023232</td>\n",
       "    </tr>\n",
       "    <tr>\n",
       "      <th>3</th>\n",
       "      <td>12.948012</td>\n",
       "      <td>3</td>\n",
       "      <td>2.25</td>\n",
       "      <td>2000</td>\n",
       "      <td>8030</td>\n",
       "      <td>1</td>\n",
       "      <td>0</td>\n",
       "      <td>0</td>\n",
       "      <td>4</td>\n",
       "      <td>1000</td>\n",
       "      <td>1000</td>\n",
       "      <td>1963</td>\n",
       "      <td>0</td>\n",
       "      <td>Bellevue</td>\n",
       "      <td>-0.401545</td>\n",
       "      <td>-0.635350</td>\n",
       "    </tr>\n",
       "    <tr>\n",
       "      <th>4</th>\n",
       "      <td>13.217675</td>\n",
       "      <td>4</td>\n",
       "      <td>2.50</td>\n",
       "      <td>1940</td>\n",
       "      <td>10500</td>\n",
       "      <td>1</td>\n",
       "      <td>0</td>\n",
       "      <td>0</td>\n",
       "      <td>4</td>\n",
       "      <td>1140</td>\n",
       "      <td>800</td>\n",
       "      <td>1976</td>\n",
       "      <td>1992</td>\n",
       "      <td>Redmond</td>\n",
       "      <td>-0.377678</td>\n",
       "      <td>-0.044415</td>\n",
       "    </tr>\n",
       "  </tbody>\n",
       "</table>\n",
       "</div>"
      ],
      "text/plain": [
       "       price  bedrooms  bathrooms  sqft_living  sqft_lot  floors  waterfront  \\\n",
       "0  12.653962         3       1.50         1340      7912       1           0   \n",
       "1  14.684291         5       2.50         3650      9050       2           0   \n",
       "2  12.742569         3       2.00         1930     11947       1           0   \n",
       "3  12.948012         3       2.25         2000      8030       1           0   \n",
       "4  13.217675         4       2.50         1940     10500       1           0   \n",
       "\n",
       "   view  condition  sqft_above  sqft_basement  yr_built  yr_renovated  \\\n",
       "0     0          3        1340              0      1955          2005   \n",
       "1     4          5        3370            280      1921             0   \n",
       "2     0          4        1930              0      1966             0   \n",
       "3     0          4        1000           1000      1963             0   \n",
       "4     0          4        1140            800      1976          1992   \n",
       "\n",
       "        city  city_pca1  city_pca2  \n",
       "0  Shoreline  -0.334071  -0.014579  \n",
       "1    Seattle   0.675179   0.001898  \n",
       "2       Kent  -0.356881  -0.023232  \n",
       "3   Bellevue  -0.401545  -0.635350  \n",
       "4    Redmond  -0.377678  -0.044415  "
      ]
     },
     "execution_count": 49,
     "metadata": {},
     "output_type": "execute_result"
    }
   ],
   "source": [
    "data.head(5)"
   ]
  },
  {
   "cell_type": "code",
   "execution_count": 50,
   "metadata": {},
   "outputs": [
    {
     "data": {
      "text/plain": [
       "array([[<AxesSubplot:title={'center':'price'}>,\n",
       "        <AxesSubplot:title={'center':'bedrooms'}>,\n",
       "        <AxesSubplot:title={'center':'bathrooms'}>,\n",
       "        <AxesSubplot:title={'center':'sqft_living'}>],\n",
       "       [<AxesSubplot:title={'center':'sqft_lot'}>,\n",
       "        <AxesSubplot:title={'center':'floors'}>,\n",
       "        <AxesSubplot:title={'center':'waterfront'}>,\n",
       "        <AxesSubplot:title={'center':'view'}>],\n",
       "       [<AxesSubplot:title={'center':'condition'}>,\n",
       "        <AxesSubplot:title={'center':'sqft_above'}>,\n",
       "        <AxesSubplot:title={'center':'sqft_basement'}>,\n",
       "        <AxesSubplot:title={'center':'yr_built'}>],\n",
       "       [<AxesSubplot:title={'center':'yr_renovated'}>,\n",
       "        <AxesSubplot:title={'center':'city_pca1'}>,\n",
       "        <AxesSubplot:title={'center':'city_pca2'}>, <AxesSubplot:>]],\n",
       "      dtype=object)"
      ]
     },
     "execution_count": 50,
     "metadata": {},
     "output_type": "execute_result"
    },
    {
     "data": {
      "image/png": "[encoded data removed]",
      "text/plain": [
       "<Figure size 432x288 with 16 Axes>"
      ]
     },
     "metadata": {
      "needs_background": "light"
     },
     "output_type": "display_data"
    }
   ],
   "source": [
    "data.hist()"
   ]
  },
  {
   "cell_type": "code",
   "execution_count": 51,
   "metadata": {},
   "outputs": [
    {
     "name": "stdout",
     "output_type": "stream",
     "text": [
      "<class 'pandas.core.frame.DataFrame'>\n",
      "Int64Index: 4542 entries, 0 to 4599\n",
      "Data columns (total 16 columns):\n",
      " #   Column         Non-Null Count  Dtype  \n",
      "---  ------         --------------  -----  \n",
      " 0   price          4542 non-null   float64\n",
      " 1   bedrooms       4542 non-null   int64  \n",
      " 2   bathrooms      4542 non-null   float64\n",
      " 3   sqft_living    4542 non-null   int64  \n",
      " 4   sqft_lot       4542 non-null   int64  \n",
      " 5   floors         4542 non-null   int64  \n",
      " 6   waterfront     4542 non-null   int64  \n",
      " 7   view           4542 non-null   int64  \n",
      " 8   condition      4542 non-null   int64  \n",
      " 9   sqft_above     4542 non-null   int64  \n",
      " 10  sqft_basement  4542 non-null   int64  \n",
      " 11  yr_built       4542 non-null   int64  \n",
      " 12  yr_renovated   4542 non-null   int64  \n",
      " 13  city           4542 non-null   object \n",
      " 14  city_pca1      4542 non-null   float64\n",
      " 15  city_pca2      4542 non-null   float64\n",
      "dtypes: float64(4), int64(11), object(1)\n",
      "memory usage: 732.3+ KB\n"
     ]
    }
   ],
   "source": [
    "data.info()"
   ]
  },
  {
   "cell_type": "code",
   "execution_count": 24,
   "metadata": {},
   "outputs": [],
   "source": [
    "data=data.drop(['city'],axis=1)"
   ]
  },
  {
   "cell_type": "code",
   "execution_count": 53,
   "metadata": {},
   "outputs": [
    {
     "name": "stdout",
     "output_type": "stream",
     "text": [
      "<class 'pandas.core.frame.DataFrame'>\n",
      "Int64Index: 4542 entries, 0 to 4599\n",
      "Data columns (total 15 columns):\n",
      " #   Column         Non-Null Count  Dtype  \n",
      "---  ------         --------------  -----  \n",
      " 0   price          4542 non-null   float64\n",
      " 1   bedrooms       4542 non-null   int64  \n",
      " 2   bathrooms      4542 non-null   float64\n",
      " 3   sqft_living    4542 non-null   int64  \n",
      " 4   sqft_lot       4542 non-null   int64  \n",
      " 5   floors         4542 non-null   int64  \n",
      " 6   waterfront     4542 non-null   int64  \n",
      " 7   view           4542 non-null   int64  \n",
      " 8   condition      4542 non-null   int64  \n",
      " 9   sqft_above     4542 non-null   int64  \n",
      " 10  sqft_basement  4542 non-null   int64  \n",
      " 11  yr_built       4542 non-null   int64  \n",
      " 12  yr_renovated   4542 non-null   int64  \n",
      " 13  city_pca1      4542 non-null   float64\n",
      " 14  city_pca2      4542 non-null   float64\n",
      "dtypes: float64(4), int64(11)\n",
      "memory usage: 696.8 KB\n"
     ]
    }
   ],
   "source": [
    "data.info()"
   ]
  },
  {
   "cell_type": "code",
   "execution_count": null,
   "metadata": {},
   "outputs": [],
   "source": []
  },
  {
   "cell_type": "code",
   "execution_count": 54,
   "metadata": {},
   "outputs": [],
   "source": [
    "data.to_csv('out1.csv', index=False)"
   ]
  },
  {
   "cell_type": "code",
   "execution_count": null,
   "metadata": {},
   "outputs": [],
   "source": []
  },
  {
   "cell_type": "code",
   "execution_count": 25,
   "metadata": {},
   "outputs": [],
   "source": [
    "from sklearn.linear_model import Lasso"
   ]
  },
  {
   "cell_type": "code",
   "execution_count": 26,
   "metadata": {},
   "outputs": [],
   "source": [
    "X=data.drop(['price'],axis=1)\n",
    "y=data['price']"
   ]
  },
  {
   "cell_type": "code",
   "execution_count": 48,
   "metadata": {},
   "outputs": [],
   "source": [
    "X_train, X_test, y_train, y_test = train_test_split(X, y, test_size=0.2, random_state=42)"
   ]
  },
  {
   "cell_type": "code",
   "execution_count": 49,
   "metadata": {},
   "outputs": [],
   "source": [
    "lasso= Lasso(alpha=0.005)"
   ]
  },
  {
   "cell_type": "code",
   "execution_count": 50,
   "metadata": {},
   "outputs": [
    {
     "name": "stderr",
     "output_type": "stream",
     "text": [
      "C:\\Users\\ubaid\\Anaconda3\\lib\\site-packages\\sklearn\\linear_model\\coordinate_descent.py:475: ConvergenceWarning: Objective did not converge. You might want to increase the number of iterations. Duality gap: 176.2129251217143, tolerance: 0.10303766365982509\n",
      "  positive)\n"
     ]
    },
    {
     "data": {
      "text/plain": [
       "Lasso(alpha=0.005, copy_X=True, fit_intercept=True, max_iter=1000,\n",
       "      normalize=False, positive=False, precompute=False, random_state=None,\n",
       "      selection='cyclic', tol=0.0001, warm_start=False)"
      ]
     },
     "execution_count": 50,
     "metadata": {},
     "output_type": "execute_result"
    }
   ],
   "source": [
    "lasso.fit(X_train, y_train)"
   ]
  },
  {
   "cell_type": "code",
   "execution_count": 51,
   "metadata": {},
   "outputs": [],
   "source": [
    "y_pred = lasso.predict(X_test)"
   ]
  },
  {
   "cell_type": "code",
   "execution_count": 52,
   "metadata": {},
   "outputs": [
    {
     "data": {
      "text/plain": [
       "0.5855880106505635"
      ]
     },
     "execution_count": 52,
     "metadata": {},
     "output_type": "execute_result"
    }
   ],
   "source": [
    "lasso.score(X_train,y_train)"
   ]
  },
  {
   "cell_type": "code",
   "execution_count": 53,
   "metadata": {},
   "outputs": [
    {
     "data": {
      "text/plain": [
       "0.5420995314193955"
      ]
     },
     "execution_count": 53,
     "metadata": {},
     "output_type": "execute_result"
    }
   ],
   "source": [
    "lasso.score(X_test,y_test)"
   ]
  },
  {
   "cell_type": "code",
   "execution_count": 54,
   "metadata": {},
   "outputs": [],
   "source": [
    "y_train_pred=lasso.predict(X_train)\n",
    "y_test_pred=lasso.predict(X_test)"
   ]
  },
  {
   "cell_type": "code",
   "execution_count": 88,
   "metadata": {},
   "outputs": [
    {
     "name": "stdout",
     "output_type": "stream",
     "text": [
      "Mean Squared Error:  0.12074651925742565\n"
     ]
    }
   ],
   "source": [
    "from sklearn.metrics import mean_squared_error\n",
    "\n",
    "# Calculate and print the mean squared error\n",
    "mse = mean_squared_error(y_test, y_pred)\n",
    "print('Mean Squared Error: ', mse)\n"
   ]
  },
  {
   "cell_type": "code",
   "execution_count": 33,
   "metadata": {},
   "outputs": [
    {
     "name": "stdout",
     "output_type": "stream",
     "text": [
      "Root Mean Squared Error (RMSE): 0.34748387775469036\n"
     ]
    }
   ],
   "source": [
    "mse = mean_squared_error(y_test, y_pred)\n",
    "\n",
    "# Calculate Root Mean Squared Error (RMSE)\n",
    "rmse = np.sqrt(mse)\n",
    "\n",
    "print('Root Mean Squared Error (RMSE):', rmse)"
   ]
  },
  {
   "cell_type": "code",
   "execution_count": 34,
   "metadata": {},
   "outputs": [
    {
     "name": "stdout",
     "output_type": "stream",
     "text": [
      "R-squared: 0.5582542239460347\n"
     ]
    }
   ],
   "source": [
    "from sklearn.metrics import r2_score\n",
    "\n",
    "# Assuming Y_test and Y_pred are the true target values and predicted values, respectively\n",
    "r_squared = r2_score(y_test, y_pred)\n",
    "\n",
    "print('R-squared:', r_squared)"
   ]
  },
  {
   "cell_type": "code",
   "execution_count": 58,
   "metadata": {},
   "outputs": [
    {
     "name": "stdout",
     "output_type": "stream",
     "text": [
      "Root Mean Squared Error (RMSE): 0.3428320835795256\n"
     ]
    }
   ],
   "source": [
    "mse = mean_squared_error(y_train, y_train_pred)\n",
    "\n",
    "# Calculate Root Mean Squared Error (RMSE)\n",
    "rmse = np.sqrt(mse)\n",
    "\n",
    "print('Root Mean Squared Error (RMSE):', rmse)"
   ]
  },
  {
   "cell_type": "code",
   "execution_count": 56,
   "metadata": {},
   "outputs": [
    {
     "name": "stdout",
     "output_type": "stream",
     "text": [
      "Mean Squared Error:  0.11753383753147884\n"
     ]
    }
   ],
   "source": [
    "from sklearn.metrics import mean_squared_error\n",
    "\n",
    "# Calculate and print the mean squared error\n",
    "mse = mean_squared_error(y_train, y_train_pred)\n",
    "print('Mean Squared Error: ', mse)\n"
   ]
  },
  {
   "cell_type": "code",
   "execution_count": 57,
   "metadata": {},
   "outputs": [
    {
     "name": "stdout",
     "output_type": "stream",
     "text": [
      "R-squared: 0.5855880106505635\n"
     ]
    }
   ],
   "source": [
    "from sklearn.metrics import r2_score\n",
    "\n",
    "# Assuming Y_test and Y_pred are the true target values and predicted values, respectively\n",
    "r_squared = r2_score(y_train, y_train_pred)\n",
    "\n",
    "print('R-squared:', r_squared)\n"
   ]
  },
  {
   "cell_type": "code",
   "execution_count": null,
   "metadata": {},
   "outputs": [],
   "source": []
  },
  {
   "cell_type": "code",
   "execution_count": null,
   "metadata": {},
   "outputs": [],
   "source": []
  },
  {
   "cell_type": "code",
   "execution_count": null,
   "metadata": {},
   "outputs": [],
   "source": []
  },
  {
   "cell_type": "code",
   "execution_count": 181,
   "metadata": {},
   "outputs": [],
   "source": [
    "import xgboost as xgb\n",
    "from xgboost import XGBRegressor "
   ]
  },
  {
   "cell_type": "code",
   "execution_count": 200,
   "metadata": {},
   "outputs": [],
   "source": [
    "X_train, X_test, y_train, y_test = train_test_split(X, y, test_size=0.3, random_state=1)"
   ]
  },
  {
   "cell_type": "code",
   "execution_count": 201,
   "metadata": {},
   "outputs": [
    {
     "data": {
      "text/plain": [
       "XGBRegressor(base_score=0.5, booster='gbtree', callbacks=None,\n",
       "             colsample_bylevel=1, colsample_bynode=1, colsample_bytree=1,\n",
       "             early_stopping_rounds=None, enable_categorical=False,\n",
       "             eval_metric=None, gamma=0, gpu_id=-1, grow_policy='depthwise',\n",
       "             importance_type=None, interaction_constraints='',\n",
       "             learning_rate=0.300000012, max_bin=256, max_cat_to_onehot=4,\n",
       "             max_delta_step=0, max_depth=6, max_leaves=0, min_child_weight=1,\n",
       "             missing=nan, monotone_constraints='()', n_estimators=100, n_jobs=0,\n",
       "             num_parallel_tree=1, objective='reg:squarederror',\n",
       "             predictor='auto', random_state=0, reg_alpha=0, ...)"
      ]
     },
     "execution_count": 201,
     "metadata": {},
     "output_type": "execute_result"
    }
   ],
   "source": [
    "model = XGBRegressor()\n",
    "model.fit(X_train, y_train)\n"
   ]
  },
  {
   "cell_type": "code",
   "execution_count": 202,
   "metadata": {},
   "outputs": [],
   "source": [
    "y_pred = model.predict(X_test)"
   ]
  },
  {
   "cell_type": "code",
   "execution_count": 203,
   "metadata": {},
   "outputs": [
    {
     "data": {
      "text/plain": [
       "0.9680156202717849"
      ]
     },
     "execution_count": 203,
     "metadata": {},
     "output_type": "execute_result"
    }
   ],
   "source": [
    "model.score(X_train,y_train)"
   ]
  },
  {
   "cell_type": "code",
   "execution_count": null,
   "metadata": {},
   "outputs": [],
   "source": []
  },
  {
   "cell_type": "code",
   "execution_count": 305,
   "metadata": {},
   "outputs": [
    {
     "name": "stderr",
     "output_type": "stream",
     "text": [
      "C:\\Users\\ubaid\\Anaconda3\\lib\\site-packages\\sklearn\\model_selection\\_split.py:442: DeprecationWarning: `np.int` is a deprecated alias for the builtin `int`. To silence this warning, use `int` by itself. Doing this will not modify any behavior and is safe. When replacing `np.int`, you may wish to use e.g. `np.int64` or `np.int32` to specify the precision. If you wish to review your current use, check the release note link for additional information.\n",
      "Deprecated in NumPy 1.20; for more details and guidance: https://numpy.org/devdocs/release/1.20.0-notes.html#deprecations\n",
      "  fold_sizes = np.full(n_splits, n_samples // n_splits, dtype=np.int)\n",
      "C:\\Users\\ubaid\\Anaconda3\\lib\\site-packages\\sklearn\\model_selection\\_split.py:102: DeprecationWarning: `np.bool` is a deprecated alias for the builtin `bool`. To silence this warning, use `bool` by itself. Doing this will not modify any behavior and is safe. If you specifically wanted the numpy scalar type, use `np.bool_` here.\n",
      "Deprecated in NumPy 1.20; for more details and guidance: https://numpy.org/devdocs/release/1.20.0-notes.html#deprecations\n",
      "  test_mask = np.zeros(_num_samples(X), dtype=np.bool)\n",
      "C:\\Users\\ubaid\\Anaconda3\\lib\\site-packages\\sklearn\\model_selection\\_split.py:102: DeprecationWarning: `np.bool` is a deprecated alias for the builtin `bool`. To silence this warning, use `bool` by itself. Doing this will not modify any behavior and is safe. If you specifically wanted the numpy scalar type, use `np.bool_` here.\n",
      "Deprecated in NumPy 1.20; for more details and guidance: https://numpy.org/devdocs/release/1.20.0-notes.html#deprecations\n",
      "  test_mask = np.zeros(_num_samples(X), dtype=np.bool)\n",
      "C:\\Users\\ubaid\\Anaconda3\\lib\\site-packages\\sklearn\\model_selection\\_split.py:102: DeprecationWarning: `np.bool` is a deprecated alias for the builtin `bool`. To silence this warning, use `bool` by itself. Doing this will not modify any behavior and is safe. If you specifically wanted the numpy scalar type, use `np.bool_` here.\n",
      "Deprecated in NumPy 1.20; for more details and guidance: https://numpy.org/devdocs/release/1.20.0-notes.html#deprecations\n",
      "  test_mask = np.zeros(_num_samples(X), dtype=np.bool)\n",
      "C:\\Users\\ubaid\\Anaconda3\\lib\\site-packages\\sklearn\\model_selection\\_split.py:102: DeprecationWarning: `np.bool` is a deprecated alias for the builtin `bool`. To silence this warning, use `bool` by itself. Doing this will not modify any behavior and is safe. If you specifically wanted the numpy scalar type, use `np.bool_` here.\n",
      "Deprecated in NumPy 1.20; for more details and guidance: https://numpy.org/devdocs/release/1.20.0-notes.html#deprecations\n",
      "  test_mask = np.zeros(_num_samples(X), dtype=np.bool)\n",
      "C:\\Users\\ubaid\\Anaconda3\\lib\\site-packages\\sklearn\\model_selection\\_split.py:102: DeprecationWarning: `np.bool` is a deprecated alias for the builtin `bool`. To silence this warning, use `bool` by itself. Doing this will not modify any behavior and is safe. If you specifically wanted the numpy scalar type, use `np.bool_` here.\n",
      "Deprecated in NumPy 1.20; for more details and guidance: https://numpy.org/devdocs/release/1.20.0-notes.html#deprecations\n",
      "  test_mask = np.zeros(_num_samples(X), dtype=np.bool)\n",
      "C:\\Users\\ubaid\\Anaconda3\\lib\\site-packages\\sklearn\\linear_model\\coordinate_descent.py:475: ConvergenceWarning: Objective did not converge. You might want to increase the number of iterations. Duality gap: 195.30869658295973, tolerance: 0.1045415863819652\n",
      "  positive)\n",
      "C:\\Users\\ubaid\\Anaconda3\\lib\\site-packages\\sklearn\\linear_model\\coordinate_descent.py:475: ConvergenceWarning: Objective did not converge. You might want to increase the number of iterations. Duality gap: 197.78167267054184, tolerance: 0.1028201842955791\n",
      "  positive)\n",
      "C:\\Users\\ubaid\\Anaconda3\\lib\\site-packages\\sklearn\\linear_model\\coordinate_descent.py:475: ConvergenceWarning: Objective did not converge. You might want to increase the number of iterations. Duality gap: 202.93225625820062, tolerance: 0.10408366356363773\n",
      "  positive)\n",
      "C:\\Users\\ubaid\\Anaconda3\\lib\\site-packages\\sklearn\\linear_model\\coordinate_descent.py:475: ConvergenceWarning: Objective did not converge. You might want to increase the number of iterations. Duality gap: 201.81555230220522, tolerance: 0.1037994459256885\n",
      "  positive)\n",
      "C:\\Users\\ubaid\\Anaconda3\\lib\\site-packages\\sklearn\\linear_model\\coordinate_descent.py:475: ConvergenceWarning: Objective did not converge. You might want to increase the number of iterations. Duality gap: 174.74858420044515, tolerance: 0.09663349459119734\n",
      "  positive)\n",
      "C:\\Users\\ubaid\\Anaconda3\\lib\\site-packages\\sklearn\\model_selection\\_search.py:794: DeprecationWarning: `np.int` is a deprecated alias for the builtin `int`. To silence this warning, use `int` by itself. Doing this will not modify any behavior and is safe. When replacing `np.int`, you may wish to use e.g. `np.int64` or `np.int32` to specify the precision. If you wish to review your current use, check the release note link for additional information.\n",
      "Deprecated in NumPy 1.20; for more details and guidance: https://numpy.org/devdocs/release/1.20.0-notes.html#deprecations\n",
      "  dtype=np.int)\n"
     ]
    },
    {
     "name": "stdout",
     "output_type": "stream",
     "text": [
      "Best Alpha: 0.01\n",
      "Best Mean Squared Error: 0.12344894857455924\n"
     ]
    },
    {
     "name": "stderr",
     "output_type": "stream",
     "text": [
      "C:\\Users\\ubaid\\Anaconda3\\lib\\site-packages\\sklearn\\linear_model\\coordinate_descent.py:475: ConvergenceWarning: Objective did not converge. You might want to increase the number of iterations. Duality gap: 243.56474387976687, tolerance: 0.1279768547119863\n",
      "  positive)\n"
     ]
    }
   ],
   "source": [
    "from sklearn.linear_model import Lasso\n",
    "from sklearn.model_selection import GridSearchCV\n",
    "\n",
    "# Create a Lasso Regression model\n",
    "lasso_model = Lasso()\n",
    "\n",
    "# Define a range of alpha values to search over\n",
    "alphas = [0.01, 0.1, 1.0, 10.0]  # Customize this list with your alpha candidates\n",
    "\n",
    "# Create a parameter grid with the alpha values\n",
    "param_grid = {'alpha': alphas}\n",
    "\n",
    "# Create a grid search object\n",
    "grid_search = GridSearchCV(estimator=lasso_model, param_grid=param_grid, cv=5, scoring='neg_mean_squared_error')\n",
    "\n",
    "# Fit the grid search to your data\n",
    "grid_search.fit(X, y)  # Replace X and y with your predictor and target variables\n",
    "\n",
    "# Get the best alpha and corresponding mean squared error\n",
    "best_alpha = grid_search.best_params_['alpha']\n",
    "best_mse = -grid_search.best_score_  # Negate to get positive MSE\n",
    "\n",
    "print(f'Best Alpha: {best_alpha}')\n",
    "print(f'Best Mean Squared Error: {best_mse}')\n"
   ]
  },
  {
   "cell_type": "code",
   "execution_count": 306,
   "metadata": {},
   "outputs": [
    {
     "name": "stderr",
     "output_type": "stream",
     "text": [
      "C:\\Users\\ubaid\\Anaconda3\\lib\\site-packages\\sklearn\\model_selection\\_split.py:442: DeprecationWarning: `np.int` is a deprecated alias for the builtin `int`. To silence this warning, use `int` by itself. Doing this will not modify any behavior and is safe. When replacing `np.int`, you may wish to use e.g. `np.int64` or `np.int32` to specify the precision. If you wish to review your current use, check the release note link for additional information.\n",
      "Deprecated in NumPy 1.20; for more details and guidance: https://numpy.org/devdocs/release/1.20.0-notes.html#deprecations\n",
      "  fold_sizes = np.full(n_splits, n_samples // n_splits, dtype=np.int)\n",
      "C:\\Users\\ubaid\\Anaconda3\\lib\\site-packages\\sklearn\\model_selection\\_split.py:102: DeprecationWarning: `np.bool` is a deprecated alias for the builtin `bool`. To silence this warning, use `bool` by itself. Doing this will not modify any behavior and is safe. If you specifically wanted the numpy scalar type, use `np.bool_` here.\n",
      "Deprecated in NumPy 1.20; for more details and guidance: https://numpy.org/devdocs/release/1.20.0-notes.html#deprecations\n",
      "  test_mask = np.zeros(_num_samples(X), dtype=np.bool)\n",
      "C:\\Users\\ubaid\\Anaconda3\\lib\\site-packages\\sklearn\\model_selection\\_split.py:102: DeprecationWarning: `np.bool` is a deprecated alias for the builtin `bool`. To silence this warning, use `bool` by itself. Doing this will not modify any behavior and is safe. If you specifically wanted the numpy scalar type, use `np.bool_` here.\n",
      "Deprecated in NumPy 1.20; for more details and guidance: https://numpy.org/devdocs/release/1.20.0-notes.html#deprecations\n",
      "  test_mask = np.zeros(_num_samples(X), dtype=np.bool)\n",
      "C:\\Users\\ubaid\\Anaconda3\\lib\\site-packages\\sklearn\\model_selection\\_split.py:102: DeprecationWarning: `np.bool` is a deprecated alias for the builtin `bool`. To silence this warning, use `bool` by itself. Doing this will not modify any behavior and is safe. If you specifically wanted the numpy scalar type, use `np.bool_` here.\n",
      "Deprecated in NumPy 1.20; for more details and guidance: https://numpy.org/devdocs/release/1.20.0-notes.html#deprecations\n",
      "  test_mask = np.zeros(_num_samples(X), dtype=np.bool)\n",
      "C:\\Users\\ubaid\\Anaconda3\\lib\\site-packages\\sklearn\\model_selection\\_split.py:102: DeprecationWarning: `np.bool` is a deprecated alias for the builtin `bool`. To silence this warning, use `bool` by itself. Doing this will not modify any behavior and is safe. If you specifically wanted the numpy scalar type, use `np.bool_` here.\n",
      "Deprecated in NumPy 1.20; for more details and guidance: https://numpy.org/devdocs/release/1.20.0-notes.html#deprecations\n",
      "  test_mask = np.zeros(_num_samples(X), dtype=np.bool)\n",
      "C:\\Users\\ubaid\\Anaconda3\\lib\\site-packages\\sklearn\\model_selection\\_split.py:102: DeprecationWarning: `np.bool` is a deprecated alias for the builtin `bool`. To silence this warning, use `bool` by itself. Doing this will not modify any behavior and is safe. If you specifically wanted the numpy scalar type, use `np.bool_` here.\n",
      "Deprecated in NumPy 1.20; for more details and guidance: https://numpy.org/devdocs/release/1.20.0-notes.html#deprecations\n",
      "  test_mask = np.zeros(_num_samples(X), dtype=np.bool)\n",
      "C:\\Users\\ubaid\\Anaconda3\\lib\\site-packages\\sklearn\\linear_model\\coordinate_descent.py:475: ConvergenceWarning: Objective did not converge. You might want to increase the number of iterations. Duality gap: 170.88643344232025, tolerance: 0.1045415863819652\n",
      "  positive)\n",
      "C:\\Users\\ubaid\\Anaconda3\\lib\\site-packages\\sklearn\\linear_model\\coordinate_descent.py:475: ConvergenceWarning: Objective did not converge. You might want to increase the number of iterations. Duality gap: 173.20274804947528, tolerance: 0.1028201842955791\n",
      "  positive)\n",
      "C:\\Users\\ubaid\\Anaconda3\\lib\\site-packages\\sklearn\\linear_model\\coordinate_descent.py:475: ConvergenceWarning: Objective did not converge. You might want to increase the number of iterations. Duality gap: 178.28413697325328, tolerance: 0.10408366356363773\n",
      "  positive)\n",
      "C:\\Users\\ubaid\\Anaconda3\\lib\\site-packages\\sklearn\\linear_model\\coordinate_descent.py:475: ConvergenceWarning: Objective did not converge. You might want to increase the number of iterations. Duality gap: 176.9382215827447, tolerance: 0.1037994459256885\n",
      "  positive)\n",
      "C:\\Users\\ubaid\\Anaconda3\\lib\\site-packages\\sklearn\\linear_model\\coordinate_descent.py:475: ConvergenceWarning: Objective did not converge. You might want to increase the number of iterations. Duality gap: 150.13385764038, tolerance: 0.09663349459119734\n",
      "  positive)\n",
      "C:\\Users\\ubaid\\Anaconda3\\lib\\site-packages\\sklearn\\linear_model\\coordinate_descent.py:475: ConvergenceWarning: Objective did not converge. You might want to increase the number of iterations. Duality gap: 170.88722562922823, tolerance: 0.1045415863819652\n",
      "  positive)\n",
      "C:\\Users\\ubaid\\Anaconda3\\lib\\site-packages\\sklearn\\linear_model\\coordinate_descent.py:475: ConvergenceWarning: Objective did not converge. You might want to increase the number of iterations. Duality gap: 173.20358802599452, tolerance: 0.1028201842955791\n",
      "  positive)\n",
      "C:\\Users\\ubaid\\Anaconda3\\lib\\site-packages\\sklearn\\linear_model\\coordinate_descent.py:475: ConvergenceWarning: Objective did not converge. You might want to increase the number of iterations. Duality gap: 178.28498596573073, tolerance: 0.10408366356363773\n",
      "  positive)\n",
      "C:\\Users\\ubaid\\Anaconda3\\lib\\site-packages\\sklearn\\linear_model\\coordinate_descent.py:475: ConvergenceWarning: Objective did not converge. You might want to increase the number of iterations. Duality gap: 176.93909510868872, tolerance: 0.1037994459256885\n",
      "  positive)\n",
      "C:\\Users\\ubaid\\Anaconda3\\lib\\site-packages\\sklearn\\linear_model\\coordinate_descent.py:475: ConvergenceWarning: Objective did not converge. You might want to increase the number of iterations. Duality gap: 150.13466765688574, tolerance: 0.09663349459119734\n",
      "  positive)\n",
      "C:\\Users\\ubaid\\Anaconda3\\lib\\site-packages\\sklearn\\linear_model\\coordinate_descent.py:475: ConvergenceWarning: Objective did not converge. You might want to increase the number of iterations. Duality gap: 170.88817115244143, tolerance: 0.1045415863819652\n",
      "  positive)\n",
      "C:\\Users\\ubaid\\Anaconda3\\lib\\site-packages\\sklearn\\linear_model\\coordinate_descent.py:475: ConvergenceWarning: Objective did not converge. You might want to increase the number of iterations. Duality gap: 173.204591963954, tolerance: 0.1028201842955791\n",
      "  positive)\n",
      "C:\\Users\\ubaid\\Anaconda3\\lib\\site-packages\\sklearn\\linear_model\\coordinate_descent.py:475: ConvergenceWarning: Objective did not converge. You might want to increase the number of iterations. Duality gap: 178.28600415919624, tolerance: 0.10408366356363773\n",
      "  positive)\n",
      "C:\\Users\\ubaid\\Anaconda3\\lib\\site-packages\\sklearn\\linear_model\\coordinate_descent.py:475: ConvergenceWarning: Objective did not converge. You might want to increase the number of iterations. Duality gap: 176.9401531724364, tolerance: 0.1037994459256885\n",
      "  positive)\n",
      "C:\\Users\\ubaid\\Anaconda3\\lib\\site-packages\\sklearn\\linear_model\\coordinate_descent.py:475: ConvergenceWarning: Objective did not converge. You might want to increase the number of iterations. Duality gap: 150.13565041657614, tolerance: 0.09663349459119734\n",
      "  positive)\n",
      "C:\\Users\\ubaid\\Anaconda3\\lib\\site-packages\\sklearn\\linear_model\\coordinate_descent.py:475: ConvergenceWarning: Objective did not converge. You might want to increase the number of iterations. Duality gap: 170.88931329531903, tolerance: 0.1045415863819652\n",
      "  positive)\n",
      "C:\\Users\\ubaid\\Anaconda3\\lib\\site-packages\\sklearn\\linear_model\\coordinate_descent.py:475: ConvergenceWarning: Objective did not converge. You might want to increase the number of iterations. Duality gap: 173.2058032002064, tolerance: 0.1028201842955791\n",
      "  positive)\n",
      "C:\\Users\\ubaid\\Anaconda3\\lib\\site-packages\\sklearn\\linear_model\\coordinate_descent.py:475: ConvergenceWarning: Objective did not converge. You might want to increase the number of iterations. Duality gap: 178.28722793869986, tolerance: 0.10408366356363773\n",
      "  positive)\n",
      "C:\\Users\\ubaid\\Anaconda3\\lib\\site-packages\\sklearn\\linear_model\\coordinate_descent.py:475: ConvergenceWarning: Objective did not converge. You might want to increase the number of iterations. Duality gap: 176.94142560154168, tolerance: 0.1037994459256885\n",
      "  positive)\n"
     ]
    },
    {
     "name": "stderr",
     "output_type": "stream",
     "text": [
      "C:\\Users\\ubaid\\Anaconda3\\lib\\site-packages\\sklearn\\linear_model\\coordinate_descent.py:475: ConvergenceWarning: Objective did not converge. You might want to increase the number of iterations. Duality gap: 150.1368305493501, tolerance: 0.09663349459119734\n",
      "  positive)\n",
      "C:\\Users\\ubaid\\Anaconda3\\lib\\site-packages\\sklearn\\linear_model\\coordinate_descent.py:475: ConvergenceWarning: Objective did not converge. You might want to increase the number of iterations. Duality gap: 170.89069121033415, tolerance: 0.1045415863819652\n",
      "  positive)\n",
      "C:\\Users\\ubaid\\Anaconda3\\lib\\site-packages\\sklearn\\linear_model\\coordinate_descent.py:475: ConvergenceWarning: Objective did not converge. You might want to increase the number of iterations. Duality gap: 173.20726097872247, tolerance: 0.1028201842955791\n",
      "  positive)\n",
      "C:\\Users\\ubaid\\Anaconda3\\lib\\site-packages\\sklearn\\linear_model\\coordinate_descent.py:475: ConvergenceWarning: Objective did not converge. You might want to increase the number of iterations. Duality gap: 178.28870090096737, tolerance: 0.10408366356363773\n",
      "  positive)\n",
      "C:\\Users\\ubaid\\Anaconda3\\lib\\site-packages\\sklearn\\linear_model\\coordinate_descent.py:475: ConvergenceWarning: Objective did not converge. You might want to increase the number of iterations. Duality gap: 176.94295741669296, tolerance: 0.1037994459256885\n",
      "  positive)\n",
      "C:\\Users\\ubaid\\Anaconda3\\lib\\site-packages\\sklearn\\linear_model\\coordinate_descent.py:475: ConvergenceWarning: Objective did not converge. You might want to increase the number of iterations. Duality gap: 150.13825042593422, tolerance: 0.09663349459119734\n",
      "  positive)\n",
      "C:\\Users\\ubaid\\Anaconda3\\lib\\site-packages\\sklearn\\linear_model\\coordinate_descent.py:475: ConvergenceWarning: Objective did not converge. You might want to increase the number of iterations. Duality gap: 170.89234825001955, tolerance: 0.1045415863819652\n",
      "  positive)\n",
      "C:\\Users\\ubaid\\Anaconda3\\lib\\site-packages\\sklearn\\linear_model\\coordinate_descent.py:475: ConvergenceWarning: Objective did not converge. You might want to increase the number of iterations. Duality gap: 173.20902075579102, tolerance: 0.1028201842955791\n",
      "  positive)\n",
      "C:\\Users\\ubaid\\Anaconda3\\lib\\site-packages\\sklearn\\linear_model\\coordinate_descent.py:475: ConvergenceWarning: Objective did not converge. You might want to increase the number of iterations. Duality gap: 178.29047829561767, tolerance: 0.10408366356363773\n",
      "  positive)\n",
      "C:\\Users\\ubaid\\Anaconda3\\lib\\site-packages\\sklearn\\linear_model\\coordinate_descent.py:475: ConvergenceWarning: Objective did not converge. You might want to increase the number of iterations. Duality gap: 176.94480410408127, tolerance: 0.1037994459256885\n",
      "  positive)\n",
      "C:\\Users\\ubaid\\Anaconda3\\lib\\site-packages\\sklearn\\linear_model\\coordinate_descent.py:475: ConvergenceWarning: Objective did not converge. You might want to increase the number of iterations. Duality gap: 150.1399617868222, tolerance: 0.09663349459119734\n",
      "  positive)\n",
      "C:\\Users\\ubaid\\Anaconda3\\lib\\site-packages\\sklearn\\linear_model\\coordinate_descent.py:475: ConvergenceWarning: Objective did not converge. You might want to increase the number of iterations. Duality gap: 170.8943463131572, tolerance: 0.1045415863819652\n",
      "  positive)\n",
      "C:\\Users\\ubaid\\Anaconda3\\lib\\site-packages\\sklearn\\linear_model\\coordinate_descent.py:475: ConvergenceWarning: Objective did not converge. You might want to increase the number of iterations. Duality gap: 173.21113962545581, tolerance: 0.1028201842955791\n",
      "  positive)\n",
      "C:\\Users\\ubaid\\Anaconda3\\lib\\site-packages\\sklearn\\linear_model\\coordinate_descent.py:475: ConvergenceWarning: Objective did not converge. You might want to increase the number of iterations. Duality gap: 178.2926168920526, tolerance: 0.10408366356363773\n",
      "  positive)\n",
      "C:\\Users\\ubaid\\Anaconda3\\lib\\site-packages\\sklearn\\linear_model\\coordinate_descent.py:475: ConvergenceWarning: Objective did not converge. You might want to increase the number of iterations. Duality gap: 176.9470274724485, tolerance: 0.1037994459256885\n",
      "  positive)\n",
      "C:\\Users\\ubaid\\Anaconda3\\lib\\site-packages\\sklearn\\linear_model\\coordinate_descent.py:475: ConvergenceWarning: Objective did not converge. You might want to increase the number of iterations. Duality gap: 150.14202247529147, tolerance: 0.09663349459119734\n",
      "  positive)\n",
      "C:\\Users\\ubaid\\Anaconda3\\lib\\site-packages\\sklearn\\linear_model\\coordinate_descent.py:475: ConvergenceWarning: Objective did not converge. You might want to increase the number of iterations. Duality gap: 170.89675141307086, tolerance: 0.1045415863819652\n",
      "  positive)\n",
      "C:\\Users\\ubaid\\Anaconda3\\lib\\site-packages\\sklearn\\linear_model\\coordinate_descent.py:475: ConvergenceWarning: Objective did not converge. You might want to increase the number of iterations. Duality gap: 173.21369089675056, tolerance: 0.1028201842955791\n",
      "  positive)\n",
      "C:\\Users\\ubaid\\Anaconda3\\lib\\site-packages\\sklearn\\linear_model\\coordinate_descent.py:475: ConvergenceWarning: Objective did not converge. You might want to increase the number of iterations. Duality gap: 178.2951927860439, tolerance: 0.10408366356363773\n",
      "  positive)\n",
      "C:\\Users\\ubaid\\Anaconda3\\lib\\site-packages\\sklearn\\linear_model\\coordinate_descent.py:475: ConvergenceWarning: Objective did not converge. You might want to increase the number of iterations. Duality gap: 176.9497043507439, tolerance: 0.1037994459256885\n",
      "  positive)\n",
      "C:\\Users\\ubaid\\Anaconda3\\lib\\site-packages\\sklearn\\linear_model\\coordinate_descent.py:475: ConvergenceWarning: Objective did not converge. You might want to increase the number of iterations. Duality gap: 150.14450542683633, tolerance: 0.09663349459119734\n",
      "  positive)\n",
      "C:\\Users\\ubaid\\Anaconda3\\lib\\site-packages\\sklearn\\linear_model\\coordinate_descent.py:475: ConvergenceWarning: Objective did not converge. You might want to increase the number of iterations. Duality gap: 170.8996471552601, tolerance: 0.1045415863819652\n",
      "  positive)\n",
      "C:\\Users\\ubaid\\Anaconda3\\lib\\site-packages\\sklearn\\linear_model\\coordinate_descent.py:475: ConvergenceWarning: Objective did not converge. You might want to increase the number of iterations. Duality gap: 173.216762818079, tolerance: 0.1028201842955791\n",
      "  positive)\n",
      "C:\\Users\\ubaid\\Anaconda3\\lib\\site-packages\\sklearn\\linear_model\\coordinate_descent.py:475: ConvergenceWarning: Objective did not converge. You might want to increase the number of iterations. Duality gap: 178.29829518638286, tolerance: 0.10408366356363773\n",
      "  positive)\n",
      "C:\\Users\\ubaid\\Anaconda3\\lib\\site-packages\\sklearn\\linear_model\\coordinate_descent.py:475: ConvergenceWarning: Objective did not converge. You might want to increase the number of iterations. Duality gap: 176.95292777782146, tolerance: 0.1037994459256885\n",
      "  positive)\n",
      "C:\\Users\\ubaid\\Anaconda3\\lib\\site-packages\\sklearn\\linear_model\\coordinate_descent.py:475: ConvergenceWarning: Objective did not converge. You might want to increase the number of iterations. Duality gap: 150.1474939246725, tolerance: 0.09663349459119734\n",
      "  positive)\n",
      "C:\\Users\\ubaid\\Anaconda3\\lib\\site-packages\\sklearn\\linear_model\\coordinate_descent.py:475: ConvergenceWarning: Objective did not converge. You might want to increase the number of iterations. Duality gap: 170.90313687394928, tolerance: 0.1045415863819652\n",
      "  positive)\n",
      "C:\\Users\\ubaid\\Anaconda3\\lib\\site-packages\\sklearn\\linear_model\\coordinate_descent.py:475: ConvergenceWarning: Objective did not converge. You might want to increase the number of iterations. Duality gap: 173.22046244066559, tolerance: 0.1028201842955791\n",
      "  positive)\n",
      "C:\\Users\\ubaid\\Anaconda3\\lib\\site-packages\\sklearn\\linear_model\\coordinate_descent.py:475: ConvergenceWarning: Objective did not converge. You might want to increase the number of iterations. Duality gap: 178.30203250292348, tolerance: 0.10408366356363773\n",
      "  positive)\n",
      "C:\\Users\\ubaid\\Anaconda3\\lib\\site-packages\\sklearn\\linear_model\\coordinate_descent.py:475: ConvergenceWarning: Objective did not converge. You might want to increase the number of iterations. Duality gap: 176.95681179034364, tolerance: 0.1037994459256885\n",
      "  positive)\n",
      "C:\\Users\\ubaid\\Anaconda3\\lib\\site-packages\\sklearn\\linear_model\\coordinate_descent.py:475: ConvergenceWarning: Objective did not converge. You might want to increase the number of iterations. Duality gap: 150.15109372822914, tolerance: 0.09663349459119734\n",
      "  positive)\n"
     ]
    },
    {
     "name": "stderr",
     "output_type": "stream",
     "text": [
      "C:\\Users\\ubaid\\Anaconda3\\lib\\site-packages\\sklearn\\linear_model\\coordinate_descent.py:475: ConvergenceWarning: Objective did not converge. You might want to increase the number of iterations. Duality gap: 170.90733640381268, tolerance: 0.1045415863819652\n",
      "  positive)\n",
      "C:\\Users\\ubaid\\Anaconda3\\lib\\site-packages\\sklearn\\linear_model\\coordinate_descent.py:475: ConvergenceWarning: Objective did not converge. You might want to increase the number of iterations. Duality gap: 173.2249190352152, tolerance: 0.1028201842955791\n",
      "  positive)\n",
      "C:\\Users\\ubaid\\Anaconda3\\lib\\site-packages\\sklearn\\linear_model\\coordinate_descent.py:475: ConvergenceWarning: Objective did not converge. You might want to increase the number of iterations. Duality gap: 178.30653373752403, tolerance: 0.10408366356363773\n",
      "  positive)\n",
      "C:\\Users\\ubaid\\Anaconda3\\lib\\site-packages\\sklearn\\linear_model\\coordinate_descent.py:475: ConvergenceWarning: Objective did not converge. You might want to increase the number of iterations. Duality gap: 176.96148873435914, tolerance: 0.1037994459256885\n",
      "  positive)\n",
      "C:\\Users\\ubaid\\Anaconda3\\lib\\site-packages\\sklearn\\linear_model\\coordinate_descent.py:475: ConvergenceWarning: Objective did not converge. You might want to increase the number of iterations. Duality gap: 150.15542976949433, tolerance: 0.09663349459119734\n",
      "  positive)\n",
      "C:\\Users\\ubaid\\Anaconda3\\lib\\site-packages\\sklearn\\linear_model\\coordinate_descent.py:475: ConvergenceWarning: Objective did not converge. You might want to increase the number of iterations. Duality gap: 170.91239467851062, tolerance: 0.1045415863819652\n",
      "  positive)\n",
      "C:\\Users\\ubaid\\Anaconda3\\lib\\site-packages\\sklearn\\linear_model\\coordinate_descent.py:475: ConvergenceWarning: Objective did not converge. You might want to increase the number of iterations. Duality gap: 173.23028455170342, tolerance: 0.1028201842955791\n",
      "  positive)\n",
      "C:\\Users\\ubaid\\Anaconda3\\lib\\site-packages\\sklearn\\linear_model\\coordinate_descent.py:475: ConvergenceWarning: Objective did not converge. You might want to increase the number of iterations. Duality gap: 178.31195307333846, tolerance: 0.10408366356363773\n",
      "  positive)\n",
      "C:\\Users\\ubaid\\Anaconda3\\lib\\site-packages\\sklearn\\linear_model\\coordinate_descent.py:475: ConvergenceWarning: Objective did not converge. You might want to increase the number of iterations. Duality gap: 176.9671213446418, tolerance: 0.1037994459256885\n",
      "  positive)\n",
      "C:\\Users\\ubaid\\Anaconda3\\lib\\site-packages\\sklearn\\linear_model\\coordinate_descent.py:475: ConvergenceWarning: Objective did not converge. You might want to increase the number of iterations. Duality gap: 150.16065088127618, tolerance: 0.09663349459119734\n",
      "  positive)\n",
      "C:\\Users\\ubaid\\Anaconda3\\lib\\site-packages\\sklearn\\linear_model\\coordinate_descent.py:475: ConvergenceWarning: Objective did not converge. You might want to increase the number of iterations. Duality gap: 170.91848559931287, tolerance: 0.1045415863819652\n",
      "  positive)\n",
      "C:\\Users\\ubaid\\Anaconda3\\lib\\site-packages\\sklearn\\linear_model\\coordinate_descent.py:475: ConvergenceWarning: Objective did not converge. You might want to increase the number of iterations. Duality gap: 173.23674626687702, tolerance: 0.1028201842955791\n",
      "  positive)\n",
      "C:\\Users\\ubaid\\Anaconda3\\lib\\site-packages\\sklearn\\linear_model\\coordinate_descent.py:475: ConvergenceWarning: Objective did not converge. You might want to increase the number of iterations. Duality gap: 178.31847920245787, tolerance: 0.10408366356363773\n",
      "  positive)\n",
      "C:\\Users\\ubaid\\Anaconda3\\lib\\site-packages\\sklearn\\linear_model\\coordinate_descent.py:475: ConvergenceWarning: Objective did not converge. You might want to increase the number of iterations. Duality gap: 176.97390251108445, tolerance: 0.1037994459256885\n",
      "  positive)\n",
      "C:\\Users\\ubaid\\Anaconda3\\lib\\site-packages\\sklearn\\linear_model\\coordinate_descent.py:475: ConvergenceWarning: Objective did not converge. You might want to increase the number of iterations. Duality gap: 150.16693802358313, tolerance: 0.09663349459119734\n",
      "  positive)\n",
      "C:\\Users\\ubaid\\Anaconda3\\lib\\site-packages\\sklearn\\linear_model\\coordinate_descent.py:475: ConvergenceWarning: Objective did not converge. You might want to increase the number of iterations. Duality gap: 170.92582007870686, tolerance: 0.1045415863819652\n",
      "  positive)\n",
      "C:\\Users\\ubaid\\Anaconda3\\lib\\site-packages\\sklearn\\linear_model\\coordinate_descent.py:475: ConvergenceWarning: Objective did not converge. You might want to increase the number of iterations. Duality gap: 173.24452619083456, tolerance: 0.1028201842955791\n",
      "  positive)\n",
      "C:\\Users\\ubaid\\Anaconda3\\lib\\site-packages\\sklearn\\linear_model\\coordinate_descent.py:475: ConvergenceWarning: Objective did not converge. You might want to increase the number of iterations. Duality gap: 178.32633748408585, tolerance: 0.10408366356363773\n",
      "  positive)\n",
      "C:\\Users\\ubaid\\Anaconda3\\lib\\site-packages\\sklearn\\linear_model\\coordinate_descent.py:475: ConvergenceWarning: Objective did not converge. You might want to increase the number of iterations. Duality gap: 176.98206790077063, tolerance: 0.1037994459256885\n",
      "  positive)\n",
      "C:\\Users\\ubaid\\Anaconda3\\lib\\site-packages\\sklearn\\linear_model\\coordinate_descent.py:475: ConvergenceWarning: Objective did not converge. You might want to increase the number of iterations. Duality gap: 150.17450878279948, tolerance: 0.09663349459119734\n",
      "  positive)\n",
      "C:\\Users\\ubaid\\Anaconda3\\lib\\site-packages\\sklearn\\linear_model\\coordinate_descent.py:475: ConvergenceWarning: Objective did not converge. You might want to increase the number of iterations. Duality gap: 170.9346502516066, tolerance: 0.1045415863819652\n",
      "  positive)\n",
      "C:\\Users\\ubaid\\Anaconda3\\lib\\site-packages\\sklearn\\linear_model\\coordinate_descent.py:475: ConvergenceWarning: Objective did not converge. You might want to increase the number of iterations. Duality gap: 173.25389475118368, tolerance: 0.1028201842955791\n",
      "  positive)\n",
      "C:\\Users\\ubaid\\Anaconda3\\lib\\site-packages\\sklearn\\linear_model\\coordinate_descent.py:475: ConvergenceWarning: Objective did not converge. You might want to increase the number of iterations. Duality gap: 178.33579897506928, tolerance: 0.10408366356363773\n",
      "  positive)\n",
      "C:\\Users\\ubaid\\Anaconda3\\lib\\site-packages\\sklearn\\linear_model\\coordinate_descent.py:475: ConvergenceWarning: Objective did not converge. You might want to increase the number of iterations. Duality gap: 176.99189944747098, tolerance: 0.1037994459256885\n",
      "  positive)\n",
      "C:\\Users\\ubaid\\Anaconda3\\lib\\site-packages\\sklearn\\linear_model\\coordinate_descent.py:475: ConvergenceWarning: Objective did not converge. You might want to increase the number of iterations. Duality gap: 150.18362386773137, tolerance: 0.09663349459119734\n",
      "  positive)\n",
      "C:\\Users\\ubaid\\Anaconda3\\lib\\site-packages\\sklearn\\linear_model\\coordinate_descent.py:475: ConvergenceWarning: Objective did not converge. You might want to increase the number of iterations. Duality gap: 170.94528101166782, tolerance: 0.1045415863819652\n",
      "  positive)\n",
      "C:\\Users\\ubaid\\Anaconda3\\lib\\site-packages\\sklearn\\linear_model\\coordinate_descent.py:475: ConvergenceWarning: Objective did not converge. You might want to increase the number of iterations. Duality gap: 173.26517389988135, tolerance: 0.1028201842955791\n",
      "  positive)\n",
      "C:\\Users\\ubaid\\Anaconda3\\lib\\site-packages\\sklearn\\linear_model\\coordinate_descent.py:475: ConvergenceWarning: Objective did not converge. You might want to increase the number of iterations. Duality gap: 178.34719054716606, tolerance: 0.10408366356363773\n",
      "  positive)\n",
      "C:\\Users\\ubaid\\Anaconda3\\lib\\site-packages\\sklearn\\linear_model\\coordinate_descent.py:475: ConvergenceWarning: Objective did not converge. You might want to increase the number of iterations. Duality gap: 177.00373569366695, tolerance: 0.1037994459256885\n",
      "  positive)\n",
      "C:\\Users\\ubaid\\Anaconda3\\lib\\site-packages\\sklearn\\linear_model\\coordinate_descent.py:475: ConvergenceWarning: Objective did not converge. You might want to increase the number of iterations. Duality gap: 150.19459763233837, tolerance: 0.09663349459119734\n",
      "  positive)\n",
      "C:\\Users\\ubaid\\Anaconda3\\lib\\site-packages\\sklearn\\linear_model\\coordinate_descent.py:475: ConvergenceWarning: Objective did not converge. You might want to increase the number of iterations. Duality gap: 170.9580783028992, tolerance: 0.1045415863819652\n",
      "  positive)\n"
     ]
    },
    {
     "name": "stderr",
     "output_type": "stream",
     "text": [
      "C:\\Users\\ubaid\\Anaconda3\\lib\\site-packages\\sklearn\\linear_model\\coordinate_descent.py:475: ConvergenceWarning: Objective did not converge. You might want to increase the number of iterations. Duality gap: 173.27875242321417, tolerance: 0.1028201842955791\n",
      "  positive)\n",
      "C:\\Users\\ubaid\\Anaconda3\\lib\\site-packages\\sklearn\\linear_model\\coordinate_descent.py:475: ConvergenceWarning: Objective did not converge. You might want to increase the number of iterations. Duality gap: 178.36090404280318, tolerance: 0.10408366356363773\n",
      "  positive)\n",
      "C:\\Users\\ubaid\\Anaconda3\\lib\\site-packages\\sklearn\\linear_model\\coordinate_descent.py:475: ConvergenceWarning: Objective did not converge. You might want to increase the number of iterations. Duality gap: 177.01798437155497, tolerance: 0.1037994459256885\n",
      "  positive)\n",
      "C:\\Users\\ubaid\\Anaconda3\\lib\\site-packages\\sklearn\\linear_model\\coordinate_descent.py:475: ConvergenceWarning: Objective did not converge. You might want to increase the number of iterations. Duality gap: 150.2078083762107, tolerance: 0.09663349459119734\n",
      "  positive)\n",
      "C:\\Users\\ubaid\\Anaconda3\\lib\\site-packages\\sklearn\\linear_model\\coordinate_descent.py:475: ConvergenceWarning: Objective did not converge. You might want to increase the number of iterations. Duality gap: 170.97348124641593, tolerance: 0.1045415863819652\n",
      "  positive)\n",
      "C:\\Users\\ubaid\\Anaconda3\\lib\\site-packages\\sklearn\\linear_model\\coordinate_descent.py:475: ConvergenceWarning: Objective did not converge. You might want to increase the number of iterations. Duality gap: 173.29509719051993, tolerance: 0.1028201842955791\n",
      "  positive)\n",
      "C:\\Users\\ubaid\\Anaconda3\\lib\\site-packages\\sklearn\\linear_model\\coordinate_descent.py:475: ConvergenceWarning: Objective did not converge. You might want to increase the number of iterations. Duality gap: 178.37741110852392, tolerance: 0.10408366356363773\n",
      "  positive)\n",
      "C:\\Users\\ubaid\\Anaconda3\\lib\\site-packages\\sklearn\\linear_model\\coordinate_descent.py:475: ConvergenceWarning: Objective did not converge. You might want to increase the number of iterations. Duality gap: 177.0351346268716, tolerance: 0.1037994459256885\n",
      "  positive)\n",
      "C:\\Users\\ubaid\\Anaconda3\\lib\\site-packages\\sklearn\\linear_model\\coordinate_descent.py:475: ConvergenceWarning: Objective did not converge. You might want to increase the number of iterations. Duality gap: 150.22371025225561, tolerance: 0.09663349459119734\n",
      "  positive)\n",
      "C:\\Users\\ubaid\\Anaconda3\\lib\\site-packages\\sklearn\\linear_model\\coordinate_descent.py:475: ConvergenceWarning: Objective did not converge. You might want to increase the number of iterations. Duality gap: 170.99201840440594, tolerance: 0.1045415863819652\n",
      "  positive)\n",
      "C:\\Users\\ubaid\\Anaconda3\\lib\\site-packages\\sklearn\\linear_model\\coordinate_descent.py:475: ConvergenceWarning: Objective did not converge. You might want to increase the number of iterations. Duality gap: 173.3147688243397, tolerance: 0.1028201842955791\n",
      "  positive)\n",
      "C:\\Users\\ubaid\\Anaconda3\\lib\\site-packages\\sklearn\\linear_model\\coordinate_descent.py:475: ConvergenceWarning: Objective did not converge. You might want to increase the number of iterations. Duality gap: 178.3972776632015, tolerance: 0.10408366356363773\n",
      "  positive)\n",
      "C:\\Users\\ubaid\\Anaconda3\\lib\\site-packages\\sklearn\\linear_model\\coordinate_descent.py:475: ConvergenceWarning: Objective did not converge. You might want to increase the number of iterations. Duality gap: 177.05577480738458, tolerance: 0.1037994459256885\n",
      "  positive)\n",
      "C:\\Users\\ubaid\\Anaconda3\\lib\\site-packages\\sklearn\\linear_model\\coordinate_descent.py:475: ConvergenceWarning: Objective did not converge. You might want to increase the number of iterations. Duality gap: 150.24284815132637, tolerance: 0.09663349459119734\n",
      "  positive)\n",
      "C:\\Users\\ubaid\\Anaconda3\\lib\\site-packages\\sklearn\\linear_model\\coordinate_descent.py:475: ConvergenceWarning: Objective did not converge. You might want to increase the number of iterations. Duality gap: 171.01432277439733, tolerance: 0.1045415863819652\n",
      "  positive)\n",
      "C:\\Users\\ubaid\\Anaconda3\\lib\\site-packages\\sklearn\\linear_model\\coordinate_descent.py:475: ConvergenceWarning: Objective did not converge. You might want to increase the number of iterations. Duality gap: 173.33844123898314, tolerance: 0.1028201842955791\n",
      "  positive)\n",
      "C:\\Users\\ubaid\\Anaconda3\\lib\\site-packages\\sklearn\\linear_model\\coordinate_descent.py:475: ConvergenceWarning: Objective did not converge. You might want to increase the number of iterations. Duality gap: 178.42118401632342, tolerance: 0.10408366356363773\n",
      "  positive)\n",
      "C:\\Users\\ubaid\\Anaconda3\\lib\\site-packages\\sklearn\\linear_model\\coordinate_descent.py:475: ConvergenceWarning: Objective did not converge. You might want to increase the number of iterations. Duality gap: 177.0806100709745, tolerance: 0.1037994459256885\n",
      "  positive)\n",
      "C:\\Users\\ubaid\\Anaconda3\\lib\\site-packages\\sklearn\\linear_model\\coordinate_descent.py:475: ConvergenceWarning: Objective did not converge. You might want to increase the number of iterations. Duality gap: 150.26587723892908, tolerance: 0.09663349459119734\n",
      "  positive)\n",
      "C:\\Users\\ubaid\\Anaconda3\\lib\\site-packages\\sklearn\\linear_model\\coordinate_descent.py:475: ConvergenceWarning: Objective did not converge. You might want to increase the number of iterations. Duality gap: 171.0411543887492, tolerance: 0.1045415863819652\n",
      "  positive)\n",
      "C:\\Users\\ubaid\\Anaconda3\\lib\\site-packages\\sklearn\\linear_model\\coordinate_descent.py:475: ConvergenceWarning: Objective did not converge. You might want to increase the number of iterations. Duality gap: 173.36692205120974, tolerance: 0.1028201842955791\n",
      "  positive)\n",
      "C:\\Users\\ubaid\\Anaconda3\\lib\\site-packages\\sklearn\\linear_model\\coordinate_descent.py:475: ConvergenceWarning: Objective did not converge. You might want to increase the number of iterations. Duality gap: 178.4499458024527, tolerance: 0.10408366356363773\n",
      "  positive)\n",
      "C:\\Users\\ubaid\\Anaconda3\\lib\\site-packages\\sklearn\\linear_model\\coordinate_descent.py:475: ConvergenceWarning: Objective did not converge. You might want to increase the number of iterations. Duality gap: 177.11048727285848, tolerance: 0.1037994459256885\n",
      "  positive)\n",
      "C:\\Users\\ubaid\\Anaconda3\\lib\\site-packages\\sklearn\\linear_model\\coordinate_descent.py:475: ConvergenceWarning: Objective did not converge. You might want to increase the number of iterations. Duality gap: 150.2935827024287, tolerance: 0.09663349459119734\n",
      "  positive)\n",
      "C:\\Users\\ubaid\\Anaconda3\\lib\\site-packages\\sklearn\\linear_model\\coordinate_descent.py:475: ConvergenceWarning: Objective did not converge. You might want to increase the number of iterations. Duality gap: 171.0734239255569, tolerance: 0.1045415863819652\n",
      "  positive)\n",
      "C:\\Users\\ubaid\\Anaconda3\\lib\\site-packages\\sklearn\\linear_model\\coordinate_descent.py:475: ConvergenceWarning: Objective did not converge. You might want to increase the number of iterations. Duality gap: 173.40118019949168, tolerance: 0.1028201842955791\n",
      "  positive)\n",
      "C:\\Users\\ubaid\\Anaconda3\\lib\\site-packages\\sklearn\\linear_model\\coordinate_descent.py:475: ConvergenceWarning: Objective did not converge. You might want to increase the number of iterations. Duality gap: 178.48454084795983, tolerance: 0.10408366356363773\n",
      "  positive)\n",
      "C:\\Users\\ubaid\\Anaconda3\\lib\\site-packages\\sklearn\\linear_model\\coordinate_descent.py:475: ConvergenceWarning: Objective did not converge. You might want to increase the number of iterations. Duality gap: 177.1464207049006, tolerance: 0.1037994459256885\n",
      "  positive)\n",
      "C:\\Users\\ubaid\\Anaconda3\\lib\\site-packages\\sklearn\\linear_model\\coordinate_descent.py:475: ConvergenceWarning: Objective did not converge. You might want to increase the number of iterations. Duality gap: 150.32690624578342, tolerance: 0.09663349459119734\n",
      "  positive)\n",
      "C:\\Users\\ubaid\\Anaconda3\\lib\\site-packages\\sklearn\\linear_model\\coordinate_descent.py:475: ConvergenceWarning: Objective did not converge. You might want to increase the number of iterations. Duality gap: 171.1122209379082, tolerance: 0.1045415863819652\n",
      "  positive)\n",
      "C:\\Users\\ubaid\\Anaconda3\\lib\\site-packages\\sklearn\\linear_model\\coordinate_descent.py:475: ConvergenceWarning: Objective did not converge. You might want to increase the number of iterations. Duality gap: 173.44237606108732, tolerance: 0.1028201842955791\n",
      "  positive)\n"
     ]
    },
    {
     "name": "stderr",
     "output_type": "stream",
     "text": [
      "C:\\Users\\ubaid\\Anaconda3\\lib\\site-packages\\sklearn\\linear_model\\coordinate_descent.py:475: ConvergenceWarning: Objective did not converge. You might want to increase the number of iterations. Duality gap: 178.52613991297596, tolerance: 0.10408366356363773\n",
      "  positive)\n",
      "C:\\Users\\ubaid\\Anaconda3\\lib\\site-packages\\sklearn\\linear_model\\coordinate_descent.py:475: ConvergenceWarning: Objective did not converge. You might want to increase the number of iterations. Duality gap: 177.1896245590179, tolerance: 0.1037994459256885\n",
      "  positive)\n",
      "C:\\Users\\ubaid\\Anaconda3\\lib\\site-packages\\sklearn\\linear_model\\coordinate_descent.py:475: ConvergenceWarning: Objective did not converge. You might want to increase the number of iterations. Duality gap: 150.36697514150725, tolerance: 0.09663349459119734\n",
      "  positive)\n",
      "C:\\Users\\ubaid\\Anaconda3\\lib\\site-packages\\sklearn\\linear_model\\coordinate_descent.py:475: ConvergenceWarning: Objective did not converge. You might want to increase the number of iterations. Duality gap: 171.1588481351347, tolerance: 0.1045415863819652\n",
      "  positive)\n",
      "C:\\Users\\ubaid\\Anaconda3\\lib\\site-packages\\sklearn\\linear_model\\coordinate_descent.py:475: ConvergenceWarning: Objective did not converge. You might want to increase the number of iterations. Duality gap: 173.49189744724367, tolerance: 0.1028201842955791\n",
      "  positive)\n",
      "C:\\Users\\ubaid\\Anaconda3\\lib\\site-packages\\sklearn\\linear_model\\coordinate_descent.py:475: ConvergenceWarning: Objective did not converge. You might want to increase the number of iterations. Duality gap: 178.57614364970104, tolerance: 0.10408366356363773\n",
      "  positive)\n",
      "C:\\Users\\ubaid\\Anaconda3\\lib\\site-packages\\sklearn\\linear_model\\coordinate_descent.py:475: ConvergenceWarning: Objective did not converge. You might want to increase the number of iterations. Duality gap: 177.24155044729065, tolerance: 0.1037994459256885\n",
      "  positive)\n",
      "C:\\Users\\ubaid\\Anaconda3\\lib\\site-packages\\sklearn\\linear_model\\coordinate_descent.py:475: ConvergenceWarning: Objective did not converge. You might want to increase the number of iterations. Duality gap: 150.41513734438223, tolerance: 0.09663349459119734\n",
      "  positive)\n",
      "C:\\Users\\ubaid\\Anaconda3\\lib\\site-packages\\sklearn\\linear_model\\coordinate_descent.py:475: ConvergenceWarning: Objective did not converge. You might want to increase the number of iterations. Duality gap: 171.2148600597347, tolerance: 0.1045415863819652\n",
      "  positive)\n",
      "C:\\Users\\ubaid\\Anaconda3\\lib\\site-packages\\sklearn\\linear_model\\coordinate_descent.py:475: ConvergenceWarning: Objective did not converge. You might want to increase the number of iterations. Duality gap: 173.55140211160506, tolerance: 0.1028201842955791\n",
      "  positive)\n",
      "C:\\Users\\ubaid\\Anaconda3\\lib\\site-packages\\sklearn\\linear_model\\coordinate_descent.py:475: ConvergenceWarning: Objective did not converge. You might want to increase the number of iterations. Duality gap: 178.63622458956058, tolerance: 0.10408366356363773\n",
      "  positive)\n",
      "C:\\Users\\ubaid\\Anaconda3\\lib\\site-packages\\sklearn\\linear_model\\coordinate_descent.py:475: ConvergenceWarning: Objective did not converge. You might want to increase the number of iterations. Duality gap: 177.30393107679566, tolerance: 0.1037994459256885\n",
      "  positive)\n",
      "C:\\Users\\ubaid\\Anaconda3\\lib\\site-packages\\sklearn\\linear_model\\coordinate_descent.py:475: ConvergenceWarning: Objective did not converge. You might want to increase the number of iterations. Duality gap: 150.47300275154595, tolerance: 0.09663349459119734\n",
      "  positive)\n",
      "C:\\Users\\ubaid\\Anaconda3\\lib\\site-packages\\sklearn\\linear_model\\coordinate_descent.py:475: ConvergenceWarning: Objective did not converge. You might want to increase the number of iterations. Duality gap: 171.28210766578786, tolerance: 0.1045415863819652\n",
      "  positive)\n",
      "C:\\Users\\ubaid\\Anaconda3\\lib\\site-packages\\sklearn\\linear_model\\coordinate_descent.py:475: ConvergenceWarning: Objective did not converge. You might want to increase the number of iterations. Duality gap: 173.62286691204267, tolerance: 0.1028201842955791\n",
      "  positive)\n",
      "C:\\Users\\ubaid\\Anaconda3\\lib\\site-packages\\sklearn\\linear_model\\coordinate_descent.py:475: ConvergenceWarning: Objective did not converge. You might want to increase the number of iterations. Duality gap: 178.70837647748482, tolerance: 0.10408366356363773\n",
      "  positive)\n",
      "C:\\Users\\ubaid\\Anaconda3\\lib\\site-packages\\sklearn\\linear_model\\coordinate_descent.py:475: ConvergenceWarning: Objective did not converge. You might want to increase the number of iterations. Duality gap: 177.3788302670977, tolerance: 0.1037994459256885\n",
      "  positive)\n",
      "C:\\Users\\ubaid\\Anaconda3\\lib\\site-packages\\sklearn\\linear_model\\coordinate_descent.py:475: ConvergenceWarning: Objective did not converge. You might want to increase the number of iterations. Duality gap: 150.54248972056502, tolerance: 0.09663349459119734\n",
      "  positive)\n",
      "C:\\Users\\ubaid\\Anaconda3\\lib\\site-packages\\sklearn\\linear_model\\coordinate_descent.py:475: ConvergenceWarning: Objective did not converge. You might want to increase the number of iterations. Duality gap: 171.36279031653964, tolerance: 0.1045415863819652\n",
      "  positive)\n",
      "C:\\Users\\ubaid\\Anaconda3\\lib\\site-packages\\sklearn\\linear_model\\coordinate_descent.py:475: ConvergenceWarning: Objective did not converge. You might want to increase the number of iterations. Duality gap: 173.70864364385952, tolerance: 0.1028201842955791\n",
      "  positive)\n",
      "C:\\Users\\ubaid\\Anaconda3\\lib\\site-packages\\sklearn\\linear_model\\coordinate_descent.py:475: ConvergenceWarning: Objective did not converge. You might want to increase the number of iterations. Duality gap: 178.79497059460036, tolerance: 0.10408366356363773\n",
      "  positive)\n",
      "C:\\Users\\ubaid\\Anaconda3\\lib\\site-packages\\sklearn\\linear_model\\coordinate_descent.py:475: ConvergenceWarning: Objective did not converge. You might want to increase the number of iterations. Duality gap: 177.4687007514874, tolerance: 0.1037994459256885\n",
      "  positive)\n",
      "C:\\Users\\ubaid\\Anaconda3\\lib\\site-packages\\sklearn\\linear_model\\coordinate_descent.py:475: ConvergenceWarning: Objective did not converge. You might want to increase the number of iterations. Duality gap: 150.62587922529625, tolerance: 0.09663349459119734\n",
      "  positive)\n",
      "C:\\Users\\ubaid\\Anaconda3\\lib\\site-packages\\sklearn\\linear_model\\coordinate_descent.py:475: ConvergenceWarning: Objective did not converge. You might want to increase the number of iterations. Duality gap: 171.45951222076897, tolerance: 0.1045415863819652\n",
      "  positive)\n",
      "C:\\Users\\ubaid\\Anaconda3\\lib\\site-packages\\sklearn\\linear_model\\coordinate_descent.py:475: ConvergenceWarning: Objective did not converge. You might want to increase the number of iterations. Duality gap: 173.81152251118942, tolerance: 0.1028201842955791\n",
      "  positive)\n",
      "C:\\Users\\ubaid\\Anaconda3\\lib\\site-packages\\sklearn\\linear_model\\coordinate_descent.py:475: ConvergenceWarning: Objective did not converge. You might want to increase the number of iterations. Duality gap: 178.89881925772968, tolerance: 0.10408366356363773\n",
      "  positive)\n",
      "C:\\Users\\ubaid\\Anaconda3\\lib\\site-packages\\sklearn\\linear_model\\coordinate_descent.py:475: ConvergenceWarning: Objective did not converge. You might want to increase the number of iterations. Duality gap: 177.5764481569661, tolerance: 0.1037994459256885\n",
      "  positive)\n",
      "C:\\Users\\ubaid\\Anaconda3\\lib\\site-packages\\sklearn\\linear_model\\coordinate_descent.py:475: ConvergenceWarning: Objective did not converge. You might want to increase the number of iterations. Duality gap: 150.72587572213453, tolerance: 0.09663349459119734\n",
      "  positive)\n",
      "C:\\Users\\ubaid\\Anaconda3\\lib\\site-packages\\sklearn\\linear_model\\coordinate_descent.py:475: ConvergenceWarning: Objective did not converge. You might want to increase the number of iterations. Duality gap: 171.57534595769326, tolerance: 0.1045415863819652\n",
      "  positive)\n",
      "C:\\Users\\ubaid\\Anaconda3\\lib\\site-packages\\sklearn\\linear_model\\coordinate_descent.py:475: ConvergenceWarning: Objective did not converge. You might want to increase the number of iterations. Duality gap: 173.93480290510297, tolerance: 0.1028201842955791\n",
      "  positive)\n",
      "C:\\Users\\ubaid\\Anaconda3\\lib\\site-packages\\sklearn\\linear_model\\coordinate_descent.py:475: ConvergenceWarning: Objective did not converge. You might want to increase the number of iterations. Duality gap: 179.02324628705364, tolerance: 0.10408366356363773\n",
      "  positive)\n",
      "C:\\Users\\ubaid\\Anaconda3\\lib\\site-packages\\sklearn\\linear_model\\coordinate_descent.py:475: ConvergenceWarning: Objective did not converge. You might want to increase the number of iterations. Duality gap: 177.70550221278674, tolerance: 0.1037994459256885\n",
      "  positive)\n"
     ]
    },
    {
     "name": "stderr",
     "output_type": "stream",
     "text": [
      "C:\\Users\\ubaid\\Anaconda3\\lib\\site-packages\\sklearn\\linear_model\\coordinate_descent.py:475: ConvergenceWarning: Objective did not converge. You might want to increase the number of iterations. Duality gap: 150.84567402268823, tolerance: 0.09663349459119734\n",
      "  positive)\n",
      "C:\\Users\\ubaid\\Anaconda3\\lib\\site-packages\\sklearn\\linear_model\\coordinate_descent.py:475: ConvergenceWarning: Objective did not converge. You might want to increase the number of iterations. Duality gap: 171.71389871768795, tolerance: 0.1045415863819652\n",
      "  positive)\n",
      "C:\\Users\\ubaid\\Anaconda3\\lib\\site-packages\\sklearn\\linear_model\\coordinate_descent.py:475: ConvergenceWarning: Objective did not converge. You might want to increase the number of iterations. Duality gap: 174.08236946840503, tolerance: 0.1028201842955791\n",
      "  positive)\n",
      "C:\\Users\\ubaid\\Anaconda3\\lib\\site-packages\\sklearn\\linear_model\\coordinate_descent.py:475: ConvergenceWarning: Objective did not converge. You might want to increase the number of iterations. Duality gap: 179.17216299746775, tolerance: 0.10408366356363773\n",
      "  positive)\n",
      "C:\\Users\\ubaid\\Anaconda3\\lib\\site-packages\\sklearn\\linear_model\\coordinate_descent.py:475: ConvergenceWarning: Objective did not converge. You might want to increase the number of iterations. Duality gap: 177.85989191584832, tolerance: 0.1037994459256885\n",
      "  positive)\n",
      "C:\\Users\\ubaid\\Anaconda3\\lib\\site-packages\\sklearn\\linear_model\\coordinate_descent.py:475: ConvergenceWarning: Objective did not converge. You might want to increase the number of iterations. Duality gap: 150.98903163126727, tolerance: 0.09663349459119734\n",
      "  positive)\n",
      "C:\\Users\\ubaid\\Anaconda3\\lib\\site-packages\\sklearn\\linear_model\\coordinate_descent.py:475: ConvergenceWarning: Objective did not converge. You might want to increase the number of iterations. Duality gap: 171.87937948692155, tolerance: 0.1045415863819652\n",
      "  positive)\n",
      "C:\\Users\\ubaid\\Anaconda3\\lib\\site-packages\\sklearn\\linear_model\\coordinate_descent.py:475: ConvergenceWarning: Objective did not converge. You might want to increase the number of iterations. Duality gap: 174.2587718720793, tolerance: 0.1028201842955791\n",
      "  positive)\n",
      "C:\\Users\\ubaid\\Anaconda3\\lib\\site-packages\\sklearn\\linear_model\\coordinate_descent.py:475: ConvergenceWarning: Objective did not converge. You might want to increase the number of iterations. Duality gap: 179.35014653153303, tolerance: 0.10408366356363773\n",
      "  positive)\n",
      "C:\\Users\\ubaid\\Anaconda3\\lib\\site-packages\\sklearn\\linear_model\\coordinate_descent.py:475: ConvergenceWarning: Objective did not converge. You might want to increase the number of iterations. Duality gap: 178.04432227691387, tolerance: 0.1037994459256885\n",
      "  positive)\n",
      "C:\\Users\\ubaid\\Anaconda3\\lib\\site-packages\\sklearn\\linear_model\\coordinate_descent.py:475: ConvergenceWarning: Objective did not converge. You might want to increase the number of iterations. Duality gap: 151.1603428156256, tolerance: 0.09663349459119734\n",
      "  positive)\n",
      "C:\\Users\\ubaid\\Anaconda3\\lib\\site-packages\\sklearn\\linear_model\\coordinate_descent.py:475: ConvergenceWarning: Objective did not converge. You might want to increase the number of iterations. Duality gap: 172.07666114065447, tolerance: 0.1045415863819652\n",
      "  positive)\n",
      "C:\\Users\\ubaid\\Anaconda3\\lib\\site-packages\\sklearn\\linear_model\\coordinate_descent.py:475: ConvergenceWarning: Objective did not converge. You might want to increase the number of iterations. Duality gap: 174.46930200269477, tolerance: 0.1028201842955791\n",
      "  positive)\n",
      "C:\\Users\\ubaid\\Anaconda3\\lib\\site-packages\\sklearn\\linear_model\\coordinate_descent.py:475: ConvergenceWarning: Objective did not converge. You might want to increase the number of iterations. Duality gap: 179.56251572581374, tolerance: 0.10408366356363773\n",
      "  positive)\n",
      "C:\\Users\\ubaid\\Anaconda3\\lib\\site-packages\\sklearn\\linear_model\\coordinate_descent.py:475: ConvergenceWarning: Objective did not converge. You might want to increase the number of iterations. Duality gap: 178.26424570877575, tolerance: 0.1037994459256885\n",
      "  positive)\n",
      "C:\\Users\\ubaid\\Anaconda3\\lib\\site-packages\\sklearn\\linear_model\\coordinate_descent.py:475: ConvergenceWarning: Objective did not converge. You might want to increase the number of iterations. Duality gap: 151.3647094054996, tolerance: 0.09663349459119734\n",
      "  positive)\n",
      "C:\\Users\\ubaid\\Anaconda3\\lib\\site-packages\\sklearn\\linear_model\\coordinate_descent.py:475: ConvergenceWarning: Objective did not converge. You might want to increase the number of iterations. Duality gap: 172.31132714754315, tolerance: 0.1045415863819652\n",
      "  positive)\n",
      "C:\\Users\\ubaid\\Anaconda3\\lib\\site-packages\\sklearn\\linear_model\\coordinate_descent.py:475: ConvergenceWarning: Objective did not converge. You might want to increase the number of iterations. Duality gap: 174.72006130382192, tolerance: 0.1028201842955791\n",
      "  positive)\n",
      "C:\\Users\\ubaid\\Anaconda3\\lib\\site-packages\\sklearn\\linear_model\\coordinate_descent.py:475: ConvergenceWarning: Objective did not converge. You might want to increase the number of iterations. Duality gap: 179.81539534409643, tolerance: 0.10408366356363773\n",
      "  positive)\n",
      "C:\\Users\\ubaid\\Anaconda3\\lib\\site-packages\\sklearn\\linear_model\\coordinate_descent.py:475: ConvergenceWarning: Objective did not converge. You might want to increase the number of iterations. Duality gap: 178.52591829068368, tolerance: 0.1037994459256885\n",
      "  positive)\n",
      "C:\\Users\\ubaid\\Anaconda3\\lib\\site-packages\\sklearn\\linear_model\\coordinate_descent.py:475: ConvergenceWarning: Objective did not converge. You might want to increase the number of iterations. Duality gap: 151.60799946449808, tolerance: 0.09663349459119734\n",
      "  positive)\n",
      "C:\\Users\\ubaid\\Anaconda3\\lib\\site-packages\\sklearn\\linear_model\\coordinate_descent.py:475: ConvergenceWarning: Objective did not converge. You might want to increase the number of iterations. Duality gap: 172.58968803289707, tolerance: 0.1045415863819652\n",
      "  positive)\n",
      "C:\\Users\\ubaid\\Anaconda3\\lib\\site-packages\\sklearn\\linear_model\\coordinate_descent.py:475: ConvergenceWarning: Objective did not converge. You might want to increase the number of iterations. Duality gap: 175.0180031970342, tolerance: 0.1028201842955791\n",
      "  positive)\n",
      "C:\\Users\\ubaid\\Anaconda3\\lib\\site-packages\\sklearn\\linear_model\\coordinate_descent.py:475: ConvergenceWarning: Objective did not converge. You might want to increase the number of iterations. Duality gap: 180.1157534522897, tolerance: 0.10408366356363773\n",
      "  positive)\n",
      "C:\\Users\\ubaid\\Anaconda3\\lib\\site-packages\\sklearn\\linear_model\\coordinate_descent.py:475: ConvergenceWarning: Objective did not converge. You might want to increase the number of iterations. Duality gap: 178.8364234873365, tolerance: 0.1037994459256885\n",
      "  positive)\n",
      "C:\\Users\\ubaid\\Anaconda3\\lib\\site-packages\\sklearn\\linear_model\\coordinate_descent.py:475: ConvergenceWarning: Objective did not converge. You might want to increase the number of iterations. Duality gap: 151.89687903797676, tolerance: 0.09663349459119734\n",
      "  positive)\n",
      "C:\\Users\\ubaid\\Anaconda3\\lib\\site-packages\\sklearn\\linear_model\\coordinate_descent.py:475: ConvergenceWarning: Objective did not converge. You might want to increase the number of iterations. Duality gap: 172.9187432207934, tolerance: 0.1045415863819652\n",
      "  positive)\n",
      "C:\\Users\\ubaid\\Anaconda3\\lib\\site-packages\\sklearn\\linear_model\\coordinate_descent.py:475: ConvergenceWarning: Objective did not converge. You might want to increase the number of iterations. Duality gap: 175.37092893799866, tolerance: 0.1028201842955791\n",
      "  positive)\n",
      "C:\\Users\\ubaid\\Anaconda3\\lib\\site-packages\\sklearn\\linear_model\\coordinate_descent.py:475: ConvergenceWarning: Objective did not converge. You might want to increase the number of iterations. Duality gap: 180.47138977511008, tolerance: 0.10408366356363773\n",
      "  positive)\n",
      "C:\\Users\\ubaid\\Anaconda3\\lib\\site-packages\\sklearn\\linear_model\\coordinate_descent.py:475: ConvergenceWarning: Objective did not converge. You might want to increase the number of iterations. Duality gap: 179.20363769995998, tolerance: 0.1037994459256885\n",
      "  positive)\n",
      "C:\\Users\\ubaid\\Anaconda3\\lib\\site-packages\\sklearn\\linear_model\\coordinate_descent.py:475: ConvergenceWarning: Objective did not converge. You might want to increase the number of iterations. Duality gap: 152.23879397219957, tolerance: 0.09663349459119734\n",
      "  positive)\n"
     ]
    },
    {
     "name": "stderr",
     "output_type": "stream",
     "text": [
      "C:\\Users\\ubaid\\Anaconda3\\lib\\site-packages\\sklearn\\linear_model\\coordinate_descent.py:475: ConvergenceWarning: Objective did not converge. You might want to increase the number of iterations. Duality gap: 173.3060505295438, tolerance: 0.1045415863819652\n",
      "  positive)\n",
      "C:\\Users\\ubaid\\Anaconda3\\lib\\site-packages\\sklearn\\linear_model\\coordinate_descent.py:475: ConvergenceWarning: Objective did not converge. You might want to increase the number of iterations. Duality gap: 175.7874021125408, tolerance: 0.1028201842955791\n",
      "  positive)\n",
      "C:\\Users\\ubaid\\Anaconda3\\lib\\site-packages\\sklearn\\linear_model\\coordinate_descent.py:475: ConvergenceWarning: Objective did not converge. You might want to increase the number of iterations. Duality gap: 180.89083808014732, tolerance: 0.10408366356363773\n",
      "  positive)\n",
      "C:\\Users\\ubaid\\Anaconda3\\lib\\site-packages\\sklearn\\linear_model\\coordinate_descent.py:475: ConvergenceWarning: Objective did not converge. You might want to increase the number of iterations. Duality gap: 179.6360968205488, tolerance: 0.1037994459256885\n",
      "  positive)\n",
      "C:\\Users\\ubaid\\Anaconda3\\lib\\site-packages\\sklearn\\linear_model\\coordinate_descent.py:475: ConvergenceWarning: Objective did not converge. You might want to increase the number of iterations. Duality gap: 152.6418665326221, tolerance: 0.09663349459119734\n",
      "  positive)\n",
      "C:\\Users\\ubaid\\Anaconda3\\lib\\site-packages\\sklearn\\linear_model\\coordinate_descent.py:475: ConvergenceWarning: Objective did not converge. You might want to increase the number of iterations. Duality gap: 173.75944687709196, tolerance: 0.1045415863819652\n",
      "  positive)\n",
      "C:\\Users\\ubaid\\Anaconda3\\lib\\site-packages\\sklearn\\linear_model\\coordinate_descent.py:475: ConvergenceWarning: Objective did not converge. You might want to increase the number of iterations. Duality gap: 176.27652907256262, tolerance: 0.1028201842955791\n",
      "  positive)\n",
      "C:\\Users\\ubaid\\Anaconda3\\lib\\site-packages\\sklearn\\linear_model\\coordinate_descent.py:475: ConvergenceWarning: Objective did not converge. You might want to increase the number of iterations. Duality gap: 181.38312813074657, tolerance: 0.10408366356363773\n",
      "  positive)\n",
      "C:\\Users\\ubaid\\Anaconda3\\lib\\site-packages\\sklearn\\linear_model\\coordinate_descent.py:475: ConvergenceWarning: Objective did not converge. You might want to increase the number of iterations. Duality gap: 180.1427022384062, tolerance: 0.1037994459256885\n",
      "  positive)\n",
      "C:\\Users\\ubaid\\Anaconda3\\lib\\site-packages\\sklearn\\linear_model\\coordinate_descent.py:475: ConvergenceWarning: Objective did not converge. You might want to increase the number of iterations. Duality gap: 153.114652025338, tolerance: 0.09663349459119734\n",
      "  positive)\n",
      "C:\\Users\\ubaid\\Anaconda3\\lib\\site-packages\\sklearn\\linear_model\\coordinate_descent.py:475: ConvergenceWarning: Objective did not converge. You might want to increase the number of iterations. Duality gap: 174.28653428042912, tolerance: 0.1045415863819652\n",
      "  positive)\n",
      "C:\\Users\\ubaid\\Anaconda3\\lib\\site-packages\\sklearn\\linear_model\\coordinate_descent.py:475: ConvergenceWarning: Objective did not converge. You might want to increase the number of iterations. Duality gap: 176.84752496784608, tolerance: 0.1028201842955791\n",
      "  positive)\n",
      "C:\\Users\\ubaid\\Anaconda3\\lib\\site-packages\\sklearn\\linear_model\\coordinate_descent.py:475: ConvergenceWarning: Objective did not converge. You might want to increase the number of iterations. Duality gap: 181.95732401910436, tolerance: 0.10408366356363773\n",
      "  positive)\n",
      "C:\\Users\\ubaid\\Anaconda3\\lib\\site-packages\\sklearn\\linear_model\\coordinate_descent.py:475: ConvergenceWarning: Objective did not converge. You might want to increase the number of iterations. Duality gap: 180.7321733795729, tolerance: 0.1037994459256885\n",
      "  positive)\n",
      "C:\\Users\\ubaid\\Anaconda3\\lib\\site-packages\\sklearn\\linear_model\\coordinate_descent.py:475: ConvergenceWarning: Objective did not converge. You might want to increase the number of iterations. Duality gap: 153.66567392051127, tolerance: 0.09663349459119734\n",
      "  positive)\n",
      "C:\\Users\\ubaid\\Anaconda3\\lib\\site-packages\\sklearn\\linear_model\\coordinate_descent.py:475: ConvergenceWarning: Objective did not converge. You might want to increase the number of iterations. Duality gap: 174.8938035433893, tolerance: 0.1045415863819652\n",
      "  positive)\n",
      "C:\\Users\\ubaid\\Anaconda3\\lib\\site-packages\\sklearn\\linear_model\\coordinate_descent.py:475: ConvergenceWarning: Objective did not converge. You might want to increase the number of iterations. Duality gap: 177.5089455999394, tolerance: 0.1028201842955791\n",
      "  positive)\n",
      "C:\\Users\\ubaid\\Anaconda3\\lib\\site-packages\\sklearn\\linear_model\\coordinate_descent.py:475: ConvergenceWarning: Objective did not converge. You might want to increase the number of iterations. Duality gap: 182.6217140491242, tolerance: 0.10408366356363773\n",
      "  positive)\n",
      "C:\\Users\\ubaid\\Anaconda3\\lib\\site-packages\\sklearn\\linear_model\\coordinate_descent.py:475: ConvergenceWarning: Objective did not converge. You might want to increase the number of iterations. Duality gap: 181.41210778747524, tolerance: 0.1037994459256885\n",
      "  positive)\n",
      "C:\\Users\\ubaid\\Anaconda3\\lib\\site-packages\\sklearn\\linear_model\\coordinate_descent.py:475: ConvergenceWarning: Objective did not converge. You might want to increase the number of iterations. Duality gap: 154.30261407035985, tolerance: 0.09663349459119734\n",
      "  positive)\n",
      "C:\\Users\\ubaid\\Anaconda3\\lib\\site-packages\\sklearn\\linear_model\\coordinate_descent.py:475: ConvergenceWarning: Objective did not converge. You might want to increase the number of iterations. Duality gap: 175.58520503824104, tolerance: 0.1045415863819652\n",
      "  positive)\n",
      "C:\\Users\\ubaid\\Anaconda3\\lib\\site-packages\\sklearn\\linear_model\\coordinate_descent.py:475: ConvergenceWarning: Objective did not converge. You might want to increase the number of iterations. Duality gap: 178.2674056173608, tolerance: 0.1028201842955791\n",
      "  positive)\n",
      "C:\\Users\\ubaid\\Anaconda3\\lib\\site-packages\\sklearn\\linear_model\\coordinate_descent.py:475: ConvergenceWarning: Objective did not converge. You might want to increase the number of iterations. Duality gap: 183.38246674547443, tolerance: 0.10408366356363773\n",
      "  positive)\n",
      "C:\\Users\\ubaid\\Anaconda3\\lib\\site-packages\\sklearn\\linear_model\\coordinate_descent.py:475: ConvergenceWarning: Objective did not converge. You might want to increase the number of iterations. Duality gap: 182.18744205502233, tolerance: 0.1037994459256885\n",
      "  positive)\n",
      "C:\\Users\\ubaid\\Anaconda3\\lib\\site-packages\\sklearn\\linear_model\\coordinate_descent.py:475: ConvergenceWarning: Objective did not converge. You might want to increase the number of iterations. Duality gap: 155.03097542046373, tolerance: 0.09663349459119734\n",
      "  positive)\n",
      "C:\\Users\\ubaid\\Anaconda3\\lib\\site-packages\\sklearn\\linear_model\\coordinate_descent.py:475: ConvergenceWarning: Objective did not converge. You might want to increase the number of iterations. Duality gap: 176.38951070294354, tolerance: 0.1045415863819652\n",
      "  positive)\n",
      "C:\\Users\\ubaid\\Anaconda3\\lib\\site-packages\\sklearn\\linear_model\\coordinate_descent.py:475: ConvergenceWarning: Objective did not converge. You might want to increase the number of iterations. Duality gap: 179.12551767895678, tolerance: 0.1028201842955791\n",
      "  positive)\n",
      "C:\\Users\\ubaid\\Anaconda3\\lib\\site-packages\\sklearn\\linear_model\\coordinate_descent.py:475: ConvergenceWarning: Objective did not converge. You might want to increase the number of iterations. Duality gap: 184.24147752520372, tolerance: 0.10408366356363773\n",
      "  positive)\n",
      "C:\\Users\\ubaid\\Anaconda3\\lib\\site-packages\\sklearn\\linear_model\\coordinate_descent.py:475: ConvergenceWarning: Objective did not converge. You might want to increase the number of iterations. Duality gap: 183.05800749102022, tolerance: 0.1037994459256885\n",
      "  positive)\n",
      "C:\\Users\\ubaid\\Anaconda3\\lib\\site-packages\\sklearn\\linear_model\\coordinate_descent.py:475: ConvergenceWarning: Objective did not converge. You might want to increase the number of iterations. Duality gap: 155.85194586371261, tolerance: 0.09663349459119734\n",
      "  positive)\n",
      "C:\\Users\\ubaid\\Anaconda3\\lib\\site-packages\\sklearn\\linear_model\\coordinate_descent.py:475: ConvergenceWarning: Objective did not converge. You might want to increase the number of iterations. Duality gap: 177.35376287938226, tolerance: 0.1045415863819652\n",
      "  positive)\n"
     ]
    },
    {
     "name": "stderr",
     "output_type": "stream",
     "text": [
      "C:\\Users\\ubaid\\Anaconda3\\lib\\site-packages\\sklearn\\linear_model\\coordinate_descent.py:475: ConvergenceWarning: Objective did not converge. You might want to increase the number of iterations. Duality gap: 180.07865994879234, tolerance: 0.1028201842955791\n",
      "  positive)\n",
      "C:\\Users\\ubaid\\Anaconda3\\lib\\site-packages\\sklearn\\linear_model\\coordinate_descent.py:475: ConvergenceWarning: Objective did not converge. You might want to increase the number of iterations. Duality gap: 185.19700496699463, tolerance: 0.10408366356363773\n",
      "  positive)\n",
      "C:\\Users\\ubaid\\Anaconda3\\lib\\site-packages\\sklearn\\linear_model\\coordinate_descent.py:475: ConvergenceWarning: Objective did not converge. You might want to increase the number of iterations. Duality gap: 184.01472937374524, tolerance: 0.1037994459256885\n",
      "  positive)\n",
      "C:\\Users\\ubaid\\Anaconda3\\lib\\site-packages\\sklearn\\linear_model\\coordinate_descent.py:475: ConvergenceWarning: Objective did not converge. You might want to increase the number of iterations. Duality gap: 156.81740041530793, tolerance: 0.09663349459119734\n",
      "  positive)\n",
      "C:\\Users\\ubaid\\Anaconda3\\lib\\site-packages\\sklearn\\linear_model\\coordinate_descent.py:475: ConvergenceWarning: Objective did not converge. You might want to increase the number of iterations. Duality gap: 178.49563879464398, tolerance: 0.1045415863819652\n",
      "  positive)\n",
      "C:\\Users\\ubaid\\Anaconda3\\lib\\site-packages\\sklearn\\linear_model\\coordinate_descent.py:475: ConvergenceWarning: Objective did not converge. You might want to increase the number of iterations. Duality gap: 181.2090049481087, tolerance: 0.1028201842955791\n",
      "  positive)\n",
      "C:\\Users\\ubaid\\Anaconda3\\lib\\site-packages\\sklearn\\linear_model\\coordinate_descent.py:475: ConvergenceWarning: Objective did not converge. You might want to increase the number of iterations. Duality gap: 186.33565859711285, tolerance: 0.10408366356363773\n",
      "  positive)\n",
      "C:\\Users\\ubaid\\Anaconda3\\lib\\site-packages\\sklearn\\linear_model\\coordinate_descent.py:475: ConvergenceWarning: Objective did not converge. You might want to increase the number of iterations. Duality gap: 185.14996039522285, tolerance: 0.1037994459256885\n",
      "  positive)\n",
      "C:\\Users\\ubaid\\Anaconda3\\lib\\site-packages\\sklearn\\linear_model\\coordinate_descent.py:475: ConvergenceWarning: Objective did not converge. You might want to increase the number of iterations. Duality gap: 157.9650467801726, tolerance: 0.09663349459119734\n",
      "  positive)\n",
      "C:\\Users\\ubaid\\Anaconda3\\lib\\site-packages\\sklearn\\linear_model\\coordinate_descent.py:475: ConvergenceWarning: Objective did not converge. You might want to increase the number of iterations. Duality gap: 179.8426407461775, tolerance: 0.1045415863819652\n",
      "  positive)\n",
      "C:\\Users\\ubaid\\Anaconda3\\lib\\site-packages\\sklearn\\linear_model\\coordinate_descent.py:475: ConvergenceWarning: Objective did not converge. You might want to increase the number of iterations. Duality gap: 182.54355813754015, tolerance: 0.1028201842955791\n",
      "  positive)\n",
      "C:\\Users\\ubaid\\Anaconda3\\lib\\site-packages\\sklearn\\linear_model\\coordinate_descent.py:475: ConvergenceWarning: Objective did not converge. You might want to increase the number of iterations. Duality gap: 187.67749819236684, tolerance: 0.10408366356363773\n",
      "  positive)\n",
      "C:\\Users\\ubaid\\Anaconda3\\lib\\site-packages\\sklearn\\linear_model\\coordinate_descent.py:475: ConvergenceWarning: Objective did not converge. You might want to increase the number of iterations. Duality gap: 186.49052998005078, tolerance: 0.1037994459256885\n",
      "  positive)\n",
      "C:\\Users\\ubaid\\Anaconda3\\lib\\site-packages\\sklearn\\linear_model\\coordinate_descent.py:475: ConvergenceWarning: Objective did not converge. You might want to increase the number of iterations. Duality gap: 159.31795377542605, tolerance: 0.09663349459119734\n",
      "  positive)\n",
      "C:\\Users\\ubaid\\Anaconda3\\lib\\site-packages\\sklearn\\linear_model\\coordinate_descent.py:475: ConvergenceWarning: Objective did not converge. You might want to increase the number of iterations. Duality gap: 181.4239179745399, tolerance: 0.1045415863819652\n",
      "  positive)\n",
      "C:\\Users\\ubaid\\Anaconda3\\lib\\site-packages\\sklearn\\linear_model\\coordinate_descent.py:475: ConvergenceWarning: Objective did not converge. You might want to increase the number of iterations. Duality gap: 184.109124097263, tolerance: 0.1028201842955791\n",
      "  positive)\n",
      "C:\\Users\\ubaid\\Anaconda3\\lib\\site-packages\\sklearn\\linear_model\\coordinate_descent.py:475: ConvergenceWarning: Objective did not converge. You might want to increase the number of iterations. Duality gap: 189.25069868363414, tolerance: 0.10408366356363773\n",
      "  positive)\n",
      "C:\\Users\\ubaid\\Anaconda3\\lib\\site-packages\\sklearn\\linear_model\\coordinate_descent.py:475: ConvergenceWarning: Objective did not converge. You might want to increase the number of iterations. Duality gap: 188.06338888104742, tolerance: 0.1037994459256885\n",
      "  positive)\n",
      "C:\\Users\\ubaid\\Anaconda3\\lib\\site-packages\\sklearn\\linear_model\\coordinate_descent.py:475: ConvergenceWarning: Objective did not converge. You might want to increase the number of iterations. Duality gap: 160.90482676438464, tolerance: 0.09663349459119734\n",
      "  positive)\n",
      "C:\\Users\\ubaid\\Anaconda3\\lib\\site-packages\\sklearn\\linear_model\\coordinate_descent.py:475: ConvergenceWarning: Objective did not converge. You might want to increase the number of iterations. Duality gap: 183.2688103393495, tolerance: 0.1045415863819652\n",
      "  positive)\n",
      "C:\\Users\\ubaid\\Anaconda3\\lib\\site-packages\\sklearn\\linear_model\\coordinate_descent.py:475: ConvergenceWarning: Objective did not converge. You might want to increase the number of iterations. Duality gap: 185.93405239250438, tolerance: 0.1028201842955791\n",
      "  positive)\n",
      "C:\\Users\\ubaid\\Anaconda3\\lib\\site-packages\\sklearn\\linear_model\\coordinate_descent.py:475: ConvergenceWarning: Objective did not converge. You might want to increase the number of iterations. Duality gap: 191.08316598737915, tolerance: 0.10408366356363773\n",
      "  positive)\n",
      "C:\\Users\\ubaid\\Anaconda3\\lib\\site-packages\\sklearn\\linear_model\\coordinate_descent.py:475: ConvergenceWarning: Objective did not converge. You might want to increase the number of iterations. Duality gap: 189.89716853485268, tolerance: 0.1037994459256885\n",
      "  positive)\n",
      "C:\\Users\\ubaid\\Anaconda3\\lib\\site-packages\\sklearn\\linear_model\\coordinate_descent.py:475: ConvergenceWarning: Objective did not converge. You might want to increase the number of iterations. Duality gap: 162.75425850323262, tolerance: 0.09663349459119734\n",
      "  positive)\n",
      "C:\\Users\\ubaid\\Anaconda3\\lib\\site-packages\\sklearn\\linear_model\\coordinate_descent.py:475: ConvergenceWarning: Objective did not converge. You might want to increase the number of iterations. Duality gap: 185.40428579288618, tolerance: 0.1045415863819652\n",
      "  positive)\n",
      "C:\\Users\\ubaid\\Anaconda3\\lib\\site-packages\\sklearn\\linear_model\\coordinate_descent.py:475: ConvergenceWarning: Objective did not converge. You might want to increase the number of iterations. Duality gap: 188.04397249119046, tolerance: 0.1028201842955791\n",
      "  positive)\n",
      "C:\\Users\\ubaid\\Anaconda3\\lib\\site-packages\\sklearn\\linear_model\\coordinate_descent.py:475: ConvergenceWarning: Objective did not converge. You might want to increase the number of iterations. Duality gap: 193.199763106056, tolerance: 0.10408366356363773\n",
      "  positive)\n",
      "C:\\Users\\ubaid\\Anaconda3\\lib\\site-packages\\sklearn\\linear_model\\coordinate_descent.py:475: ConvergenceWarning: Objective did not converge. You might want to increase the number of iterations. Duality gap: 192.0178473138204, tolerance: 0.1037994459256885\n",
      "  positive)\n",
      "C:\\Users\\ubaid\\Anaconda3\\lib\\site-packages\\sklearn\\linear_model\\coordinate_descent.py:475: ConvergenceWarning: Objective did not converge. You might want to increase the number of iterations. Duality gap: 164.8920087533851, tolerance: 0.09663349459119734\n",
      "  positive)\n",
      "C:\\Users\\ubaid\\Anaconda3\\lib\\site-packages\\sklearn\\linear_model\\coordinate_descent.py:475: ConvergenceWarning: Objective did not converge. You might want to increase the number of iterations. Duality gap: 187.85068098098952, tolerance: 0.1045415863819652\n",
      "  positive)\n",
      "C:\\Users\\ubaid\\Anaconda3\\lib\\site-packages\\sklearn\\linear_model\\coordinate_descent.py:475: ConvergenceWarning: Objective did not converge. You might want to increase the number of iterations. Duality gap: 190.457397498266, tolerance: 0.1028201842955791\n",
      "  positive)\n",
      "C:\\Users\\ubaid\\Anaconda3\\lib\\site-packages\\sklearn\\linear_model\\coordinate_descent.py:475: ConvergenceWarning: Objective did not converge. You might want to increase the number of iterations. Duality gap: 195.617743183353, tolerance: 0.10408366356363773\n",
      "  positive)\n"
     ]
    },
    {
     "name": "stderr",
     "output_type": "stream",
     "text": [
      "C:\\Users\\ubaid\\Anaconda3\\lib\\site-packages\\sklearn\\linear_model\\coordinate_descent.py:475: ConvergenceWarning: Objective did not converge. You might want to increase the number of iterations. Duality gap: 194.44437219001867, tolerance: 0.1037994459256885\n",
      "  positive)\n",
      "C:\\Users\\ubaid\\Anaconda3\\lib\\site-packages\\sklearn\\linear_model\\coordinate_descent.py:475: ConvergenceWarning: Objective did not converge. You might want to increase the number of iterations. Duality gap: 167.33651159539485, tolerance: 0.09663349459119734\n",
      "  positive)\n",
      "C:\\Users\\ubaid\\Anaconda3\\lib\\site-packages\\sklearn\\linear_model\\coordinate_descent.py:475: ConvergenceWarning: Objective did not converge. You might want to increase the number of iterations. Duality gap: 190.61486918254127, tolerance: 0.1045415863819652\n",
      "  positive)\n",
      "C:\\Users\\ubaid\\Anaconda3\\lib\\site-packages\\sklearn\\linear_model\\coordinate_descent.py:475: ConvergenceWarning: Objective did not converge. You might want to increase the number of iterations. Duality gap: 193.17869762463988, tolerance: 0.1028201842955791\n",
      "  positive)\n",
      "C:\\Users\\ubaid\\Anaconda3\\lib\\site-packages\\sklearn\\linear_model\\coordinate_descent.py:475: ConvergenceWarning: Objective did not converge. You might want to increase the number of iterations. Duality gap: 198.339470256938, tolerance: 0.10408366356363773\n",
      "  positive)\n",
      "C:\\Users\\ubaid\\Anaconda3\\lib\\site-packages\\sklearn\\linear_model\\coordinate_descent.py:475: ConvergenceWarning: Objective did not converge. You might want to increase the number of iterations. Duality gap: 197.1816557224857, tolerance: 0.1037994459256885\n",
      "  positive)\n",
      "C:\\Users\\ubaid\\Anaconda3\\lib\\site-packages\\sklearn\\linear_model\\coordinate_descent.py:475: ConvergenceWarning: Objective did not converge. You might want to increase the number of iterations. Duality gap: 170.09175053343824, tolerance: 0.09663349459119734\n",
      "  positive)\n",
      "C:\\Users\\ubaid\\Anaconda3\\lib\\site-packages\\sklearn\\linear_model\\coordinate_descent.py:475: ConvergenceWarning: Objective did not converge. You might want to increase the number of iterations. Duality gap: 193.67956238116898, tolerance: 0.1045415863819652\n",
      "  positive)\n",
      "C:\\Users\\ubaid\\Anaconda3\\lib\\site-packages\\sklearn\\linear_model\\coordinate_descent.py:475: ConvergenceWarning: Objective did not converge. You might want to increase the number of iterations. Duality gap: 196.18712505731762, tolerance: 0.1028201842955791\n",
      "  positive)\n",
      "C:\\Users\\ubaid\\Anaconda3\\lib\\site-packages\\sklearn\\linear_model\\coordinate_descent.py:475: ConvergenceWarning: Objective did not converge. You might want to increase the number of iterations. Duality gap: 201.34107125949282, tolerance: 0.10408366356363773\n",
      "  positive)\n",
      "C:\\Users\\ubaid\\Anaconda3\\lib\\site-packages\\sklearn\\linear_model\\coordinate_descent.py:475: ConvergenceWarning: Objective did not converge. You might want to increase the number of iterations. Duality gap: 200.20963201697137, tolerance: 0.1037994459256885\n",
      "  positive)\n",
      "C:\\Users\\ubaid\\Anaconda3\\lib\\site-packages\\sklearn\\linear_model\\coordinate_descent.py:475: ConvergenceWarning: Objective did not converge. You might want to increase the number of iterations. Duality gap: 173.13599143219608, tolerance: 0.09663349459119734\n",
      "  positive)\n",
      "C:\\Users\\ubaid\\Anaconda3\\lib\\site-packages\\sklearn\\linear_model\\coordinate_descent.py:475: ConvergenceWarning: Objective did not converge. You might want to increase the number of iterations. Duality gap: 196.98684389620772, tolerance: 0.1045415863819652\n",
      "  positive)\n",
      "C:\\Users\\ubaid\\Anaconda3\\lib\\site-packages\\sklearn\\linear_model\\coordinate_descent.py:475: ConvergenceWarning: Objective did not converge. You might want to increase the number of iterations. Duality gap: 199.4200779624243, tolerance: 0.1028201842955791\n",
      "  positive)\n",
      "C:\\Users\\ubaid\\Anaconda3\\lib\\site-packages\\sklearn\\linear_model\\coordinate_descent.py:475: ConvergenceWarning: Objective did not converge. You might want to increase the number of iterations. Duality gap: 204.57248316227452, tolerance: 0.10408366356363773\n",
      "  positive)\n",
      "C:\\Users\\ubaid\\Anaconda3\\lib\\site-packages\\sklearn\\linear_model\\coordinate_descent.py:475: ConvergenceWarning: Objective did not converge. You might want to increase the number of iterations. Duality gap: 203.4664346213441, tolerance: 0.1037994459256885\n",
      "  positive)\n",
      "C:\\Users\\ubaid\\Anaconda3\\lib\\site-packages\\sklearn\\linear_model\\coordinate_descent.py:475: ConvergenceWarning: Objective did not converge. You might want to increase the number of iterations. Duality gap: 176.40454953034896, tolerance: 0.09663349459119734\n",
      "  positive)\n",
      "C:\\Users\\ubaid\\Anaconda3\\lib\\site-packages\\sklearn\\linear_model\\coordinate_descent.py:475: ConvergenceWarning: Objective did not converge. You might want to increase the number of iterations. Duality gap: 200.41313698650282, tolerance: 0.1045415863819652\n",
      "  positive)\n",
      "C:\\Users\\ubaid\\Anaconda3\\lib\\site-packages\\sklearn\\linear_model\\coordinate_descent.py:475: ConvergenceWarning: Objective did not converge. You might want to increase the number of iterations. Duality gap: 202.77014318280268, tolerance: 0.1028201842955791\n",
      "  positive)\n",
      "C:\\Users\\ubaid\\Anaconda3\\lib\\site-packages\\sklearn\\linear_model\\coordinate_descent.py:475: ConvergenceWarning: Objective did not converge. You might want to increase the number of iterations. Duality gap: 207.91766661782407, tolerance: 0.10408366356363773\n",
      "  positive)\n",
      "C:\\Users\\ubaid\\Anaconda3\\lib\\site-packages\\sklearn\\linear_model\\coordinate_descent.py:475: ConvergenceWarning: Objective did not converge. You might want to increase the number of iterations. Duality gap: 206.8250350538641, tolerance: 0.1037994459256885\n",
      "  positive)\n",
      "C:\\Users\\ubaid\\Anaconda3\\lib\\site-packages\\sklearn\\linear_model\\coordinate_descent.py:475: ConvergenceWarning: Objective did not converge. You might want to increase the number of iterations. Duality gap: 179.77448055177192, tolerance: 0.09663349459119734\n",
      "  positive)\n",
      "C:\\Users\\ubaid\\Anaconda3\\lib\\site-packages\\sklearn\\linear_model\\coordinate_descent.py:475: ConvergenceWarning: Objective did not converge. You might want to increase the number of iterations. Duality gap: 203.7471897369286, tolerance: 0.1045415863819652\n",
      "  positive)\n",
      "C:\\Users\\ubaid\\Anaconda3\\lib\\site-packages\\sklearn\\linear_model\\coordinate_descent.py:475: ConvergenceWarning: Objective did not converge. You might want to increase the number of iterations. Duality gap: 206.0308357562354, tolerance: 0.1028201842955791\n",
      "  positive)\n",
      "C:\\Users\\ubaid\\Anaconda3\\lib\\site-packages\\sklearn\\linear_model\\coordinate_descent.py:475: ConvergenceWarning: Objective did not converge. You might want to increase the number of iterations. Duality gap: 211.14979442126403, tolerance: 0.10408366356363773\n",
      "  positive)\n",
      "C:\\Users\\ubaid\\Anaconda3\\lib\\site-packages\\sklearn\\linear_model\\coordinate_descent.py:475: ConvergenceWarning: Objective did not converge. You might want to increase the number of iterations. Duality gap: 210.09535879091953, tolerance: 0.1037994459256885\n",
      "  positive)\n",
      "C:\\Users\\ubaid\\Anaconda3\\lib\\site-packages\\sklearn\\linear_model\\coordinate_descent.py:475: ConvergenceWarning: Objective did not converge. You might want to increase the number of iterations. Duality gap: 183.04777356959247, tolerance: 0.09663349459119734\n",
      "  positive)\n",
      "C:\\Users\\ubaid\\Anaconda3\\lib\\site-packages\\sklearn\\linear_model\\coordinate_descent.py:475: ConvergenceWarning: Objective did not converge. You might want to increase the number of iterations. Duality gap: 206.667434199922, tolerance: 0.1045415863819652\n",
      "  positive)\n",
      "C:\\Users\\ubaid\\Anaconda3\\lib\\site-packages\\sklearn\\linear_model\\coordinate_descent.py:475: ConvergenceWarning: Objective did not converge. You might want to increase the number of iterations. Duality gap: 208.8420529881397, tolerance: 0.1028201842955791\n",
      "  positive)\n",
      "C:\\Users\\ubaid\\Anaconda3\\lib\\site-packages\\sklearn\\linear_model\\coordinate_descent.py:475: ConvergenceWarning: Objective did not converge. You might want to increase the number of iterations. Duality gap: 213.88887151485014, tolerance: 0.10408366356363773\n",
      "  positive)\n",
      "C:\\Users\\ubaid\\Anaconda3\\lib\\site-packages\\sklearn\\linear_model\\coordinate_descent.py:475: ConvergenceWarning: Objective did not converge. You might want to increase the number of iterations. Duality gap: 212.9641765093333, tolerance: 0.1037994459256885\n",
      "  positive)\n",
      "C:\\Users\\ubaid\\Anaconda3\\lib\\site-packages\\sklearn\\linear_model\\coordinate_descent.py:475: ConvergenceWarning: Objective did not converge. You might want to increase the number of iterations. Duality gap: 185.84197059501574, tolerance: 0.09663349459119734\n",
      "  positive)\n"
     ]
    },
    {
     "name": "stderr",
     "output_type": "stream",
     "text": [
      "C:\\Users\\ubaid\\Anaconda3\\lib\\site-packages\\sklearn\\linear_model\\coordinate_descent.py:475: ConvergenceWarning: Objective did not converge. You might want to increase the number of iterations. Duality gap: 208.8702049853353, tolerance: 0.1045415863819652\n",
      "  positive)\n",
      "C:\\Users\\ubaid\\Anaconda3\\lib\\site-packages\\sklearn\\linear_model\\coordinate_descent.py:475: ConvergenceWarning: Objective did not converge. You might want to increase the number of iterations. Duality gap: 211.12385773023524, tolerance: 0.1028201842955791\n",
      "  positive)\n",
      "C:\\Users\\ubaid\\Anaconda3\\lib\\site-packages\\sklearn\\linear_model\\coordinate_descent.py:475: ConvergenceWarning: Objective did not converge. You might want to increase the number of iterations. Duality gap: 216.08880522739975, tolerance: 0.10408366356363773\n",
      "  positive)\n",
      "C:\\Users\\ubaid\\Anaconda3\\lib\\site-packages\\sklearn\\linear_model\\coordinate_descent.py:475: ConvergenceWarning: Objective did not converge. You might want to increase the number of iterations. Duality gap: 215.12515343348775, tolerance: 0.1037994459256885\n",
      "  positive)\n",
      "C:\\Users\\ubaid\\Anaconda3\\lib\\site-packages\\sklearn\\linear_model\\coordinate_descent.py:475: ConvergenceWarning: Objective did not converge. You might want to increase the number of iterations. Duality gap: 187.9988426775699, tolerance: 0.09663349459119734\n",
      "  positive)\n",
      "C:\\Users\\ubaid\\Anaconda3\\lib\\site-packages\\sklearn\\linear_model\\coordinate_descent.py:475: ConvergenceWarning: Objective did not converge. You might want to increase the number of iterations. Duality gap: 210.969107808289, tolerance: 0.1045415863819652\n",
      "  positive)\n",
      "C:\\Users\\ubaid\\Anaconda3\\lib\\site-packages\\sklearn\\linear_model\\coordinate_descent.py:475: ConvergenceWarning: Objective did not converge. You might want to increase the number of iterations. Duality gap: 213.47637423606048, tolerance: 0.1028201842955791\n",
      "  positive)\n",
      "C:\\Users\\ubaid\\Anaconda3\\lib\\site-packages\\sklearn\\linear_model\\coordinate_descent.py:475: ConvergenceWarning: Objective did not converge. You might want to increase the number of iterations. Duality gap: 218.20220615446817, tolerance: 0.10408366356363773\n",
      "  positive)\n",
      "C:\\Users\\ubaid\\Anaconda3\\lib\\site-packages\\sklearn\\linear_model\\coordinate_descent.py:475: ConvergenceWarning: Objective did not converge. You might want to increase the number of iterations. Duality gap: 217.12865566342091, tolerance: 0.1037994459256885\n",
      "  positive)\n",
      "C:\\Users\\ubaid\\Anaconda3\\lib\\site-packages\\sklearn\\linear_model\\coordinate_descent.py:475: ConvergenceWarning: Objective did not converge. You might want to increase the number of iterations. Duality gap: 190.17032219323278, tolerance: 0.09663349459119734\n",
      "  positive)\n",
      "C:\\Users\\ubaid\\Anaconda3\\lib\\site-packages\\sklearn\\linear_model\\coordinate_descent.py:475: ConvergenceWarning: Objective did not converge. You might want to increase the number of iterations. Duality gap: 212.73329134333645, tolerance: 0.1045415863819652\n",
      "  positive)\n",
      "C:\\Users\\ubaid\\Anaconda3\\lib\\site-packages\\sklearn\\linear_model\\coordinate_descent.py:475: ConvergenceWarning: Objective did not converge. You might want to increase the number of iterations. Duality gap: 215.54618658967166, tolerance: 0.1028201842955791\n",
      "  positive)\n",
      "C:\\Users\\ubaid\\Anaconda3\\lib\\site-packages\\sklearn\\linear_model\\coordinate_descent.py:475: ConvergenceWarning: Objective did not converge. You might want to increase the number of iterations. Duality gap: 220.03396873278, tolerance: 0.10408366356363773\n",
      "  positive)\n",
      "C:\\Users\\ubaid\\Anaconda3\\lib\\site-packages\\sklearn\\linear_model\\coordinate_descent.py:475: ConvergenceWarning: Objective did not converge. You might want to increase the number of iterations. Duality gap: 218.81212875244245, tolerance: 0.1037994459256885\n",
      "  positive)\n",
      "C:\\Users\\ubaid\\Anaconda3\\lib\\site-packages\\sklearn\\linear_model\\coordinate_descent.py:475: ConvergenceWarning: Objective did not converge. You might want to increase the number of iterations. Duality gap: 192.05990267840394, tolerance: 0.09663349459119734\n",
      "  positive)\n",
      "C:\\Users\\ubaid\\Anaconda3\\lib\\site-packages\\sklearn\\linear_model\\coordinate_descent.py:475: ConvergenceWarning: Objective did not converge. You might want to increase the number of iterations. Duality gap: 221.15761663469377, tolerance: 0.10408366356363773\n",
      "  positive)\n",
      "C:\\Users\\ubaid\\Anaconda3\\lib\\site-packages\\sklearn\\linear_model\\coordinate_descent.py:475: ConvergenceWarning: Objective did not converge. You might want to increase the number of iterations. Duality gap: 193.23436885120674, tolerance: 0.09663349459119734\n",
      "  positive)\n",
      "C:\\Users\\ubaid\\Anaconda3\\lib\\site-packages\\sklearn\\model_selection\\_search.py:794: DeprecationWarning: `np.int` is a deprecated alias for the builtin `int`. To silence this warning, use `int` by itself. Doing this will not modify any behavior and is safe. When replacing `np.int`, you may wish to use e.g. `np.int64` or `np.int32` to specify the precision. If you wish to review your current use, check the release note link for additional information.\n",
      "Deprecated in NumPy 1.20; for more details and guidance: https://numpy.org/devdocs/release/1.20.0-notes.html#deprecations\n",
      "  dtype=np.int)\n"
     ]
    },
    {
     "name": "stdout",
     "output_type": "stream",
     "text": [
      "Best Alpha: 1.9630406500402726e-05\n",
      "Best Mean Squared Error: 0.11938239828811746\n"
     ]
    },
    {
     "name": "stderr",
     "output_type": "stream",
     "text": [
      "C:\\Users\\ubaid\\Anaconda3\\lib\\site-packages\\sklearn\\linear_model\\coordinate_descent.py:475: ConvergenceWarning: Objective did not converge. You might want to increase the number of iterations. Duality gap: 212.86412858398373, tolerance: 0.1279768547119863\n",
      "  positive)\n"
     ]
    }
   ],
   "source": [
    "from sklearn.linear_model import Lasso\n",
    "from sklearn.model_selection import GridSearchCV\n",
    "import numpy as np\n",
    "\n",
    "# Create a Lasso Regression model\n",
    "lasso_model = Lasso()\n",
    "\n",
    "# Define a range of alpha values to search over (e.g., a logarithmic scale)\n",
    "alphas = np.logspace(-6, 2, 100)\n",
    "\n",
    "# Create a parameter grid with the alpha values\n",
    "param_grid = {'alpha': alphas}\n",
    "\n",
    "# Create a grid search object\n",
    "grid_search = GridSearchCV(estimator=lasso_model, param_grid=param_grid, cv=5, scoring='neg_mean_squared_error')\n",
    "\n",
    "# Fit the grid search to your data\n",
    "grid_search.fit(X, y)  # Replace X and y with your predictor and target variables\n",
    "\n",
    "# Get the best alpha and corresponding mean squared error\n",
    "best_alpha = grid_search.best_params_['alpha']\n",
    "best_mse = -grid_search.best_score_  # Negate to get positive MSE\n",
    "\n",
    "print(f'Best Alpha: {best_alpha}')\n",
    "print(f'Best Mean Squared Error: {best_mse}')\n"
   ]
  },
  {
   "cell_type": "code",
   "execution_count": null,
   "metadata": {},
   "outputs": [],
   "source": []
  },
  {
   "cell_type": "code",
   "execution_count": null,
   "metadata": {},
   "outputs": [],
   "source": []
  },
  {
   "cell_type": "code",
   "execution_count": null,
   "metadata": {},
   "outputs": [],
   "source": []
  },
  {
   "cell_type": "code",
   "execution_count": null,
   "metadata": {},
   "outputs": [],
   "source": []
  },
  {
   "cell_type": "code",
   "execution_count": null,
   "metadata": {},
   "outputs": [],
   "source": []
  },
  {
   "cell_type": "code",
   "execution_count": 194,
   "metadata": {},
   "outputs": [
    {
     "data": {
      "text/plain": [
       "0.6560934773411753"
      ]
     },
     "execution_count": 194,
     "metadata": {},
     "output_type": "execute_result"
    }
   ],
   "source": [
    "model.score(X_test,y_test)"
   ]
  },
  {
   "cell_type": "code",
   "execution_count": null,
   "metadata": {},
   "outputs": [],
   "source": []
  },
  {
   "cell_type": "code",
   "execution_count": null,
   "metadata": {},
   "outputs": [],
   "source": []
  },
  {
   "cell_type": "code",
   "execution_count": null,
   "metadata": {},
   "outputs": [],
   "source": []
  }
 ],
 "metadata": {
  "kernelspec": {
   "display_name": "Python 3",
   "language": "python",
   "name": "python3"
  },
  "language_info": {
   "codemirror_mode": {
    "name": "ipython",
    "version": 3
   },
   "file_extension": ".py",
   "mimetype": "text/x-python",
   "name": "python",
   "nbconvert_exporter": "python",
   "pygments_lexer": "ipython3",
   "version": "3.7.4"
  }
 },
 "nbformat": 4,
 "nbformat_minor": 2
}
